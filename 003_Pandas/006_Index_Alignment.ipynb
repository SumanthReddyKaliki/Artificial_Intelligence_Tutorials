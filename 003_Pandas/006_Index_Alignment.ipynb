{
 "cells": [
  {
   "cell_type": "markdown",
   "metadata": {},
   "source": [
    "# Introduction\n",
    "\n",
    "When multiple Series or DataFrames are combined in some way, each dimension of the data automatically aligns on each axis first before any computation happens. This silent and automatic alignment of axes can cause tremendous confusion for the uninitiated, but it gives great flexibility to the power user. This chapter explores the Index object in-depth before showcasing a variety of recipes that take advantage of its automatic alignment."
   ]
  },
  {
   "cell_type": "code",
   "execution_count": 1,
   "metadata": {},
   "outputs": [],
   "source": [
    "import pandas as pd\n",
    "import numpy as np"
   ]
  },
  {
   "cell_type": "markdown",
   "metadata": {},
   "source": [
    "# Examining the index object\n",
    "\n",
    "As was discussed in Chapter 1, Pandas Foundations, each axis of Series and DataFrames has an Index object that labels the values. There are many different types of Index objects, but they all share the same common behavior. All Index objects, except for the special MultiIndex, are single-dimensional data structures that combine the functionality and implementation of Python sets and NumPy ndarrays.\n",
    "\n",
    "### Getting ready\n",
    "\n",
    "In this recipe, we will examine the column index of the college dataset and explore much of its functionality.\n",
    "\n",
    "### How to do it...\n",
    "\n",
    "Read in the college dataset, assign for the column index to a variable, and output it:"
   ]
  },
  {
   "cell_type": "code",
   "execution_count": 2,
   "metadata": {},
   "outputs": [
    {
     "data": {
      "text/plain": [
       "Index(['INSTNM', 'CITY', 'STABBR', 'HBCU', 'MENONLY', 'WOMENONLY', 'RELAFFIL',\n",
       "       'SATVRMID', 'SATMTMID', 'DISTANCEONLY', 'UGDS', 'UGDS_WHITE',\n",
       "       'UGDS_BLACK', 'UGDS_HISP', 'UGDS_ASIAN', 'UGDS_AIAN', 'UGDS_NHPI',\n",
       "       'UGDS_2MOR', 'UGDS_NRA', 'UGDS_UNKN', 'PPTUG_EF', 'CURROPER', 'PCTPELL',\n",
       "       'PCTFLOAN', 'UG25ABV', 'MD_EARN_WNE_P10', 'GRAD_DEBT_MDN_SUPP'],\n",
       "      dtype='object')"
      ]
     },
     "execution_count": 2,
     "metadata": {},
     "output_type": "execute_result"
    }
   ],
   "source": [
    "college = pd.read_csv('data/college.csv')\n",
    "columns = college.columns\n",
    "columns"
   ]
  },
  {
   "cell_type": "markdown",
   "metadata": {},
   "source": [
    "Use the values attribute to access the underlying NumPy array:\n"
   ]
  },
  {
   "cell_type": "code",
   "execution_count": 3,
   "metadata": {},
   "outputs": [
    {
     "data": {
      "text/plain": [
       "array(['INSTNM', 'CITY', 'STABBR', 'HBCU', 'MENONLY', 'WOMENONLY',\n",
       "       'RELAFFIL', 'SATVRMID', 'SATMTMID', 'DISTANCEONLY', 'UGDS',\n",
       "       'UGDS_WHITE', 'UGDS_BLACK', 'UGDS_HISP', 'UGDS_ASIAN', 'UGDS_AIAN',\n",
       "       'UGDS_NHPI', 'UGDS_2MOR', 'UGDS_NRA', 'UGDS_UNKN', 'PPTUG_EF',\n",
       "       'CURROPER', 'PCTPELL', 'PCTFLOAN', 'UG25ABV', 'MD_EARN_WNE_P10',\n",
       "       'GRAD_DEBT_MDN_SUPP'], dtype=object)"
      ]
     },
     "execution_count": 3,
     "metadata": {},
     "output_type": "execute_result"
    }
   ],
   "source": [
    "columns.values"
   ]
  },
  {
   "cell_type": "markdown",
   "metadata": {},
   "source": [
    "Select items from the index by integer location with scalars, lists, or slices:"
   ]
  },
  {
   "cell_type": "code",
   "execution_count": 4,
   "metadata": {},
   "outputs": [
    {
     "data": {
      "text/plain": [
       "'WOMENONLY'"
      ]
     },
     "execution_count": 4,
     "metadata": {},
     "output_type": "execute_result"
    }
   ],
   "source": [
    "columns[5]"
   ]
  },
  {
   "cell_type": "code",
   "execution_count": 5,
   "metadata": {},
   "outputs": [
    {
     "data": {
      "text/plain": [
       "Index(['CITY', 'SATMTMID', 'UGDS'], dtype='object')"
      ]
     },
     "execution_count": 5,
     "metadata": {},
     "output_type": "execute_result"
    }
   ],
   "source": [
    "columns[[1,8,10]]"
   ]
  },
  {
   "cell_type": "code",
   "execution_count": 6,
   "metadata": {},
   "outputs": [
    {
     "data": {
      "text/plain": [
       "Index(['PPTUG_EF', 'CURROPER', 'PCTPELL'], dtype='object')"
      ]
     },
     "execution_count": 6,
     "metadata": {},
     "output_type": "execute_result"
    }
   ],
   "source": [
    "columns[-7:-4]"
   ]
  },
  {
   "cell_type": "markdown",
   "metadata": {},
   "source": [
    "Indexes share many of the same methods as Series and DataFrames:\n"
   ]
  },
  {
   "cell_type": "code",
   "execution_count": 7,
   "metadata": {},
   "outputs": [
    {
     "data": {
      "text/plain": [
       "('CITY', 'WOMENONLY', 0)"
      ]
     },
     "execution_count": 7,
     "metadata": {},
     "output_type": "execute_result"
    }
   ],
   "source": [
    "columns.min(), columns.max(), columns.isnull().sum()"
   ]
  },
  {
   "cell_type": "markdown",
   "metadata": {},
   "source": [
    "Use basic arithmetic and comparison operators directly on Index objects:"
   ]
  },
  {
   "cell_type": "code",
   "execution_count": 8,
   "metadata": {},
   "outputs": [
    {
     "data": {
      "text/plain": [
       "Index(['INSTNM_A', 'CITY_A', 'STABBR_A', 'HBCU_A', 'MENONLY_A', 'WOMENONLY_A',\n",
       "       'RELAFFIL_A', 'SATVRMID_A', 'SATMTMID_A', 'DISTANCEONLY_A', 'UGDS_A',\n",
       "       'UGDS_WHITE_A', 'UGDS_BLACK_A', 'UGDS_HISP_A', 'UGDS_ASIAN_A',\n",
       "       'UGDS_AIAN_A', 'UGDS_NHPI_A', 'UGDS_2MOR_A', 'UGDS_NRA_A',\n",
       "       'UGDS_UNKN_A', 'PPTUG_EF_A', 'CURROPER_A', 'PCTPELL_A', 'PCTFLOAN_A',\n",
       "       'UG25ABV_A', 'MD_EARN_WNE_P10_A', 'GRAD_DEBT_MDN_SUPP_A'],\n",
       "      dtype='object')"
      ]
     },
     "execution_count": 8,
     "metadata": {},
     "output_type": "execute_result"
    }
   ],
   "source": [
    "columns + '_A'"
   ]
  },
  {
   "cell_type": "code",
   "execution_count": 9,
   "metadata": {},
   "outputs": [
    {
     "data": {
      "text/plain": [
       "array([ True, False,  True,  True,  True,  True,  True,  True,  True,\n",
       "       False,  True,  True,  True,  True,  True,  True,  True,  True,\n",
       "        True,  True,  True, False,  True,  True,  True,  True,  True])"
      ]
     },
     "execution_count": 9,
     "metadata": {},
     "output_type": "execute_result"
    }
   ],
   "source": [
    "columns > 'G'"
   ]
  },
  {
   "cell_type": "markdown",
   "metadata": {},
   "source": [
    "Trying to change an Index value directly after its creation fails. Indexes are immutable objects:"
   ]
  },
  {
   "cell_type": "code",
   "execution_count": 10,
   "metadata": {},
   "outputs": [
    {
     "ename": "TypeError",
     "evalue": "Index does not support mutable operations",
     "output_type": "error",
     "traceback": [
      "\u001b[1;31m---------------------------------------------------------------------------\u001b[0m",
      "\u001b[1;31mTypeError\u001b[0m                                 Traceback (most recent call last)",
      "Cell \u001b[1;32mIn[10], line 1\u001b[0m\n\u001b[1;32m----> 1\u001b[0m columns[\u001b[38;5;241m1\u001b[39m] \u001b[38;5;241m=\u001b[39m \u001b[38;5;124m'\u001b[39m\u001b[38;5;124mcity\u001b[39m\u001b[38;5;124m'\u001b[39m\n",
      "File \u001b[1;32m~\\anaconda3\\envs\\stablediffusion\\lib\\site-packages\\pandas\\core\\indexes\\base.py:5348\u001b[0m, in \u001b[0;36mIndex.__setitem__\u001b[1;34m(self, key, value)\u001b[0m\n\u001b[0;32m   5346\u001b[0m \u001b[38;5;129m@final\u001b[39m\n\u001b[0;32m   5347\u001b[0m \u001b[38;5;28;01mdef\u001b[39;00m \u001b[38;5;21m__setitem__\u001b[39m(\u001b[38;5;28mself\u001b[39m, key, value) \u001b[38;5;241m-\u001b[39m\u001b[38;5;241m>\u001b[39m \u001b[38;5;28;01mNone\u001b[39;00m:\n\u001b[1;32m-> 5348\u001b[0m     \u001b[38;5;28;01mraise\u001b[39;00m \u001b[38;5;167;01mTypeError\u001b[39;00m(\u001b[38;5;124m\"\u001b[39m\u001b[38;5;124mIndex does not support mutable operations\u001b[39m\u001b[38;5;124m\"\u001b[39m)\n",
      "\u001b[1;31mTypeError\u001b[0m: Index does not support mutable operations"
     ]
    }
   ],
   "source": [
    "columns[1] = 'city'"
   ]
  },
  {
   "cell_type": "markdown",
   "metadata": {},
   "source": [
    "As you can see from many of the Index object operations, it appears to have quite a bit in common with both Series and ndarrays. One of the biggest differences comes in step 6. Indexes are immutable and their values cannot be changed once created.\n",
    "\n",
    "### There's more...\n",
    "\n",
    "Indexes support the set operations, union, intersection, difference, and symmetric difference:"
   ]
  },
  {
   "cell_type": "code",
   "execution_count": 11,
   "metadata": {},
   "outputs": [
    {
     "data": {
      "text/plain": [
       "Index(['INSTNM', 'CITY', 'STABBR', 'HBCU'], dtype='object')"
      ]
     },
     "execution_count": 11,
     "metadata": {},
     "output_type": "execute_result"
    }
   ],
   "source": [
    "c1 = columns[:4]\n",
    "c1"
   ]
  },
  {
   "cell_type": "code",
   "execution_count": 12,
   "metadata": {},
   "outputs": [
    {
     "data": {
      "text/plain": [
       "Index(['STABBR', 'HBCU', 'MENONLY'], dtype='object')"
      ]
     },
     "execution_count": 12,
     "metadata": {},
     "output_type": "execute_result"
    }
   ],
   "source": [
    "c2 = columns[2:5]\n",
    "c2"
   ]
  },
  {
   "cell_type": "code",
   "execution_count": 13,
   "metadata": {},
   "outputs": [
    {
     "data": {
      "text/plain": [
       "Index(['CITY', 'HBCU', 'INSTNM', 'MENONLY', 'STABBR'], dtype='object')"
      ]
     },
     "execution_count": 13,
     "metadata": {},
     "output_type": "execute_result"
    }
   ],
   "source": [
    "c1.union(c2)"
   ]
  },
  {
   "cell_type": "code",
   "execution_count": 14,
   "metadata": {},
   "outputs": [
    {
     "ename": "ValueError",
     "evalue": "operands could not be broadcast together with shapes (4,) (3,) ",
     "output_type": "error",
     "traceback": [
      "\u001b[1;31m---------------------------------------------------------------------------\u001b[0m",
      "\u001b[1;31mValueError\u001b[0m                                Traceback (most recent call last)",
      "Cell \u001b[1;32mIn[14], line 1\u001b[0m\n\u001b[1;32m----> 1\u001b[0m \u001b[43mc1\u001b[49m\u001b[43m \u001b[49m\u001b[38;5;241;43m|\u001b[39;49m\u001b[43m \u001b[49m\u001b[43mc2\u001b[49m\n",
      "File \u001b[1;32m~\\anaconda3\\envs\\stablediffusion\\lib\\site-packages\\pandas\\core\\ops\\common.py:76\u001b[0m, in \u001b[0;36m_unpack_zerodim_and_defer.<locals>.new_method\u001b[1;34m(self, other)\u001b[0m\n\u001b[0;32m     72\u001b[0m             \u001b[38;5;28;01mreturn\u001b[39;00m \u001b[38;5;28mNotImplemented\u001b[39m\n\u001b[0;32m     74\u001b[0m other \u001b[38;5;241m=\u001b[39m item_from_zerodim(other)\n\u001b[1;32m---> 76\u001b[0m \u001b[38;5;28;01mreturn\u001b[39;00m \u001b[43mmethod\u001b[49m\u001b[43m(\u001b[49m\u001b[38;5;28;43mself\u001b[39;49m\u001b[43m,\u001b[49m\u001b[43m \u001b[49m\u001b[43mother\u001b[49m\u001b[43m)\u001b[49m\n",
      "File \u001b[1;32m~\\anaconda3\\envs\\stablediffusion\\lib\\site-packages\\pandas\\core\\arraylike.py:78\u001b[0m, in \u001b[0;36mOpsMixin.__or__\u001b[1;34m(self, other)\u001b[0m\n\u001b[0;32m     76\u001b[0m \u001b[38;5;129m@unpack_zerodim_and_defer\u001b[39m(\u001b[38;5;124m\"\u001b[39m\u001b[38;5;124m__or__\u001b[39m\u001b[38;5;124m\"\u001b[39m)\n\u001b[0;32m     77\u001b[0m \u001b[38;5;28;01mdef\u001b[39;00m \u001b[38;5;21m__or__\u001b[39m(\u001b[38;5;28mself\u001b[39m, other):\n\u001b[1;32m---> 78\u001b[0m     \u001b[38;5;28;01mreturn\u001b[39;00m \u001b[38;5;28;43mself\u001b[39;49m\u001b[38;5;241;43m.\u001b[39;49m\u001b[43m_logical_method\u001b[49m\u001b[43m(\u001b[49m\u001b[43mother\u001b[49m\u001b[43m,\u001b[49m\u001b[43m \u001b[49m\u001b[43moperator\u001b[49m\u001b[38;5;241;43m.\u001b[39;49m\u001b[43mor_\u001b[49m\u001b[43m)\u001b[49m\n",
      "File \u001b[1;32m~\\anaconda3\\envs\\stablediffusion\\lib\\site-packages\\pandas\\core\\indexes\\base.py:7143\u001b[0m, in \u001b[0;36mIndex._logical_method\u001b[1;34m(self, other, op)\u001b[0m\n\u001b[0;32m   7140\u001b[0m lvalues \u001b[38;5;241m=\u001b[39m \u001b[38;5;28mself\u001b[39m\u001b[38;5;241m.\u001b[39m_values\n\u001b[0;32m   7141\u001b[0m rvalues \u001b[38;5;241m=\u001b[39m extract_array(other, extract_numpy\u001b[38;5;241m=\u001b[39m\u001b[38;5;28;01mTrue\u001b[39;00m, extract_range\u001b[38;5;241m=\u001b[39m\u001b[38;5;28;01mTrue\u001b[39;00m)\n\u001b[1;32m-> 7143\u001b[0m res_values \u001b[38;5;241m=\u001b[39m \u001b[43mops\u001b[49m\u001b[38;5;241;43m.\u001b[39;49m\u001b[43mlogical_op\u001b[49m\u001b[43m(\u001b[49m\u001b[43mlvalues\u001b[49m\u001b[43m,\u001b[49m\u001b[43m \u001b[49m\u001b[43mrvalues\u001b[49m\u001b[43m,\u001b[49m\u001b[43m \u001b[49m\u001b[43mop\u001b[49m\u001b[43m)\u001b[49m\n\u001b[0;32m   7144\u001b[0m \u001b[38;5;28;01mreturn\u001b[39;00m \u001b[38;5;28mself\u001b[39m\u001b[38;5;241m.\u001b[39m_construct_result(res_values, name\u001b[38;5;241m=\u001b[39mres_name)\n",
      "File \u001b[1;32m~\\anaconda3\\envs\\stablediffusion\\lib\\site-packages\\pandas\\core\\ops\\array_ops.py:456\u001b[0m, in \u001b[0;36mlogical_op\u001b[1;34m(left, right, op)\u001b[0m\n\u001b[0;32m    452\u001b[0m \u001b[38;5;28;01melse\u001b[39;00m:\n\u001b[0;32m    453\u001b[0m     \u001b[38;5;66;03m# i.e. scalar\u001b[39;00m\n\u001b[0;32m    454\u001b[0m     is_other_int_dtype \u001b[38;5;241m=\u001b[39m lib\u001b[38;5;241m.\u001b[39mis_integer(rvalues)\n\u001b[1;32m--> 456\u001b[0m res_values \u001b[38;5;241m=\u001b[39m \u001b[43mna_logical_op\u001b[49m\u001b[43m(\u001b[49m\u001b[43mlvalues\u001b[49m\u001b[43m,\u001b[49m\u001b[43m \u001b[49m\u001b[43mrvalues\u001b[49m\u001b[43m,\u001b[49m\u001b[43m \u001b[49m\u001b[43mop\u001b[49m\u001b[43m)\u001b[49m\n\u001b[0;32m    458\u001b[0m \u001b[38;5;66;03m# For int vs int `^`, `|`, `&` are bitwise operators and return\u001b[39;00m\n\u001b[0;32m    459\u001b[0m \u001b[38;5;66;03m#   integer dtypes.  Otherwise these are boolean ops\u001b[39;00m\n\u001b[0;32m    460\u001b[0m \u001b[38;5;28;01mif\u001b[39;00m \u001b[38;5;129;01mnot\u001b[39;00m (left\u001b[38;5;241m.\u001b[39mdtype\u001b[38;5;241m.\u001b[39mkind \u001b[38;5;129;01min\u001b[39;00m \u001b[38;5;124m\"\u001b[39m\u001b[38;5;124miu\u001b[39m\u001b[38;5;124m\"\u001b[39m \u001b[38;5;129;01mand\u001b[39;00m is_other_int_dtype):\n",
      "File \u001b[1;32m~\\anaconda3\\envs\\stablediffusion\\lib\\site-packages\\pandas\\core\\ops\\array_ops.py:364\u001b[0m, in \u001b[0;36mna_logical_op\u001b[1;34m(x, y, op)\u001b[0m\n\u001b[0;32m    354\u001b[0m \u001b[38;5;28;01mdef\u001b[39;00m \u001b[38;5;21mna_logical_op\u001b[39m(x: np\u001b[38;5;241m.\u001b[39mndarray, y, op):\n\u001b[0;32m    355\u001b[0m     \u001b[38;5;28;01mtry\u001b[39;00m:\n\u001b[0;32m    356\u001b[0m         \u001b[38;5;66;03m# For exposition, write:\u001b[39;00m\n\u001b[0;32m    357\u001b[0m         \u001b[38;5;66;03m#  yarr = isinstance(y, np.ndarray)\u001b[39;00m\n\u001b[1;32m   (...)\u001b[0m\n\u001b[0;32m    362\u001b[0m         \u001b[38;5;66;03m# Then Cases where this goes through without raising include:\u001b[39;00m\n\u001b[0;32m    363\u001b[0m         \u001b[38;5;66;03m#  (xint or xbool) and (yint or bool)\u001b[39;00m\n\u001b[1;32m--> 364\u001b[0m         result \u001b[38;5;241m=\u001b[39m \u001b[43mop\u001b[49m\u001b[43m(\u001b[49m\u001b[43mx\u001b[49m\u001b[43m,\u001b[49m\u001b[43m \u001b[49m\u001b[43my\u001b[49m\u001b[43m)\u001b[49m\n\u001b[0;32m    365\u001b[0m     \u001b[38;5;28;01mexcept\u001b[39;00m \u001b[38;5;167;01mTypeError\u001b[39;00m:\n\u001b[0;32m    366\u001b[0m         \u001b[38;5;28;01mif\u001b[39;00m \u001b[38;5;28misinstance\u001b[39m(y, np\u001b[38;5;241m.\u001b[39mndarray):\n\u001b[0;32m    367\u001b[0m             \u001b[38;5;66;03m# bool-bool dtype operations should be OK, should not get here\u001b[39;00m\n",
      "\u001b[1;31mValueError\u001b[0m: operands could not be broadcast together with shapes (4,) (3,) "
     ]
    }
   ],
   "source": [
    "c1 | c2"
   ]
  },
  {
   "cell_type": "code",
   "execution_count": 15,
   "metadata": {},
   "outputs": [
    {
     "data": {
      "text/plain": [
       "Index(['CITY', 'INSTNM', 'MENONLY'], dtype='object')"
      ]
     },
     "execution_count": 15,
     "metadata": {},
     "output_type": "execute_result"
    }
   ],
   "source": [
    "c1.symmetric_difference(c2)"
   ]
  },
  {
   "cell_type": "code",
   "execution_count": 16,
   "metadata": {},
   "outputs": [
    {
     "ename": "ValueError",
     "evalue": "operands could not be broadcast together with shapes (4,) (3,) ",
     "output_type": "error",
     "traceback": [
      "\u001b[1;31m---------------------------------------------------------------------------\u001b[0m",
      "\u001b[1;31mValueError\u001b[0m                                Traceback (most recent call last)",
      "Cell \u001b[1;32mIn[16], line 1\u001b[0m\n\u001b[1;32m----> 1\u001b[0m \u001b[43mc1\u001b[49m\u001b[43m \u001b[49m\u001b[38;5;241;43m^\u001b[39;49m\u001b[43m \u001b[49m\u001b[43mc2\u001b[49m\n",
      "File \u001b[1;32m~\\anaconda3\\envs\\stablediffusion\\lib\\site-packages\\pandas\\core\\ops\\common.py:76\u001b[0m, in \u001b[0;36m_unpack_zerodim_and_defer.<locals>.new_method\u001b[1;34m(self, other)\u001b[0m\n\u001b[0;32m     72\u001b[0m             \u001b[38;5;28;01mreturn\u001b[39;00m \u001b[38;5;28mNotImplemented\u001b[39m\n\u001b[0;32m     74\u001b[0m other \u001b[38;5;241m=\u001b[39m item_from_zerodim(other)\n\u001b[1;32m---> 76\u001b[0m \u001b[38;5;28;01mreturn\u001b[39;00m \u001b[43mmethod\u001b[49m\u001b[43m(\u001b[49m\u001b[38;5;28;43mself\u001b[39;49m\u001b[43m,\u001b[49m\u001b[43m \u001b[49m\u001b[43mother\u001b[49m\u001b[43m)\u001b[49m\n",
      "File \u001b[1;32m~\\anaconda3\\envs\\stablediffusion\\lib\\site-packages\\pandas\\core\\arraylike.py:86\u001b[0m, in \u001b[0;36mOpsMixin.__xor__\u001b[1;34m(self, other)\u001b[0m\n\u001b[0;32m     84\u001b[0m \u001b[38;5;129m@unpack_zerodim_and_defer\u001b[39m(\u001b[38;5;124m\"\u001b[39m\u001b[38;5;124m__xor__\u001b[39m\u001b[38;5;124m\"\u001b[39m)\n\u001b[0;32m     85\u001b[0m \u001b[38;5;28;01mdef\u001b[39;00m \u001b[38;5;21m__xor__\u001b[39m(\u001b[38;5;28mself\u001b[39m, other):\n\u001b[1;32m---> 86\u001b[0m     \u001b[38;5;28;01mreturn\u001b[39;00m \u001b[38;5;28;43mself\u001b[39;49m\u001b[38;5;241;43m.\u001b[39;49m\u001b[43m_logical_method\u001b[49m\u001b[43m(\u001b[49m\u001b[43mother\u001b[49m\u001b[43m,\u001b[49m\u001b[43m \u001b[49m\u001b[43moperator\u001b[49m\u001b[38;5;241;43m.\u001b[39;49m\u001b[43mxor\u001b[49m\u001b[43m)\u001b[49m\n",
      "File \u001b[1;32m~\\anaconda3\\envs\\stablediffusion\\lib\\site-packages\\pandas\\core\\indexes\\base.py:7143\u001b[0m, in \u001b[0;36mIndex._logical_method\u001b[1;34m(self, other, op)\u001b[0m\n\u001b[0;32m   7140\u001b[0m lvalues \u001b[38;5;241m=\u001b[39m \u001b[38;5;28mself\u001b[39m\u001b[38;5;241m.\u001b[39m_values\n\u001b[0;32m   7141\u001b[0m rvalues \u001b[38;5;241m=\u001b[39m extract_array(other, extract_numpy\u001b[38;5;241m=\u001b[39m\u001b[38;5;28;01mTrue\u001b[39;00m, extract_range\u001b[38;5;241m=\u001b[39m\u001b[38;5;28;01mTrue\u001b[39;00m)\n\u001b[1;32m-> 7143\u001b[0m res_values \u001b[38;5;241m=\u001b[39m \u001b[43mops\u001b[49m\u001b[38;5;241;43m.\u001b[39;49m\u001b[43mlogical_op\u001b[49m\u001b[43m(\u001b[49m\u001b[43mlvalues\u001b[49m\u001b[43m,\u001b[49m\u001b[43m \u001b[49m\u001b[43mrvalues\u001b[49m\u001b[43m,\u001b[49m\u001b[43m \u001b[49m\u001b[43mop\u001b[49m\u001b[43m)\u001b[49m\n\u001b[0;32m   7144\u001b[0m \u001b[38;5;28;01mreturn\u001b[39;00m \u001b[38;5;28mself\u001b[39m\u001b[38;5;241m.\u001b[39m_construct_result(res_values, name\u001b[38;5;241m=\u001b[39mres_name)\n",
      "File \u001b[1;32m~\\anaconda3\\envs\\stablediffusion\\lib\\site-packages\\pandas\\core\\ops\\array_ops.py:456\u001b[0m, in \u001b[0;36mlogical_op\u001b[1;34m(left, right, op)\u001b[0m\n\u001b[0;32m    452\u001b[0m \u001b[38;5;28;01melse\u001b[39;00m:\n\u001b[0;32m    453\u001b[0m     \u001b[38;5;66;03m# i.e. scalar\u001b[39;00m\n\u001b[0;32m    454\u001b[0m     is_other_int_dtype \u001b[38;5;241m=\u001b[39m lib\u001b[38;5;241m.\u001b[39mis_integer(rvalues)\n\u001b[1;32m--> 456\u001b[0m res_values \u001b[38;5;241m=\u001b[39m \u001b[43mna_logical_op\u001b[49m\u001b[43m(\u001b[49m\u001b[43mlvalues\u001b[49m\u001b[43m,\u001b[49m\u001b[43m \u001b[49m\u001b[43mrvalues\u001b[49m\u001b[43m,\u001b[49m\u001b[43m \u001b[49m\u001b[43mop\u001b[49m\u001b[43m)\u001b[49m\n\u001b[0;32m    458\u001b[0m \u001b[38;5;66;03m# For int vs int `^`, `|`, `&` are bitwise operators and return\u001b[39;00m\n\u001b[0;32m    459\u001b[0m \u001b[38;5;66;03m#   integer dtypes.  Otherwise these are boolean ops\u001b[39;00m\n\u001b[0;32m    460\u001b[0m \u001b[38;5;28;01mif\u001b[39;00m \u001b[38;5;129;01mnot\u001b[39;00m (left\u001b[38;5;241m.\u001b[39mdtype\u001b[38;5;241m.\u001b[39mkind \u001b[38;5;129;01min\u001b[39;00m \u001b[38;5;124m\"\u001b[39m\u001b[38;5;124miu\u001b[39m\u001b[38;5;124m\"\u001b[39m \u001b[38;5;129;01mand\u001b[39;00m is_other_int_dtype):\n",
      "File \u001b[1;32m~\\anaconda3\\envs\\stablediffusion\\lib\\site-packages\\pandas\\core\\ops\\array_ops.py:364\u001b[0m, in \u001b[0;36mna_logical_op\u001b[1;34m(x, y, op)\u001b[0m\n\u001b[0;32m    354\u001b[0m \u001b[38;5;28;01mdef\u001b[39;00m \u001b[38;5;21mna_logical_op\u001b[39m(x: np\u001b[38;5;241m.\u001b[39mndarray, y, op):\n\u001b[0;32m    355\u001b[0m     \u001b[38;5;28;01mtry\u001b[39;00m:\n\u001b[0;32m    356\u001b[0m         \u001b[38;5;66;03m# For exposition, write:\u001b[39;00m\n\u001b[0;32m    357\u001b[0m         \u001b[38;5;66;03m#  yarr = isinstance(y, np.ndarray)\u001b[39;00m\n\u001b[1;32m   (...)\u001b[0m\n\u001b[0;32m    362\u001b[0m         \u001b[38;5;66;03m# Then Cases where this goes through without raising include:\u001b[39;00m\n\u001b[0;32m    363\u001b[0m         \u001b[38;5;66;03m#  (xint or xbool) and (yint or bool)\u001b[39;00m\n\u001b[1;32m--> 364\u001b[0m         result \u001b[38;5;241m=\u001b[39m \u001b[43mop\u001b[49m\u001b[43m(\u001b[49m\u001b[43mx\u001b[49m\u001b[43m,\u001b[49m\u001b[43m \u001b[49m\u001b[43my\u001b[49m\u001b[43m)\u001b[49m\n\u001b[0;32m    365\u001b[0m     \u001b[38;5;28;01mexcept\u001b[39;00m \u001b[38;5;167;01mTypeError\u001b[39;00m:\n\u001b[0;32m    366\u001b[0m         \u001b[38;5;28;01mif\u001b[39;00m \u001b[38;5;28misinstance\u001b[39m(y, np\u001b[38;5;241m.\u001b[39mndarray):\n\u001b[0;32m    367\u001b[0m             \u001b[38;5;66;03m# bool-bool dtype operations should be OK, should not get here\u001b[39;00m\n",
      "\u001b[1;31mValueError\u001b[0m: operands could not be broadcast together with shapes (4,) (3,) "
     ]
    }
   ],
   "source": [
    "c1 ^ c2"
   ]
  },
  {
   "cell_type": "markdown",
   "metadata": {},
   "source": [
    "Indexes share some of the same operations as Python sets. Indexes are similar to Python sets in another important way. They are (usually) implemented using hash tables, which make for extremely fast access when selecting rows or columns from a DataFrame. As they are implemented using hash tables, the values for the Index object need to be immutable such as a string, integer, or tuple just like the keys in a Python dictionary.\n",
    "\n",
    "**Note**\n",
    "\n",
    "Indexes support duplicate values, and if there happens to be a duplicate in any Index, then a hash table can no longer be used for its implementation, and object access becomes much slower."
   ]
  },
  {
   "cell_type": "markdown",
   "metadata": {},
   "source": [
    "# Producing Cartesian Product\n",
    "\n",
    "Whenever two Series or DataFrames operate with another Series or DataFrame, the indexes (both the row index and column index) of each object align first before any operation begins. This index alignment happens silently and can be very surprising for those new to pandas. This alignment always creates a Cartesian product between the indexes unless the indexes are identical.\n",
    "\n",
    "**Note**\n",
    "\n",
    "A Cartesian product is a mathematical term that usually appears in set theory. A Cartesian product between two sets is all the combinations of pairs of both sets. For example, the 52 cards in a standard playing card deck represent a Cartesian product between the 13 ranks (A, 2, 3,..., Q, K) and the four suits.\n",
    "\n",
    "### Getting ready\n",
    "\n",
    "Producing a Cartesian product isn't always the intended outcome, but it's extremely important to be aware of how and when it occurs to avoid unintended consequences. In this recipe, two Series with overlapping but non-identical indexes are added together, yielding a surprising result.\n",
    "\n",
    "### How to do it...\n",
    "\n",
    "Follow these steps to create a Cartesian product:\n",
    "\n",
    "Construct two Series that have indexes that are different but contain some of the same values:\n"
   ]
  },
  {
   "cell_type": "code",
   "execution_count": 17,
   "metadata": {},
   "outputs": [
    {
     "data": {
      "text/plain": [
       "a    0\n",
       "a    1\n",
       "a    2\n",
       "b    3\n",
       "dtype: int32"
      ]
     },
     "execution_count": 17,
     "metadata": {},
     "output_type": "execute_result"
    }
   ],
   "source": [
    "s1 = pd.Series(index=list('aaab'), data=np.arange(4))\n",
    "s1"
   ]
  },
  {
   "cell_type": "code",
   "execution_count": 18,
   "metadata": {},
   "outputs": [
    {
     "data": {
      "text/plain": [
       "c    0\n",
       "a    1\n",
       "b    2\n",
       "a    3\n",
       "b    4\n",
       "b    5\n",
       "dtype: int32"
      ]
     },
     "execution_count": 18,
     "metadata": {},
     "output_type": "execute_result"
    }
   ],
   "source": [
    "s2 = pd.Series(index=list('cababb'), data=np.arange(6))\n",
    "s2"
   ]
  },
  {
   "cell_type": "markdown",
   "metadata": {},
   "source": [
    "Add the two Series together to produce a Cartesian product:"
   ]
  },
  {
   "cell_type": "code",
   "execution_count": 19,
   "metadata": {},
   "outputs": [
    {
     "data": {
      "text/plain": [
       "a    1.0\n",
       "a    3.0\n",
       "a    2.0\n",
       "a    4.0\n",
       "a    3.0\n",
       "a    5.0\n",
       "b    5.0\n",
       "b    7.0\n",
       "b    8.0\n",
       "c    NaN\n",
       "dtype: float64"
      ]
     },
     "execution_count": 19,
     "metadata": {},
     "output_type": "execute_result"
    }
   ],
   "source": [
    "s1 + s2"
   ]
  },
  {
   "cell_type": "markdown",
   "metadata": {},
   "source": [
    "Each Series was created with the class constructor which accepts a wide variety of inputs with the simplest being a sequence of values for each of the parameters index and data.\n",
    "\n",
    "Mathematical Cartesian products are slightly different from the outcome of operating on two pandas objects. Each a label in s1 pairs up with each a label in s2. This pairing produces six a labels, three b labels, and one c label in the resulting Series. A Cartesian product happens between all identical index labels.\n",
    "\n",
    "As the element with label c is unique to Series s2, pandas defaults its value to missing, as there is no label for it to align to in s1. Pandas defaults to a missing value whenever an index label is unique to one object. This has the unfortunate consequence of changing the data type of the Series to a float, whereas each Series had only integers as values. This occurred because of NumPy's missing value object; np.nan only exists for floats but not for integers. Series and DataFrame columns must have homogeneous numeric data types; therefore, each value was converted to a float. This makes very little difference for this small dataset, but for larger datasets, this can have a significant memory impact.\n",
    "\n",
    "### There's more...\n",
    "\n",
    "An exception to the preceding example takes place when the indexes contain the same exact elements in the same order. When this occurs, a Cartesian product does not take place, and the indexes instead align by their position. Notice here that each element aligned exactly by position and that the data type remained an integer:"
   ]
  },
  {
   "cell_type": "code",
   "execution_count": 20,
   "metadata": {},
   "outputs": [
    {
     "data": {
      "text/plain": [
       "a    0\n",
       "a    2\n",
       "a    4\n",
       "b    6\n",
       "b    8\n",
       "dtype: int32"
      ]
     },
     "execution_count": 20,
     "metadata": {},
     "output_type": "execute_result"
    }
   ],
   "source": [
    "s1 = pd.Series(index=list('aaabb'), data=np.arange(5))\n",
    "s2 = pd.Series(index=list('aaabb'), data=np.arange(5))\n",
    "s1 + s2"
   ]
  },
  {
   "cell_type": "markdown",
   "metadata": {},
   "source": [
    "If the elements of the index are identical, but the order is different between the Series, a Cartesian product occurs. Let's change the order of the index in s2 and rerun the same operation:"
   ]
  },
  {
   "cell_type": "code",
   "execution_count": 21,
   "metadata": {},
   "outputs": [
    {
     "data": {
      "text/plain": [
       "a    2\n",
       "a    3\n",
       "a    4\n",
       "a    3\n",
       "a    4\n",
       "a    5\n",
       "a    4\n",
       "a    5\n",
       "a    6\n",
       "b    3\n",
       "b    4\n",
       "b    4\n",
       "b    5\n",
       "dtype: int32"
      ]
     },
     "execution_count": 21,
     "metadata": {},
     "output_type": "execute_result"
    }
   ],
   "source": [
    "s1 = pd.Series(index=list('aaabb'), data=np.arange(5))\n",
    "s2 = pd.Series(index=list('bbaaa'), data=np.arange(5))\n",
    "s1 + s2"
   ]
  },
  {
   "cell_type": "markdown",
   "metadata": {},
   "source": [
    "It is quite interesting that pandas has two drastically different outcomes for this same operation. If a Cartesian product was the only choice for pandas, then something as simple as adding DataFrame columns together would explode the number of elements returned.\n",
    "\n",
    "In this recipe, each Series had a different number of elements. Typically, array-like data structures in Python and other languages do not allow operations to take place when the operating dimensions do not contain the same number of elements. Pandas allows this to happen by aligning the indexes first before completing the operation."
   ]
  },
  {
   "cell_type": "markdown",
   "metadata": {},
   "source": [
    "# Exploding Indexes\n",
    "\n",
    "The previous recipe walked through a trivial example of two small Series being added together with unequal indexes. This problem can produce comically incorrect results when dealing with larger data.\n",
    "\n",
    "### Getting ready\n",
    "\n",
    "In this recipe, we add two larger Series that have indexes with only a few unique values but in different orders. The result will explode the number of values in the indexes.\n",
    "\n",
    "### How to do it...\n",
    "\n",
    "Read in the employee data and set the index equal to the race column:"
   ]
  },
  {
   "cell_type": "code",
   "execution_count": 22,
   "metadata": {},
   "outputs": [
    {
     "data": {
      "text/html": [
       "<div>\n",
       "<style scoped>\n",
       "    .dataframe tbody tr th:only-of-type {\n",
       "        vertical-align: middle;\n",
       "    }\n",
       "\n",
       "    .dataframe tbody tr th {\n",
       "        vertical-align: top;\n",
       "    }\n",
       "\n",
       "    .dataframe thead th {\n",
       "        text-align: right;\n",
       "    }\n",
       "</style>\n",
       "<table border=\"1\" class=\"dataframe\">\n",
       "  <thead>\n",
       "    <tr style=\"text-align: right;\">\n",
       "      <th></th>\n",
       "      <th>UNIQUE_ID</th>\n",
       "      <th>POSITION_TITLE</th>\n",
       "      <th>DEPARTMENT</th>\n",
       "      <th>BASE_SALARY</th>\n",
       "      <th>EMPLOYMENT_TYPE</th>\n",
       "      <th>GENDER</th>\n",
       "      <th>EMPLOYMENT_STATUS</th>\n",
       "      <th>HIRE_DATE</th>\n",
       "      <th>JOB_DATE</th>\n",
       "    </tr>\n",
       "    <tr>\n",
       "      <th>RACE</th>\n",
       "      <th></th>\n",
       "      <th></th>\n",
       "      <th></th>\n",
       "      <th></th>\n",
       "      <th></th>\n",
       "      <th></th>\n",
       "      <th></th>\n",
       "      <th></th>\n",
       "      <th></th>\n",
       "    </tr>\n",
       "  </thead>\n",
       "  <tbody>\n",
       "    <tr>\n",
       "      <th>Hispanic/Latino</th>\n",
       "      <td>0</td>\n",
       "      <td>ASSISTANT DIRECTOR (EX LVL)</td>\n",
       "      <td>Municipal Courts Department</td>\n",
       "      <td>121862.0</td>\n",
       "      <td>Full Time</td>\n",
       "      <td>Female</td>\n",
       "      <td>Active</td>\n",
       "      <td>2006-06-12</td>\n",
       "      <td>2012-10-13</td>\n",
       "    </tr>\n",
       "    <tr>\n",
       "      <th>Hispanic/Latino</th>\n",
       "      <td>1</td>\n",
       "      <td>LIBRARY ASSISTANT</td>\n",
       "      <td>Library</td>\n",
       "      <td>26125.0</td>\n",
       "      <td>Full Time</td>\n",
       "      <td>Female</td>\n",
       "      <td>Active</td>\n",
       "      <td>2000-07-19</td>\n",
       "      <td>2010-09-18</td>\n",
       "    </tr>\n",
       "    <tr>\n",
       "      <th>White</th>\n",
       "      <td>2</td>\n",
       "      <td>POLICE OFFICER</td>\n",
       "      <td>Houston Police Department-HPD</td>\n",
       "      <td>45279.0</td>\n",
       "      <td>Full Time</td>\n",
       "      <td>Male</td>\n",
       "      <td>Active</td>\n",
       "      <td>2015-02-03</td>\n",
       "      <td>2015-02-03</td>\n",
       "    </tr>\n",
       "    <tr>\n",
       "      <th>White</th>\n",
       "      <td>3</td>\n",
       "      <td>ENGINEER/OPERATOR</td>\n",
       "      <td>Houston Fire Department (HFD)</td>\n",
       "      <td>63166.0</td>\n",
       "      <td>Full Time</td>\n",
       "      <td>Male</td>\n",
       "      <td>Active</td>\n",
       "      <td>1982-02-08</td>\n",
       "      <td>1991-05-25</td>\n",
       "    </tr>\n",
       "    <tr>\n",
       "      <th>White</th>\n",
       "      <td>4</td>\n",
       "      <td>ELECTRICIAN</td>\n",
       "      <td>General Services Department</td>\n",
       "      <td>56347.0</td>\n",
       "      <td>Full Time</td>\n",
       "      <td>Male</td>\n",
       "      <td>Active</td>\n",
       "      <td>1989-06-19</td>\n",
       "      <td>1994-10-22</td>\n",
       "    </tr>\n",
       "  </tbody>\n",
       "</table>\n",
       "</div>"
      ],
      "text/plain": [
       "                 UNIQUE_ID               POSITION_TITLE  \\\n",
       "RACE                                                      \n",
       "Hispanic/Latino          0  ASSISTANT DIRECTOR (EX LVL)   \n",
       "Hispanic/Latino          1            LIBRARY ASSISTANT   \n",
       "White                    2               POLICE OFFICER   \n",
       "White                    3            ENGINEER/OPERATOR   \n",
       "White                    4                  ELECTRICIAN   \n",
       "\n",
       "                                    DEPARTMENT  BASE_SALARY EMPLOYMENT_TYPE  \\\n",
       "RACE                                                                          \n",
       "Hispanic/Latino    Municipal Courts Department     121862.0       Full Time   \n",
       "Hispanic/Latino                        Library      26125.0       Full Time   \n",
       "White            Houston Police Department-HPD      45279.0       Full Time   \n",
       "White            Houston Fire Department (HFD)      63166.0       Full Time   \n",
       "White              General Services Department      56347.0       Full Time   \n",
       "\n",
       "                 GENDER EMPLOYMENT_STATUS   HIRE_DATE    JOB_DATE  \n",
       "RACE                                                               \n",
       "Hispanic/Latino  Female            Active  2006-06-12  2012-10-13  \n",
       "Hispanic/Latino  Female            Active  2000-07-19  2010-09-18  \n",
       "White              Male            Active  2015-02-03  2015-02-03  \n",
       "White              Male            Active  1982-02-08  1991-05-25  \n",
       "White              Male            Active  1989-06-19  1994-10-22  "
      ]
     },
     "execution_count": 22,
     "metadata": {},
     "output_type": "execute_result"
    }
   ],
   "source": [
    "employee = pd.read_csv('data/employee.csv', index_col='RACE')\n",
    "employee.head()"
   ]
  },
  {
   "cell_type": "markdown",
   "metadata": {},
   "source": [
    "Select the BASE_SALARY column as two different Series. Check to see whether this operation actually did create two new objects:"
   ]
  },
  {
   "cell_type": "code",
   "execution_count": 23,
   "metadata": {},
   "outputs": [
    {
     "data": {
      "text/plain": [
       "True"
      ]
     },
     "execution_count": 23,
     "metadata": {},
     "output_type": "execute_result"
    }
   ],
   "source": [
    "salary1 = employee['BASE_SALARY']\n",
    "salary2 = employee['BASE_SALARY']\n",
    "salary1 is salary2"
   ]
  },
  {
   "cell_type": "markdown",
   "metadata": {},
   "source": [
    "The salary1 and salary2 variables are actually referring to the same object. This means that any change to one will change the other. To ensure that you receive a brand new copy of the data, use the copy method:"
   ]
  },
  {
   "cell_type": "code",
   "execution_count": 24,
   "metadata": {},
   "outputs": [
    {
     "data": {
      "text/plain": [
       "False"
      ]
     },
     "execution_count": 24,
     "metadata": {},
     "output_type": "execute_result"
    }
   ],
   "source": [
    "salary1 = employee['BASE_SALARY'].copy()\n",
    "salary2 = employee['BASE_SALARY'].copy()\n",
    "salary1 is salary2"
   ]
  },
  {
   "cell_type": "markdown",
   "metadata": {},
   "source": [
    "Let's change the order of the index for one of the Series by sorting it:"
   ]
  },
  {
   "cell_type": "code",
   "execution_count": 25,
   "metadata": {},
   "outputs": [
    {
     "data": {
      "text/plain": [
       "RACE\n",
       "American Indian or Alaskan Native    78355.0\n",
       "American Indian or Alaskan Native    26125.0\n",
       "American Indian or Alaskan Native    98536.0\n",
       "American Indian or Alaskan Native        NaN\n",
       "American Indian or Alaskan Native    55461.0\n",
       "Name: BASE_SALARY, dtype: float64"
      ]
     },
     "execution_count": 25,
     "metadata": {},
     "output_type": "execute_result"
    }
   ],
   "source": [
    "salary1 = salary1.sort_index()\n",
    "salary1.head()"
   ]
  },
  {
   "cell_type": "code",
   "execution_count": 26,
   "metadata": {},
   "outputs": [
    {
     "data": {
      "text/plain": [
       "RACE\n",
       "Hispanic/Latino    121862.0\n",
       "Hispanic/Latino     26125.0\n",
       "White               45279.0\n",
       "White               63166.0\n",
       "White               56347.0\n",
       "Name: BASE_SALARY, dtype: float64"
      ]
     },
     "execution_count": 26,
     "metadata": {},
     "output_type": "execute_result"
    }
   ],
   "source": [
    "salary2.head()"
   ]
  },
  {
   "cell_type": "markdown",
   "metadata": {},
   "source": [
    "Let's add these salary Series together:"
   ]
  },
  {
   "cell_type": "code",
   "execution_count": 27,
   "metadata": {},
   "outputs": [],
   "source": [
    "salary_add = salary1 + salary2"
   ]
  },
  {
   "cell_type": "code",
   "execution_count": 28,
   "metadata": {},
   "outputs": [
    {
     "data": {
      "text/plain": [
       "RACE\n",
       "American Indian or Alaskan Native    138702.0\n",
       "American Indian or Alaskan Native    156710.0\n",
       "American Indian or Alaskan Native    176891.0\n",
       "American Indian or Alaskan Native    159594.0\n",
       "American Indian or Alaskan Native    127734.0\n",
       "Name: BASE_SALARY, dtype: float64"
      ]
     },
     "execution_count": 28,
     "metadata": {},
     "output_type": "execute_result"
    }
   ],
   "source": [
    "salary_add.head()"
   ]
  },
  {
   "cell_type": "markdown",
   "metadata": {},
   "source": [
    "The operation completed successfully. Let's create one more Series of salary1 added to itself and then output the lengths of each Series. We just exploded the index from 2,000 values to more than 1 million:"
   ]
  },
  {
   "cell_type": "code",
   "execution_count": 29,
   "metadata": {},
   "outputs": [
    {
     "data": {
      "text/plain": [
       "(2000, 2000, 1175424, 2000)"
      ]
     },
     "execution_count": 29,
     "metadata": {},
     "output_type": "execute_result"
    }
   ],
   "source": [
    "salary_add1 = salary1 + salary1\n",
    "len(salary1), len(salary2), len(salary_add), len(salary_add1)"
   ]
  },
  {
   "cell_type": "markdown",
   "metadata": {},
   "source": [
    "Step 2 appears at first to create two unique objects but in fact, it creates a single object that is referred to by two different variable names. The expression employee['BASE_SALARY'], technically creates a view, and not a brand new copy. This is verified with the is operator.\n",
    "\n",
    "Note\n",
    "In pandas, a view is not a new object but just a reference to another object, usually some subset of a DataFrame. This shared object can be a cause for many issues.\n",
    "\n",
    "To ensure that both variables reference completely different objects, we use the copy Series method and again verify that they are different objects with the is operator. Step 4 uses the sort_index method to sort the Series by race. Step 5 adds these different Series together to produce some result. By just inspecting the head, it's still not clear what has been produced.\n",
    "\n",
    "Step 6 adds salary1 to itself to show a comparison between the two different Series additions. The length of all the Series in this recipe are output and we clearly see that series_add has now exploded to over one million values. A Cartesian product took place for each unique value in the index because the indexes were not exactly the same. This recipe dramatically shows how much of an impact the index can have when combining multiple Series or DataFrames.\n",
    "\n",
    "### There's more...\n",
    "\n",
    "We can verify the number of values of salary_add by doing a little mathematics. As a Cartesian product takes place between all of the same index values, we can sum the square of their individual counts. Even missing values in the index produce Cartesian products with themselves:"
   ]
  },
  {
   "cell_type": "code",
   "execution_count": 30,
   "metadata": {},
   "outputs": [
    {
     "data": {
      "text/plain": [
       "RACE\n",
       "Black or African American            700\n",
       "White                                665\n",
       "Hispanic/Latino                      480\n",
       "Asian/Pacific Islander               107\n",
       "None                                  35\n",
       "American Indian or Alaskan Native     11\n",
       "Others                                 2\n",
       "Name: count, dtype: int64"
      ]
     },
     "execution_count": 30,
     "metadata": {},
     "output_type": "execute_result"
    }
   ],
   "source": [
    "index_vc = salary1.index.fillna('None').value_counts()\n",
    "index_vc"
   ]
  },
  {
   "cell_type": "code",
   "execution_count": 31,
   "metadata": {},
   "outputs": [
    {
     "data": {
      "text/plain": [
       "1175424"
      ]
     },
     "execution_count": 31,
     "metadata": {},
     "output_type": "execute_result"
    }
   ],
   "source": [
    "index_vc.pow(2).sum()"
   ]
  },
  {
   "cell_type": "markdown",
   "metadata": {},
   "source": [
    "# New\n",
    "1. appending chunks of data\n",
    "2. scale by the max from both sides"
   ]
  },
  {
   "cell_type": "markdown",
   "metadata": {},
   "source": [
    "# Filling values with unequal indexes\n",
    "\n",
    "When two Series are added together using the plus operator and one of the index labels does not appear in the other, the resulting value is always missing. Pandas offers the add method, which provides an option to fill the missing value.\n",
    "\n",
    "### Getting ready\n",
    "\n",
    "In this recipe, we add together multiple Series from the baseball dataset with unequal indexes using the fill_value parameter of the add method to ensure that there are no missing values in the result.\n",
    "\n",
    "### How to do it...\n",
    "\n",
    "Read in the three baseball datasets and set the index as playerID:"
   ]
  },
  {
   "cell_type": "code",
   "execution_count": 32,
   "metadata": {},
   "outputs": [
    {
     "data": {
      "text/html": [
       "<div>\n",
       "<style scoped>\n",
       "    .dataframe tbody tr th:only-of-type {\n",
       "        vertical-align: middle;\n",
       "    }\n",
       "\n",
       "    .dataframe tbody tr th {\n",
       "        vertical-align: top;\n",
       "    }\n",
       "\n",
       "    .dataframe thead th {\n",
       "        text-align: right;\n",
       "    }\n",
       "</style>\n",
       "<table border=\"1\" class=\"dataframe\">\n",
       "  <thead>\n",
       "    <tr style=\"text-align: right;\">\n",
       "      <th></th>\n",
       "      <th>yearID</th>\n",
       "      <th>stint</th>\n",
       "      <th>teamID</th>\n",
       "      <th>lgID</th>\n",
       "      <th>G</th>\n",
       "      <th>AB</th>\n",
       "      <th>R</th>\n",
       "      <th>H</th>\n",
       "      <th>2B</th>\n",
       "      <th>3B</th>\n",
       "      <th>...</th>\n",
       "      <th>RBI</th>\n",
       "      <th>SB</th>\n",
       "      <th>CS</th>\n",
       "      <th>BB</th>\n",
       "      <th>SO</th>\n",
       "      <th>IBB</th>\n",
       "      <th>HBP</th>\n",
       "      <th>SH</th>\n",
       "      <th>SF</th>\n",
       "      <th>GIDP</th>\n",
       "    </tr>\n",
       "    <tr>\n",
       "      <th>playerID</th>\n",
       "      <th></th>\n",
       "      <th></th>\n",
       "      <th></th>\n",
       "      <th></th>\n",
       "      <th></th>\n",
       "      <th></th>\n",
       "      <th></th>\n",
       "      <th></th>\n",
       "      <th></th>\n",
       "      <th></th>\n",
       "      <th></th>\n",
       "      <th></th>\n",
       "      <th></th>\n",
       "      <th></th>\n",
       "      <th></th>\n",
       "      <th></th>\n",
       "      <th></th>\n",
       "      <th></th>\n",
       "      <th></th>\n",
       "      <th></th>\n",
       "      <th></th>\n",
       "    </tr>\n",
       "  </thead>\n",
       "  <tbody>\n",
       "    <tr>\n",
       "      <th>altuvjo01</th>\n",
       "      <td>2014</td>\n",
       "      <td>1</td>\n",
       "      <td>HOU</td>\n",
       "      <td>AL</td>\n",
       "      <td>158</td>\n",
       "      <td>660</td>\n",
       "      <td>85</td>\n",
       "      <td>225</td>\n",
       "      <td>47</td>\n",
       "      <td>3</td>\n",
       "      <td>...</td>\n",
       "      <td>59.0</td>\n",
       "      <td>56.0</td>\n",
       "      <td>9.0</td>\n",
       "      <td>36</td>\n",
       "      <td>53.0</td>\n",
       "      <td>7.0</td>\n",
       "      <td>5.0</td>\n",
       "      <td>1.0</td>\n",
       "      <td>5.0</td>\n",
       "      <td>20.0</td>\n",
       "    </tr>\n",
       "    <tr>\n",
       "      <th>cartech02</th>\n",
       "      <td>2014</td>\n",
       "      <td>1</td>\n",
       "      <td>HOU</td>\n",
       "      <td>AL</td>\n",
       "      <td>145</td>\n",
       "      <td>507</td>\n",
       "      <td>68</td>\n",
       "      <td>115</td>\n",
       "      <td>21</td>\n",
       "      <td>1</td>\n",
       "      <td>...</td>\n",
       "      <td>88.0</td>\n",
       "      <td>5.0</td>\n",
       "      <td>2.0</td>\n",
       "      <td>56</td>\n",
       "      <td>182.0</td>\n",
       "      <td>6.0</td>\n",
       "      <td>5.0</td>\n",
       "      <td>0.0</td>\n",
       "      <td>4.0</td>\n",
       "      <td>12.0</td>\n",
       "    </tr>\n",
       "    <tr>\n",
       "      <th>castrja01</th>\n",
       "      <td>2014</td>\n",
       "      <td>1</td>\n",
       "      <td>HOU</td>\n",
       "      <td>AL</td>\n",
       "      <td>126</td>\n",
       "      <td>465</td>\n",
       "      <td>43</td>\n",
       "      <td>103</td>\n",
       "      <td>21</td>\n",
       "      <td>2</td>\n",
       "      <td>...</td>\n",
       "      <td>56.0</td>\n",
       "      <td>1.0</td>\n",
       "      <td>0.0</td>\n",
       "      <td>34</td>\n",
       "      <td>151.0</td>\n",
       "      <td>1.0</td>\n",
       "      <td>9.0</td>\n",
       "      <td>1.0</td>\n",
       "      <td>3.0</td>\n",
       "      <td>11.0</td>\n",
       "    </tr>\n",
       "    <tr>\n",
       "      <th>corpoca01</th>\n",
       "      <td>2014</td>\n",
       "      <td>1</td>\n",
       "      <td>HOU</td>\n",
       "      <td>AL</td>\n",
       "      <td>55</td>\n",
       "      <td>170</td>\n",
       "      <td>22</td>\n",
       "      <td>40</td>\n",
       "      <td>6</td>\n",
       "      <td>0</td>\n",
       "      <td>...</td>\n",
       "      <td>19.0</td>\n",
       "      <td>0.0</td>\n",
       "      <td>0.0</td>\n",
       "      <td>14</td>\n",
       "      <td>37.0</td>\n",
       "      <td>0.0</td>\n",
       "      <td>3.0</td>\n",
       "      <td>1.0</td>\n",
       "      <td>2.0</td>\n",
       "      <td>3.0</td>\n",
       "    </tr>\n",
       "    <tr>\n",
       "      <th>dominma01</th>\n",
       "      <td>2014</td>\n",
       "      <td>1</td>\n",
       "      <td>HOU</td>\n",
       "      <td>AL</td>\n",
       "      <td>157</td>\n",
       "      <td>564</td>\n",
       "      <td>51</td>\n",
       "      <td>121</td>\n",
       "      <td>17</td>\n",
       "      <td>0</td>\n",
       "      <td>...</td>\n",
       "      <td>57.0</td>\n",
       "      <td>0.0</td>\n",
       "      <td>1.0</td>\n",
       "      <td>29</td>\n",
       "      <td>125.0</td>\n",
       "      <td>2.0</td>\n",
       "      <td>5.0</td>\n",
       "      <td>2.0</td>\n",
       "      <td>7.0</td>\n",
       "      <td>23.0</td>\n",
       "    </tr>\n",
       "  </tbody>\n",
       "</table>\n",
       "<p>5 rows × 21 columns</p>\n",
       "</div>"
      ],
      "text/plain": [
       "           yearID  stint teamID lgID    G   AB   R    H  2B  3B  ...   RBI  \\\n",
       "playerID                                                         ...         \n",
       "altuvjo01    2014      1    HOU   AL  158  660  85  225  47   3  ...  59.0   \n",
       "cartech02    2014      1    HOU   AL  145  507  68  115  21   1  ...  88.0   \n",
       "castrja01    2014      1    HOU   AL  126  465  43  103  21   2  ...  56.0   \n",
       "corpoca01    2014      1    HOU   AL   55  170  22   40   6   0  ...  19.0   \n",
       "dominma01    2014      1    HOU   AL  157  564  51  121  17   0  ...  57.0   \n",
       "\n",
       "             SB   CS  BB     SO  IBB  HBP   SH   SF  GIDP  \n",
       "playerID                                                   \n",
       "altuvjo01  56.0  9.0  36   53.0  7.0  5.0  1.0  5.0  20.0  \n",
       "cartech02   5.0  2.0  56  182.0  6.0  5.0  0.0  4.0  12.0  \n",
       "castrja01   1.0  0.0  34  151.0  1.0  9.0  1.0  3.0  11.0  \n",
       "corpoca01   0.0  0.0  14   37.0  0.0  3.0  1.0  2.0   3.0  \n",
       "dominma01   0.0  1.0  29  125.0  2.0  5.0  2.0  7.0  23.0  \n",
       "\n",
       "[5 rows x 21 columns]"
      ]
     },
     "execution_count": 32,
     "metadata": {},
     "output_type": "execute_result"
    }
   ],
   "source": [
    "baseball_14 = pd.read_csv('data/baseball14.csv', index_col='playerID')\n",
    "baseball_15 = pd.read_csv('data/baseball15.csv', index_col='playerID')\n",
    "baseball_16 = pd.read_csv('data/baseball16.csv', index_col='playerID')\n",
    "baseball_14.head()"
   ]
  },
  {
   "cell_type": "markdown",
   "metadata": {},
   "source": [
    "Use the index method difference to discover which index labels are in baseball_14 and not in baseball_15, and vice versa:"
   ]
  },
  {
   "cell_type": "code",
   "execution_count": 33,
   "metadata": {},
   "outputs": [
    {
     "data": {
      "text/plain": [
       "Index(['corpoca01', 'dominma01', 'fowlede01', 'grossro01', 'guzmaje01',\n",
       "       'hoeslj01', 'krausma01', 'preslal01', 'singljo02'],\n",
       "      dtype='object', name='playerID')"
      ]
     },
     "execution_count": 33,
     "metadata": {},
     "output_type": "execute_result"
    }
   ],
   "source": [
    "baseball_14.index.difference(baseball_15.index)"
   ]
  },
  {
   "cell_type": "markdown",
   "metadata": {},
   "source": [
    "There are quite a few players unique to each index. Let's find out how many hits each player has in total over the three-year period. The H column contains the number of hits:"
   ]
  },
  {
   "cell_type": "code",
   "execution_count": 34,
   "metadata": {},
   "outputs": [
    {
     "data": {
      "text/plain": [
       "playerID\n",
       "altuvjo01    225\n",
       "cartech02    115\n",
       "castrja01    103\n",
       "corpoca01     40\n",
       "dominma01    121\n",
       "Name: H, dtype: int64"
      ]
     },
     "execution_count": 34,
     "metadata": {},
     "output_type": "execute_result"
    }
   ],
   "source": [
    "hits_14 = baseball_14['H']\n",
    "hits_15 = baseball_15['H']\n",
    "hits_16 = baseball_16['H']\n",
    "hits_14.head()"
   ]
  },
  {
   "cell_type": "markdown",
   "metadata": {},
   "source": [
    "Let's first add together two Series using the plus operator:"
   ]
  },
  {
   "cell_type": "code",
   "execution_count": 35,
   "metadata": {},
   "outputs": [
    {
     "data": {
      "text/plain": [
       "playerID\n",
       "altuvjo01    425.0\n",
       "cartech02    193.0\n",
       "castrja01    174.0\n",
       "congeha01      NaN\n",
       "corpoca01      NaN\n",
       "Name: H, dtype: float64"
      ]
     },
     "execution_count": 35,
     "metadata": {},
     "output_type": "execute_result"
    }
   ],
   "source": [
    "(hits_14 + hits_15).head()"
   ]
  },
  {
   "cell_type": "markdown",
   "metadata": {},
   "source": [
    "Even though players congeha01 and corpoca01 have recorded hits for 2015, their result is missing. Let's use the add method and its parameter, fill_value, to avoid missing values:"
   ]
  },
  {
   "cell_type": "code",
   "execution_count": 36,
   "metadata": {},
   "outputs": [
    {
     "data": {
      "text/plain": [
       "playerID\n",
       "altuvjo01    425.0\n",
       "cartech02    193.0\n",
       "castrja01    174.0\n",
       "congeha01     46.0\n",
       "corpoca01     40.0\n",
       "Name: H, dtype: float64"
      ]
     },
     "execution_count": 36,
     "metadata": {},
     "output_type": "execute_result"
    }
   ],
   "source": [
    "hits_14.add(hits_15, fill_value=0).head()"
   ]
  },
  {
   "cell_type": "markdown",
   "metadata": {},
   "source": [
    "We add hits from 2016 by chaining the add method once more:"
   ]
  },
  {
   "cell_type": "code",
   "execution_count": 37,
   "metadata": {},
   "outputs": [
    {
     "data": {
      "text/plain": [
       "playerID\n",
       "altuvjo01    641.0\n",
       "bregmal01     53.0\n",
       "cartech02    193.0\n",
       "castrja01    243.0\n",
       "congeha01     46.0\n",
       "Name: H, dtype: float64"
      ]
     },
     "execution_count": 37,
     "metadata": {},
     "output_type": "execute_result"
    }
   ],
   "source": [
    "hits_total = hits_14.add(hits_15, fill_value=0).add(hits_16, fill_value=0)\n",
    "hits_total.head()"
   ]
  },
  {
   "cell_type": "markdown",
   "metadata": {},
   "source": [
    "Check for missing values in the result:"
   ]
  },
  {
   "cell_type": "code",
   "execution_count": 38,
   "metadata": {},
   "outputs": [
    {
     "data": {
      "text/plain": [
       "False"
      ]
     },
     "execution_count": 38,
     "metadata": {},
     "output_type": "execute_result"
    }
   ],
   "source": [
    "hits_total.hasnans"
   ]
  },
  {
   "cell_type": "markdown",
   "metadata": {},
   "source": [
    "## How it works...\n",
    "\n",
    "The add method works similarly to the plus operator but allows for more flexibility by providing the fill_value parameter to take the place of a non-matching index. In this problem, it makes sense to default the non-matching index value to 0, but you could have used any other number.\n",
    "\n",
    "There will be occasions when each Series contains index labels that correspond to missing values. In this specific instance, when the two Series are added, the index label will still correspond to a missing value regardless if the fill_value parameter is used. To clarify this, take a look at the following example where the index label a corresponds to a missing value in each Series:\n",
    "\n"
   ]
  },
  {
   "cell_type": "code",
   "execution_count": 39,
   "metadata": {},
   "outputs": [
    {
     "data": {
      "text/plain": [
       "a    NaN\n",
       "b    3.0\n",
       "c    NaN\n",
       "d    1.0\n",
       "dtype: float64"
      ]
     },
     "execution_count": 39,
     "metadata": {},
     "output_type": "execute_result"
    }
   ],
   "source": [
    "s = pd.Series(index=['a', 'b', 'c', 'd'], data=[np.nan, 3, np.nan, 1])\n",
    "s"
   ]
  },
  {
   "cell_type": "code",
   "execution_count": 40,
   "metadata": {},
   "outputs": [
    {
     "data": {
      "text/plain": [
       "a     NaN\n",
       "b     6.0\n",
       "c    10.0\n",
       "dtype: float64"
      ]
     },
     "execution_count": 40,
     "metadata": {},
     "output_type": "execute_result"
    }
   ],
   "source": [
    "s1 = pd.Series(index=['a', 'b', 'c'], data=[np.nan, 6, 10])\n",
    "s1"
   ]
  },
  {
   "cell_type": "code",
   "execution_count": 41,
   "metadata": {},
   "outputs": [
    {
     "data": {
      "text/plain": [
       "a     NaN\n",
       "b     9.0\n",
       "c    15.0\n",
       "d     6.0\n",
       "dtype: float64"
      ]
     },
     "execution_count": 41,
     "metadata": {},
     "output_type": "execute_result"
    }
   ],
   "source": [
    "s.add(s1, fill_value=5)"
   ]
  },
  {
   "cell_type": "code",
   "execution_count": 42,
   "metadata": {},
   "outputs": [
    {
     "data": {
      "text/plain": [
       "a     NaN\n",
       "b     9.0\n",
       "c    15.0\n",
       "d     6.0\n",
       "dtype: float64"
      ]
     },
     "execution_count": 42,
     "metadata": {},
     "output_type": "execute_result"
    }
   ],
   "source": [
    "s1.add(s, fill_value=5)"
   ]
  },
  {
   "cell_type": "markdown",
   "metadata": {},
   "source": [
    "## There's more\n",
    "This recipe shows how to add Series with only a single index together. It is also entirely possible to add DataFrames together. Adding DataFrames together will align both the index and columns before computation and yield missing values for non-matching indexes. Let's start by selecting a few of the columns from the 2014 baseball dataset."
   ]
  },
  {
   "cell_type": "code",
   "execution_count": 43,
   "metadata": {},
   "outputs": [
    {
     "data": {
      "text/html": [
       "<div>\n",
       "<style scoped>\n",
       "    .dataframe tbody tr th:only-of-type {\n",
       "        vertical-align: middle;\n",
       "    }\n",
       "\n",
       "    .dataframe tbody tr th {\n",
       "        vertical-align: top;\n",
       "    }\n",
       "\n",
       "    .dataframe thead th {\n",
       "        text-align: right;\n",
       "    }\n",
       "</style>\n",
       "<table border=\"1\" class=\"dataframe\">\n",
       "  <thead>\n",
       "    <tr style=\"text-align: right;\">\n",
       "      <th></th>\n",
       "      <th>G</th>\n",
       "      <th>AB</th>\n",
       "      <th>R</th>\n",
       "      <th>H</th>\n",
       "    </tr>\n",
       "    <tr>\n",
       "      <th>playerID</th>\n",
       "      <th></th>\n",
       "      <th></th>\n",
       "      <th></th>\n",
       "      <th></th>\n",
       "    </tr>\n",
       "  </thead>\n",
       "  <tbody>\n",
       "    <tr>\n",
       "      <th>altuvjo01</th>\n",
       "      <td>158</td>\n",
       "      <td>660</td>\n",
       "      <td>85</td>\n",
       "      <td>225</td>\n",
       "    </tr>\n",
       "    <tr>\n",
       "      <th>cartech02</th>\n",
       "      <td>145</td>\n",
       "      <td>507</td>\n",
       "      <td>68</td>\n",
       "      <td>115</td>\n",
       "    </tr>\n",
       "    <tr>\n",
       "      <th>castrja01</th>\n",
       "      <td>126</td>\n",
       "      <td>465</td>\n",
       "      <td>43</td>\n",
       "      <td>103</td>\n",
       "    </tr>\n",
       "    <tr>\n",
       "      <th>corpoca01</th>\n",
       "      <td>55</td>\n",
       "      <td>170</td>\n",
       "      <td>22</td>\n",
       "      <td>40</td>\n",
       "    </tr>\n",
       "    <tr>\n",
       "      <th>dominma01</th>\n",
       "      <td>157</td>\n",
       "      <td>564</td>\n",
       "      <td>51</td>\n",
       "      <td>121</td>\n",
       "    </tr>\n",
       "  </tbody>\n",
       "</table>\n",
       "</div>"
      ],
      "text/plain": [
       "             G   AB   R    H\n",
       "playerID                    \n",
       "altuvjo01  158  660  85  225\n",
       "cartech02  145  507  68  115\n",
       "castrja01  126  465  43  103\n",
       "corpoca01   55  170  22   40\n",
       "dominma01  157  564  51  121"
      ]
     },
     "execution_count": 43,
     "metadata": {},
     "output_type": "execute_result"
    }
   ],
   "source": [
    "df_14 = baseball_14[['G','AB', 'R', 'H']]\n",
    "df_14.head()"
   ]
  },
  {
   "cell_type": "markdown",
   "metadata": {},
   "source": [
    "Let's also select a few of the same and a few different columns from the 2015 baseball dataset:"
   ]
  },
  {
   "cell_type": "code",
   "execution_count": 44,
   "metadata": {},
   "outputs": [
    {
     "data": {
      "text/html": [
       "<div>\n",
       "<style scoped>\n",
       "    .dataframe tbody tr th:only-of-type {\n",
       "        vertical-align: middle;\n",
       "    }\n",
       "\n",
       "    .dataframe tbody tr th {\n",
       "        vertical-align: top;\n",
       "    }\n",
       "\n",
       "    .dataframe thead th {\n",
       "        text-align: right;\n",
       "    }\n",
       "</style>\n",
       "<table border=\"1\" class=\"dataframe\">\n",
       "  <thead>\n",
       "    <tr style=\"text-align: right;\">\n",
       "      <th></th>\n",
       "      <th>AB</th>\n",
       "      <th>R</th>\n",
       "      <th>H</th>\n",
       "      <th>HR</th>\n",
       "    </tr>\n",
       "    <tr>\n",
       "      <th>playerID</th>\n",
       "      <th></th>\n",
       "      <th></th>\n",
       "      <th></th>\n",
       "      <th></th>\n",
       "    </tr>\n",
       "  </thead>\n",
       "  <tbody>\n",
       "    <tr>\n",
       "      <th>altuvjo01</th>\n",
       "      <td>638</td>\n",
       "      <td>86</td>\n",
       "      <td>200</td>\n",
       "      <td>15</td>\n",
       "    </tr>\n",
       "    <tr>\n",
       "      <th>cartech02</th>\n",
       "      <td>391</td>\n",
       "      <td>50</td>\n",
       "      <td>78</td>\n",
       "      <td>24</td>\n",
       "    </tr>\n",
       "    <tr>\n",
       "      <th>castrja01</th>\n",
       "      <td>337</td>\n",
       "      <td>38</td>\n",
       "      <td>71</td>\n",
       "      <td>11</td>\n",
       "    </tr>\n",
       "    <tr>\n",
       "      <th>congeha01</th>\n",
       "      <td>201</td>\n",
       "      <td>25</td>\n",
       "      <td>46</td>\n",
       "      <td>11</td>\n",
       "    </tr>\n",
       "    <tr>\n",
       "      <th>correca01</th>\n",
       "      <td>387</td>\n",
       "      <td>52</td>\n",
       "      <td>108</td>\n",
       "      <td>22</td>\n",
       "    </tr>\n",
       "  </tbody>\n",
       "</table>\n",
       "</div>"
      ],
      "text/plain": [
       "            AB   R    H  HR\n",
       "playerID                   \n",
       "altuvjo01  638  86  200  15\n",
       "cartech02  391  50   78  24\n",
       "castrja01  337  38   71  11\n",
       "congeha01  201  25   46  11\n",
       "correca01  387  52  108  22"
      ]
     },
     "execution_count": 44,
     "metadata": {},
     "output_type": "execute_result"
    }
   ],
   "source": [
    "df_15 = baseball_15[['AB', 'R', 'H', 'HR']]\n",
    "df_15.head()"
   ]
  },
  {
   "cell_type": "markdown",
   "metadata": {},
   "source": [
    "Adding the two DataFrames together create missing values wherever rows or column labels cannot align. Use the style attribute to access the highlight_null method to easily see where the missing values are:"
   ]
  },
  {
   "cell_type": "code",
   "execution_count": 45,
   "metadata": {},
   "outputs": [
    {
     "data": {
      "text/html": [
       "<style type=\"text/css\">\n",
       "#T_f0e09_row0_col1, #T_f0e09_row0_col3, #T_f0e09_row1_col1, #T_f0e09_row1_col3, #T_f0e09_row2_col1, #T_f0e09_row2_col3, #T_f0e09_row3_col0, #T_f0e09_row3_col1, #T_f0e09_row3_col2, #T_f0e09_row3_col3, #T_f0e09_row3_col4, #T_f0e09_row4_col0, #T_f0e09_row4_col1, #T_f0e09_row4_col2, #T_f0e09_row4_col3, #T_f0e09_row4_col4, #T_f0e09_row5_col0, #T_f0e09_row5_col1, #T_f0e09_row5_col2, #T_f0e09_row5_col3, #T_f0e09_row5_col4, #T_f0e09_row6_col0, #T_f0e09_row6_col1, #T_f0e09_row6_col2, #T_f0e09_row6_col3, #T_f0e09_row6_col4, #T_f0e09_row7_col0, #T_f0e09_row7_col1, #T_f0e09_row7_col2, #T_f0e09_row7_col3, #T_f0e09_row7_col4, #T_f0e09_row8_col0, #T_f0e09_row8_col1, #T_f0e09_row8_col2, #T_f0e09_row8_col3, #T_f0e09_row8_col4, #T_f0e09_row9_col0, #T_f0e09_row9_col1, #T_f0e09_row9_col2, #T_f0e09_row9_col3, #T_f0e09_row9_col4 {\n",
       "  background-color: yellow;\n",
       "}\n",
       "</style>\n",
       "<table id=\"T_f0e09\">\n",
       "  <thead>\n",
       "    <tr>\n",
       "      <th class=\"blank level0\" >&nbsp;</th>\n",
       "      <th id=\"T_f0e09_level0_col0\" class=\"col_heading level0 col0\" >AB</th>\n",
       "      <th id=\"T_f0e09_level0_col1\" class=\"col_heading level0 col1\" >G</th>\n",
       "      <th id=\"T_f0e09_level0_col2\" class=\"col_heading level0 col2\" >H</th>\n",
       "      <th id=\"T_f0e09_level0_col3\" class=\"col_heading level0 col3\" >HR</th>\n",
       "      <th id=\"T_f0e09_level0_col4\" class=\"col_heading level0 col4\" >R</th>\n",
       "    </tr>\n",
       "    <tr>\n",
       "      <th class=\"index_name level0\" >playerID</th>\n",
       "      <th class=\"blank col0\" >&nbsp;</th>\n",
       "      <th class=\"blank col1\" >&nbsp;</th>\n",
       "      <th class=\"blank col2\" >&nbsp;</th>\n",
       "      <th class=\"blank col3\" >&nbsp;</th>\n",
       "      <th class=\"blank col4\" >&nbsp;</th>\n",
       "    </tr>\n",
       "  </thead>\n",
       "  <tbody>\n",
       "    <tr>\n",
       "      <th id=\"T_f0e09_level0_row0\" class=\"row_heading level0 row0\" >altuvjo01</th>\n",
       "      <td id=\"T_f0e09_row0_col0\" class=\"data row0 col0\" >1298.000000</td>\n",
       "      <td id=\"T_f0e09_row0_col1\" class=\"data row0 col1\" >nan</td>\n",
       "      <td id=\"T_f0e09_row0_col2\" class=\"data row0 col2\" >425.000000</td>\n",
       "      <td id=\"T_f0e09_row0_col3\" class=\"data row0 col3\" >nan</td>\n",
       "      <td id=\"T_f0e09_row0_col4\" class=\"data row0 col4\" >171.000000</td>\n",
       "    </tr>\n",
       "    <tr>\n",
       "      <th id=\"T_f0e09_level0_row1\" class=\"row_heading level0 row1\" >cartech02</th>\n",
       "      <td id=\"T_f0e09_row1_col0\" class=\"data row1 col0\" >898.000000</td>\n",
       "      <td id=\"T_f0e09_row1_col1\" class=\"data row1 col1\" >nan</td>\n",
       "      <td id=\"T_f0e09_row1_col2\" class=\"data row1 col2\" >193.000000</td>\n",
       "      <td id=\"T_f0e09_row1_col3\" class=\"data row1 col3\" >nan</td>\n",
       "      <td id=\"T_f0e09_row1_col4\" class=\"data row1 col4\" >118.000000</td>\n",
       "    </tr>\n",
       "    <tr>\n",
       "      <th id=\"T_f0e09_level0_row2\" class=\"row_heading level0 row2\" >castrja01</th>\n",
       "      <td id=\"T_f0e09_row2_col0\" class=\"data row2 col0\" >802.000000</td>\n",
       "      <td id=\"T_f0e09_row2_col1\" class=\"data row2 col1\" >nan</td>\n",
       "      <td id=\"T_f0e09_row2_col2\" class=\"data row2 col2\" >174.000000</td>\n",
       "      <td id=\"T_f0e09_row2_col3\" class=\"data row2 col3\" >nan</td>\n",
       "      <td id=\"T_f0e09_row2_col4\" class=\"data row2 col4\" >81.000000</td>\n",
       "    </tr>\n",
       "    <tr>\n",
       "      <th id=\"T_f0e09_level0_row3\" class=\"row_heading level0 row3\" >congeha01</th>\n",
       "      <td id=\"T_f0e09_row3_col0\" class=\"data row3 col0\" >nan</td>\n",
       "      <td id=\"T_f0e09_row3_col1\" class=\"data row3 col1\" >nan</td>\n",
       "      <td id=\"T_f0e09_row3_col2\" class=\"data row3 col2\" >nan</td>\n",
       "      <td id=\"T_f0e09_row3_col3\" class=\"data row3 col3\" >nan</td>\n",
       "      <td id=\"T_f0e09_row3_col4\" class=\"data row3 col4\" >nan</td>\n",
       "    </tr>\n",
       "    <tr>\n",
       "      <th id=\"T_f0e09_level0_row4\" class=\"row_heading level0 row4\" >corpoca01</th>\n",
       "      <td id=\"T_f0e09_row4_col0\" class=\"data row4 col0\" >nan</td>\n",
       "      <td id=\"T_f0e09_row4_col1\" class=\"data row4 col1\" >nan</td>\n",
       "      <td id=\"T_f0e09_row4_col2\" class=\"data row4 col2\" >nan</td>\n",
       "      <td id=\"T_f0e09_row4_col3\" class=\"data row4 col3\" >nan</td>\n",
       "      <td id=\"T_f0e09_row4_col4\" class=\"data row4 col4\" >nan</td>\n",
       "    </tr>\n",
       "    <tr>\n",
       "      <th id=\"T_f0e09_level0_row5\" class=\"row_heading level0 row5\" >correca01</th>\n",
       "      <td id=\"T_f0e09_row5_col0\" class=\"data row5 col0\" >nan</td>\n",
       "      <td id=\"T_f0e09_row5_col1\" class=\"data row5 col1\" >nan</td>\n",
       "      <td id=\"T_f0e09_row5_col2\" class=\"data row5 col2\" >nan</td>\n",
       "      <td id=\"T_f0e09_row5_col3\" class=\"data row5 col3\" >nan</td>\n",
       "      <td id=\"T_f0e09_row5_col4\" class=\"data row5 col4\" >nan</td>\n",
       "    </tr>\n",
       "    <tr>\n",
       "      <th id=\"T_f0e09_level0_row6\" class=\"row_heading level0 row6\" >dominma01</th>\n",
       "      <td id=\"T_f0e09_row6_col0\" class=\"data row6 col0\" >nan</td>\n",
       "      <td id=\"T_f0e09_row6_col1\" class=\"data row6 col1\" >nan</td>\n",
       "      <td id=\"T_f0e09_row6_col2\" class=\"data row6 col2\" >nan</td>\n",
       "      <td id=\"T_f0e09_row6_col3\" class=\"data row6 col3\" >nan</td>\n",
       "      <td id=\"T_f0e09_row6_col4\" class=\"data row6 col4\" >nan</td>\n",
       "    </tr>\n",
       "    <tr>\n",
       "      <th id=\"T_f0e09_level0_row7\" class=\"row_heading level0 row7\" >fowlede01</th>\n",
       "      <td id=\"T_f0e09_row7_col0\" class=\"data row7 col0\" >nan</td>\n",
       "      <td id=\"T_f0e09_row7_col1\" class=\"data row7 col1\" >nan</td>\n",
       "      <td id=\"T_f0e09_row7_col2\" class=\"data row7 col2\" >nan</td>\n",
       "      <td id=\"T_f0e09_row7_col3\" class=\"data row7 col3\" >nan</td>\n",
       "      <td id=\"T_f0e09_row7_col4\" class=\"data row7 col4\" >nan</td>\n",
       "    </tr>\n",
       "    <tr>\n",
       "      <th id=\"T_f0e09_level0_row8\" class=\"row_heading level0 row8\" >gattiev01</th>\n",
       "      <td id=\"T_f0e09_row8_col0\" class=\"data row8 col0\" >nan</td>\n",
       "      <td id=\"T_f0e09_row8_col1\" class=\"data row8 col1\" >nan</td>\n",
       "      <td id=\"T_f0e09_row8_col2\" class=\"data row8 col2\" >nan</td>\n",
       "      <td id=\"T_f0e09_row8_col3\" class=\"data row8 col3\" >nan</td>\n",
       "      <td id=\"T_f0e09_row8_col4\" class=\"data row8 col4\" >nan</td>\n",
       "    </tr>\n",
       "    <tr>\n",
       "      <th id=\"T_f0e09_level0_row9\" class=\"row_heading level0 row9\" >gomezca01</th>\n",
       "      <td id=\"T_f0e09_row9_col0\" class=\"data row9 col0\" >nan</td>\n",
       "      <td id=\"T_f0e09_row9_col1\" class=\"data row9 col1\" >nan</td>\n",
       "      <td id=\"T_f0e09_row9_col2\" class=\"data row9 col2\" >nan</td>\n",
       "      <td id=\"T_f0e09_row9_col3\" class=\"data row9 col3\" >nan</td>\n",
       "      <td id=\"T_f0e09_row9_col4\" class=\"data row9 col4\" >nan</td>\n",
       "    </tr>\n",
       "  </tbody>\n",
       "</table>\n"
      ],
      "text/plain": [
       "<pandas.io.formats.style.Styler at 0x20fbacec070>"
      ]
     },
     "execution_count": 45,
     "metadata": {},
     "output_type": "execute_result"
    }
   ],
   "source": [
    "(df_14 + df_15).head(10).style.highlight_null('yellow')"
   ]
  },
  {
   "cell_type": "markdown",
   "metadata": {},
   "source": [
    "Only the rows with playerID appearing in both DataFrames will be non-missing. Similarly, the columns AB, H, and R are the only ones that appear in both DataFrames. Even if we use the add method with the fill_value parameter specified, we still have missing values. This is because some combinations of rows and columns never existed in our input data. For example, the intersection of playerIDcongeha01 and column G. He only appeared in the 2015 dataset that did not have the G column. Therefore, no value was filled with it:\n",
    "\n"
   ]
  },
  {
   "cell_type": "code",
   "execution_count": 46,
   "metadata": {},
   "outputs": [
    {
     "data": {
      "text/html": [
       "<style type=\"text/css\">\n",
       "#T_ae79f_row3_col1, #T_ae79f_row4_col3, #T_ae79f_row5_col1, #T_ae79f_row6_col3, #T_ae79f_row7_col3, #T_ae79f_row8_col1, #T_ae79f_row9_col1 {\n",
       "  background-color: yellow;\n",
       "}\n",
       "</style>\n",
       "<table id=\"T_ae79f\">\n",
       "  <thead>\n",
       "    <tr>\n",
       "      <th class=\"blank level0\" >&nbsp;</th>\n",
       "      <th id=\"T_ae79f_level0_col0\" class=\"col_heading level0 col0\" >AB</th>\n",
       "      <th id=\"T_ae79f_level0_col1\" class=\"col_heading level0 col1\" >G</th>\n",
       "      <th id=\"T_ae79f_level0_col2\" class=\"col_heading level0 col2\" >H</th>\n",
       "      <th id=\"T_ae79f_level0_col3\" class=\"col_heading level0 col3\" >HR</th>\n",
       "      <th id=\"T_ae79f_level0_col4\" class=\"col_heading level0 col4\" >R</th>\n",
       "    </tr>\n",
       "    <tr>\n",
       "      <th class=\"index_name level0\" >playerID</th>\n",
       "      <th class=\"blank col0\" >&nbsp;</th>\n",
       "      <th class=\"blank col1\" >&nbsp;</th>\n",
       "      <th class=\"blank col2\" >&nbsp;</th>\n",
       "      <th class=\"blank col3\" >&nbsp;</th>\n",
       "      <th class=\"blank col4\" >&nbsp;</th>\n",
       "    </tr>\n",
       "  </thead>\n",
       "  <tbody>\n",
       "    <tr>\n",
       "      <th id=\"T_ae79f_level0_row0\" class=\"row_heading level0 row0\" >altuvjo01</th>\n",
       "      <td id=\"T_ae79f_row0_col0\" class=\"data row0 col0\" >1298.000000</td>\n",
       "      <td id=\"T_ae79f_row0_col1\" class=\"data row0 col1\" >158.000000</td>\n",
       "      <td id=\"T_ae79f_row0_col2\" class=\"data row0 col2\" >425.000000</td>\n",
       "      <td id=\"T_ae79f_row0_col3\" class=\"data row0 col3\" >15.000000</td>\n",
       "      <td id=\"T_ae79f_row0_col4\" class=\"data row0 col4\" >171.000000</td>\n",
       "    </tr>\n",
       "    <tr>\n",
       "      <th id=\"T_ae79f_level0_row1\" class=\"row_heading level0 row1\" >cartech02</th>\n",
       "      <td id=\"T_ae79f_row1_col0\" class=\"data row1 col0\" >898.000000</td>\n",
       "      <td id=\"T_ae79f_row1_col1\" class=\"data row1 col1\" >145.000000</td>\n",
       "      <td id=\"T_ae79f_row1_col2\" class=\"data row1 col2\" >193.000000</td>\n",
       "      <td id=\"T_ae79f_row1_col3\" class=\"data row1 col3\" >24.000000</td>\n",
       "      <td id=\"T_ae79f_row1_col4\" class=\"data row1 col4\" >118.000000</td>\n",
       "    </tr>\n",
       "    <tr>\n",
       "      <th id=\"T_ae79f_level0_row2\" class=\"row_heading level0 row2\" >castrja01</th>\n",
       "      <td id=\"T_ae79f_row2_col0\" class=\"data row2 col0\" >802.000000</td>\n",
       "      <td id=\"T_ae79f_row2_col1\" class=\"data row2 col1\" >126.000000</td>\n",
       "      <td id=\"T_ae79f_row2_col2\" class=\"data row2 col2\" >174.000000</td>\n",
       "      <td id=\"T_ae79f_row2_col3\" class=\"data row2 col3\" >11.000000</td>\n",
       "      <td id=\"T_ae79f_row2_col4\" class=\"data row2 col4\" >81.000000</td>\n",
       "    </tr>\n",
       "    <tr>\n",
       "      <th id=\"T_ae79f_level0_row3\" class=\"row_heading level0 row3\" >congeha01</th>\n",
       "      <td id=\"T_ae79f_row3_col0\" class=\"data row3 col0\" >201.000000</td>\n",
       "      <td id=\"T_ae79f_row3_col1\" class=\"data row3 col1\" >nan</td>\n",
       "      <td id=\"T_ae79f_row3_col2\" class=\"data row3 col2\" >46.000000</td>\n",
       "      <td id=\"T_ae79f_row3_col3\" class=\"data row3 col3\" >11.000000</td>\n",
       "      <td id=\"T_ae79f_row3_col4\" class=\"data row3 col4\" >25.000000</td>\n",
       "    </tr>\n",
       "    <tr>\n",
       "      <th id=\"T_ae79f_level0_row4\" class=\"row_heading level0 row4\" >corpoca01</th>\n",
       "      <td id=\"T_ae79f_row4_col0\" class=\"data row4 col0\" >170.000000</td>\n",
       "      <td id=\"T_ae79f_row4_col1\" class=\"data row4 col1\" >55.000000</td>\n",
       "      <td id=\"T_ae79f_row4_col2\" class=\"data row4 col2\" >40.000000</td>\n",
       "      <td id=\"T_ae79f_row4_col3\" class=\"data row4 col3\" >nan</td>\n",
       "      <td id=\"T_ae79f_row4_col4\" class=\"data row4 col4\" >22.000000</td>\n",
       "    </tr>\n",
       "    <tr>\n",
       "      <th id=\"T_ae79f_level0_row5\" class=\"row_heading level0 row5\" >correca01</th>\n",
       "      <td id=\"T_ae79f_row5_col0\" class=\"data row5 col0\" >387.000000</td>\n",
       "      <td id=\"T_ae79f_row5_col1\" class=\"data row5 col1\" >nan</td>\n",
       "      <td id=\"T_ae79f_row5_col2\" class=\"data row5 col2\" >108.000000</td>\n",
       "      <td id=\"T_ae79f_row5_col3\" class=\"data row5 col3\" >22.000000</td>\n",
       "      <td id=\"T_ae79f_row5_col4\" class=\"data row5 col4\" >52.000000</td>\n",
       "    </tr>\n",
       "    <tr>\n",
       "      <th id=\"T_ae79f_level0_row6\" class=\"row_heading level0 row6\" >dominma01</th>\n",
       "      <td id=\"T_ae79f_row6_col0\" class=\"data row6 col0\" >564.000000</td>\n",
       "      <td id=\"T_ae79f_row6_col1\" class=\"data row6 col1\" >157.000000</td>\n",
       "      <td id=\"T_ae79f_row6_col2\" class=\"data row6 col2\" >121.000000</td>\n",
       "      <td id=\"T_ae79f_row6_col3\" class=\"data row6 col3\" >nan</td>\n",
       "      <td id=\"T_ae79f_row6_col4\" class=\"data row6 col4\" >51.000000</td>\n",
       "    </tr>\n",
       "    <tr>\n",
       "      <th id=\"T_ae79f_level0_row7\" class=\"row_heading level0 row7\" >fowlede01</th>\n",
       "      <td id=\"T_ae79f_row7_col0\" class=\"data row7 col0\" >434.000000</td>\n",
       "      <td id=\"T_ae79f_row7_col1\" class=\"data row7 col1\" >116.000000</td>\n",
       "      <td id=\"T_ae79f_row7_col2\" class=\"data row7 col2\" >120.000000</td>\n",
       "      <td id=\"T_ae79f_row7_col3\" class=\"data row7 col3\" >nan</td>\n",
       "      <td id=\"T_ae79f_row7_col4\" class=\"data row7 col4\" >61.000000</td>\n",
       "    </tr>\n",
       "    <tr>\n",
       "      <th id=\"T_ae79f_level0_row8\" class=\"row_heading level0 row8\" >gattiev01</th>\n",
       "      <td id=\"T_ae79f_row8_col0\" class=\"data row8 col0\" >566.000000</td>\n",
       "      <td id=\"T_ae79f_row8_col1\" class=\"data row8 col1\" >nan</td>\n",
       "      <td id=\"T_ae79f_row8_col2\" class=\"data row8 col2\" >139.000000</td>\n",
       "      <td id=\"T_ae79f_row8_col3\" class=\"data row8 col3\" >27.000000</td>\n",
       "      <td id=\"T_ae79f_row8_col4\" class=\"data row8 col4\" >66.000000</td>\n",
       "    </tr>\n",
       "    <tr>\n",
       "      <th id=\"T_ae79f_level0_row9\" class=\"row_heading level0 row9\" >gomezca01</th>\n",
       "      <td id=\"T_ae79f_row9_col0\" class=\"data row9 col0\" >149.000000</td>\n",
       "      <td id=\"T_ae79f_row9_col1\" class=\"data row9 col1\" >nan</td>\n",
       "      <td id=\"T_ae79f_row9_col2\" class=\"data row9 col2\" >36.000000</td>\n",
       "      <td id=\"T_ae79f_row9_col3\" class=\"data row9 col3\" >4.000000</td>\n",
       "      <td id=\"T_ae79f_row9_col4\" class=\"data row9 col4\" >19.000000</td>\n",
       "    </tr>\n",
       "  </tbody>\n",
       "</table>\n"
      ],
      "text/plain": [
       "<pandas.io.formats.style.Styler at 0x20fbb12c5b0>"
      ]
     },
     "execution_count": 46,
     "metadata": {},
     "output_type": "execute_result"
    }
   ],
   "source": [
    "df_14.add(df_15, fill_value=0).head(10).style.highlight_null('yellow')"
   ]
  },
  {
   "cell_type": "markdown",
   "metadata": {},
   "source": [
    "# Appending columns from different DataFrames\n",
    "\n",
    "All DataFrames can add new columns to themselves. However, as usual, whenever a DataFrame is adding a new column from another DataFrame or Series, the indexes align first before the new column is created.\n",
    "\n",
    "### Getting ready\n",
    "\n",
    "This recipe uses the employee dataset to append a new column containing the maximum salary of that employee's department.\n",
    "\n",
    "### How to do it...\n",
    "\n",
    "Import the employee data and select the DEPARTMENT and BASE_SALARY columns in a new DataFrame:"
   ]
  },
  {
   "cell_type": "code",
   "execution_count": 47,
   "metadata": {},
   "outputs": [],
   "source": [
    "employee = pd.read_csv('data/employee.csv')\n",
    "dept_salary = employee[['DEPARTMENT', 'BASE_SALARY']]"
   ]
  },
  {
   "cell_type": "markdown",
   "metadata": {},
   "source": [
    "Sort this smaller DataFrame by salary within each department:"
   ]
  },
  {
   "cell_type": "code",
   "execution_count": 48,
   "metadata": {},
   "outputs": [],
   "source": [
    "dept_salary = dept_salary.sort_values(['DEPARTMENT', 'BASE_SALARY'], ascending=[True, False])"
   ]
  },
  {
   "cell_type": "markdown",
   "metadata": {},
   "source": [
    "Use the drop_duplicates method to keep the first row of each DEPARTMENT:"
   ]
  },
  {
   "cell_type": "code",
   "execution_count": 49,
   "metadata": {},
   "outputs": [
    {
     "data": {
      "text/html": [
       "<div>\n",
       "<style scoped>\n",
       "    .dataframe tbody tr th:only-of-type {\n",
       "        vertical-align: middle;\n",
       "    }\n",
       "\n",
       "    .dataframe tbody tr th {\n",
       "        vertical-align: top;\n",
       "    }\n",
       "\n",
       "    .dataframe thead th {\n",
       "        text-align: right;\n",
       "    }\n",
       "</style>\n",
       "<table border=\"1\" class=\"dataframe\">\n",
       "  <thead>\n",
       "    <tr style=\"text-align: right;\">\n",
       "      <th></th>\n",
       "      <th>DEPARTMENT</th>\n",
       "      <th>BASE_SALARY</th>\n",
       "    </tr>\n",
       "  </thead>\n",
       "  <tbody>\n",
       "    <tr>\n",
       "      <th>1494</th>\n",
       "      <td>Admn. &amp; Regulatory Affairs</td>\n",
       "      <td>140416.0</td>\n",
       "    </tr>\n",
       "    <tr>\n",
       "      <th>149</th>\n",
       "      <td>City Controller's Office</td>\n",
       "      <td>64251.0</td>\n",
       "    </tr>\n",
       "    <tr>\n",
       "      <th>236</th>\n",
       "      <td>City Council</td>\n",
       "      <td>100000.0</td>\n",
       "    </tr>\n",
       "    <tr>\n",
       "      <th>647</th>\n",
       "      <td>Convention and Entertainment</td>\n",
       "      <td>38397.0</td>\n",
       "    </tr>\n",
       "    <tr>\n",
       "      <th>1500</th>\n",
       "      <td>Dept of Neighborhoods (DON)</td>\n",
       "      <td>89221.0</td>\n",
       "    </tr>\n",
       "  </tbody>\n",
       "</table>\n",
       "</div>"
      ],
      "text/plain": [
       "                        DEPARTMENT  BASE_SALARY\n",
       "1494    Admn. & Regulatory Affairs     140416.0\n",
       "149       City Controller's Office      64251.0\n",
       "236                   City Council     100000.0\n",
       "647   Convention and Entertainment      38397.0\n",
       "1500   Dept of Neighborhoods (DON)      89221.0"
      ]
     },
     "execution_count": 49,
     "metadata": {},
     "output_type": "execute_result"
    }
   ],
   "source": [
    "max_dept_salary = dept_salary.drop_duplicates(subset='DEPARTMENT')\n",
    "max_dept_salary.head()"
   ]
  },
  {
   "cell_type": "markdown",
   "metadata": {},
   "source": [
    "Put the DEPARTMENT column into the index for each DataFrames:"
   ]
  },
  {
   "cell_type": "code",
   "execution_count": 50,
   "metadata": {},
   "outputs": [],
   "source": [
    "max_dept_salary = max_dept_salary.set_index('DEPARTMENT')\n",
    "employee = employee.set_index('DEPARTMENT')"
   ]
  },
  {
   "cell_type": "markdown",
   "metadata": {},
   "source": [
    "Now that the indexes contain matching values, we can append a new column to the employee DataFrame:\n"
   ]
  },
  {
   "cell_type": "code",
   "execution_count": 51,
   "metadata": {},
   "outputs": [],
   "source": [
    "employee['MAX_DEPT_SALARY'] = max_dept_salary['BASE_SALARY']"
   ]
  },
  {
   "cell_type": "code",
   "execution_count": 52,
   "metadata": {},
   "outputs": [],
   "source": [
    "pd.options.display.max_columns = 6"
   ]
  },
  {
   "cell_type": "code",
   "execution_count": 53,
   "metadata": {},
   "outputs": [
    {
     "data": {
      "text/html": [
       "<div>\n",
       "<style scoped>\n",
       "    .dataframe tbody tr th:only-of-type {\n",
       "        vertical-align: middle;\n",
       "    }\n",
       "\n",
       "    .dataframe tbody tr th {\n",
       "        vertical-align: top;\n",
       "    }\n",
       "\n",
       "    .dataframe thead th {\n",
       "        text-align: right;\n",
       "    }\n",
       "</style>\n",
       "<table border=\"1\" class=\"dataframe\">\n",
       "  <thead>\n",
       "    <tr style=\"text-align: right;\">\n",
       "      <th></th>\n",
       "      <th>UNIQUE_ID</th>\n",
       "      <th>POSITION_TITLE</th>\n",
       "      <th>BASE_SALARY</th>\n",
       "      <th>...</th>\n",
       "      <th>HIRE_DATE</th>\n",
       "      <th>JOB_DATE</th>\n",
       "      <th>MAX_DEPT_SALARY</th>\n",
       "    </tr>\n",
       "    <tr>\n",
       "      <th>DEPARTMENT</th>\n",
       "      <th></th>\n",
       "      <th></th>\n",
       "      <th></th>\n",
       "      <th></th>\n",
       "      <th></th>\n",
       "      <th></th>\n",
       "      <th></th>\n",
       "    </tr>\n",
       "  </thead>\n",
       "  <tbody>\n",
       "    <tr>\n",
       "      <th>Municipal Courts Department</th>\n",
       "      <td>0</td>\n",
       "      <td>ASSISTANT DIRECTOR (EX LVL)</td>\n",
       "      <td>121862.0</td>\n",
       "      <td>...</td>\n",
       "      <td>2006-06-12</td>\n",
       "      <td>2012-10-13</td>\n",
       "      <td>121862.0</td>\n",
       "    </tr>\n",
       "    <tr>\n",
       "      <th>Library</th>\n",
       "      <td>1</td>\n",
       "      <td>LIBRARY ASSISTANT</td>\n",
       "      <td>26125.0</td>\n",
       "      <td>...</td>\n",
       "      <td>2000-07-19</td>\n",
       "      <td>2010-09-18</td>\n",
       "      <td>107763.0</td>\n",
       "    </tr>\n",
       "    <tr>\n",
       "      <th>Houston Police Department-HPD</th>\n",
       "      <td>2</td>\n",
       "      <td>POLICE OFFICER</td>\n",
       "      <td>45279.0</td>\n",
       "      <td>...</td>\n",
       "      <td>2015-02-03</td>\n",
       "      <td>2015-02-03</td>\n",
       "      <td>199596.0</td>\n",
       "    </tr>\n",
       "    <tr>\n",
       "      <th>Houston Fire Department (HFD)</th>\n",
       "      <td>3</td>\n",
       "      <td>ENGINEER/OPERATOR</td>\n",
       "      <td>63166.0</td>\n",
       "      <td>...</td>\n",
       "      <td>1982-02-08</td>\n",
       "      <td>1991-05-25</td>\n",
       "      <td>210588.0</td>\n",
       "    </tr>\n",
       "    <tr>\n",
       "      <th>General Services Department</th>\n",
       "      <td>4</td>\n",
       "      <td>ELECTRICIAN</td>\n",
       "      <td>56347.0</td>\n",
       "      <td>...</td>\n",
       "      <td>1989-06-19</td>\n",
       "      <td>1994-10-22</td>\n",
       "      <td>89194.0</td>\n",
       "    </tr>\n",
       "  </tbody>\n",
       "</table>\n",
       "<p>5 rows × 10 columns</p>\n",
       "</div>"
      ],
      "text/plain": [
       "                               UNIQUE_ID               POSITION_TITLE  \\\n",
       "DEPARTMENT                                                              \n",
       "Municipal Courts Department            0  ASSISTANT DIRECTOR (EX LVL)   \n",
       "Library                                1            LIBRARY ASSISTANT   \n",
       "Houston Police Department-HPD          2               POLICE OFFICER   \n",
       "Houston Fire Department (HFD)          3            ENGINEER/OPERATOR   \n",
       "General Services Department            4                  ELECTRICIAN   \n",
       "\n",
       "                               BASE_SALARY  ...   HIRE_DATE    JOB_DATE  \\\n",
       "DEPARTMENT                                  ...                           \n",
       "Municipal Courts Department       121862.0  ...  2006-06-12  2012-10-13   \n",
       "Library                            26125.0  ...  2000-07-19  2010-09-18   \n",
       "Houston Police Department-HPD      45279.0  ...  2015-02-03  2015-02-03   \n",
       "Houston Fire Department (HFD)      63166.0  ...  1982-02-08  1991-05-25   \n",
       "General Services Department        56347.0  ...  1989-06-19  1994-10-22   \n",
       "\n",
       "                              MAX_DEPT_SALARY  \n",
       "DEPARTMENT                                     \n",
       "Municipal Courts Department          121862.0  \n",
       "Library                              107763.0  \n",
       "Houston Police Department-HPD        199596.0  \n",
       "Houston Fire Department (HFD)        210588.0  \n",
       "General Services Department           89194.0  \n",
       "\n",
       "[5 rows x 10 columns]"
      ]
     },
     "execution_count": 53,
     "metadata": {},
     "output_type": "execute_result"
    }
   ],
   "source": [
    "employee.head()"
   ]
  },
  {
   "cell_type": "markdown",
   "metadata": {},
   "source": [
    "We can validate our results with the query method to check whether there exist any rows where BASE_SALARY is greater than MAX_DEPT_SALARY:"
   ]
  },
  {
   "cell_type": "code",
   "execution_count": 54,
   "metadata": {},
   "outputs": [
    {
     "data": {
      "text/html": [
       "<div>\n",
       "<style scoped>\n",
       "    .dataframe tbody tr th:only-of-type {\n",
       "        vertical-align: middle;\n",
       "    }\n",
       "\n",
       "    .dataframe tbody tr th {\n",
       "        vertical-align: top;\n",
       "    }\n",
       "\n",
       "    .dataframe thead th {\n",
       "        text-align: right;\n",
       "    }\n",
       "</style>\n",
       "<table border=\"1\" class=\"dataframe\">\n",
       "  <thead>\n",
       "    <tr style=\"text-align: right;\">\n",
       "      <th></th>\n",
       "      <th>UNIQUE_ID</th>\n",
       "      <th>POSITION_TITLE</th>\n",
       "      <th>BASE_SALARY</th>\n",
       "      <th>...</th>\n",
       "      <th>HIRE_DATE</th>\n",
       "      <th>JOB_DATE</th>\n",
       "      <th>MAX_DEPT_SALARY</th>\n",
       "    </tr>\n",
       "    <tr>\n",
       "      <th>DEPARTMENT</th>\n",
       "      <th></th>\n",
       "      <th></th>\n",
       "      <th></th>\n",
       "      <th></th>\n",
       "      <th></th>\n",
       "      <th></th>\n",
       "      <th></th>\n",
       "    </tr>\n",
       "  </thead>\n",
       "  <tbody>\n",
       "  </tbody>\n",
       "</table>\n",
       "<p>0 rows × 10 columns</p>\n",
       "</div>"
      ],
      "text/plain": [
       "Empty DataFrame\n",
       "Columns: [UNIQUE_ID, POSITION_TITLE, BASE_SALARY, RACE, EMPLOYMENT_TYPE, GENDER, EMPLOYMENT_STATUS, HIRE_DATE, JOB_DATE, MAX_DEPT_SALARY]\n",
       "Index: []\n",
       "\n",
       "[0 rows x 10 columns]"
      ]
     },
     "execution_count": 54,
     "metadata": {},
     "output_type": "execute_result"
    }
   ],
   "source": [
    "employee.query('BASE_SALARY > MAX_DEPT_SALARY')"
   ]
  },
  {
   "cell_type": "markdown",
   "metadata": {},
   "source": [
    "## How it works...\n",
    "\n",
    "Steps 2 and 3 find the maximum salary for each department. For automatic index alignment to work properly, we set each DataFrame index as the department. Step 5 works because each row index from the left DataFrame; employee aligns with one and only one index from the right DataFrame, max_dept_sal. If max_dept_sal had repeats of any departments in its index, then the operation would fail.\n",
    "\n",
    "For instance, let's see what happens when we use a DataFrame on the right-hand side of the equality that has repeated index values. We use the sample DataFrame method to randomly choose ten rows without replacement:"
   ]
  },
  {
   "cell_type": "code",
   "execution_count": 55,
   "metadata": {},
   "outputs": [
    {
     "data": {
      "text/html": [
       "<div>\n",
       "<style scoped>\n",
       "    .dataframe tbody tr th:only-of-type {\n",
       "        vertical-align: middle;\n",
       "    }\n",
       "\n",
       "    .dataframe tbody tr th {\n",
       "        vertical-align: top;\n",
       "    }\n",
       "\n",
       "    .dataframe thead th {\n",
       "        text-align: right;\n",
       "    }\n",
       "</style>\n",
       "<table border=\"1\" class=\"dataframe\">\n",
       "  <thead>\n",
       "    <tr style=\"text-align: right;\">\n",
       "      <th></th>\n",
       "      <th>BASE_SALARY</th>\n",
       "    </tr>\n",
       "    <tr>\n",
       "      <th>DEPARTMENT</th>\n",
       "      <th></th>\n",
       "    </tr>\n",
       "  </thead>\n",
       "  <tbody>\n",
       "    <tr>\n",
       "      <th>Public Works &amp; Engineering-PWE</th>\n",
       "      <td>50586.0</td>\n",
       "    </tr>\n",
       "    <tr>\n",
       "      <th>Houston Police Department-HPD</th>\n",
       "      <td>66614.0</td>\n",
       "    </tr>\n",
       "    <tr>\n",
       "      <th>Houston Police Department-HPD</th>\n",
       "      <td>66614.0</td>\n",
       "    </tr>\n",
       "    <tr>\n",
       "      <th>Housing and Community Devp.</th>\n",
       "      <td>78853.0</td>\n",
       "    </tr>\n",
       "    <tr>\n",
       "      <th>Houston Police Department-HPD</th>\n",
       "      <td>66614.0</td>\n",
       "    </tr>\n",
       "    <tr>\n",
       "      <th>Parks &amp; Recreation</th>\n",
       "      <td>NaN</td>\n",
       "    </tr>\n",
       "    <tr>\n",
       "      <th>Public Works &amp; Engineering-PWE</th>\n",
       "      <td>37211.0</td>\n",
       "    </tr>\n",
       "    <tr>\n",
       "      <th>Public Works &amp; Engineering-PWE</th>\n",
       "      <td>54683.0</td>\n",
       "    </tr>\n",
       "    <tr>\n",
       "      <th>Human Resources Dept.</th>\n",
       "      <td>58474.0</td>\n",
       "    </tr>\n",
       "    <tr>\n",
       "      <th>Health &amp; Human Services</th>\n",
       "      <td>47050.0</td>\n",
       "    </tr>\n",
       "  </tbody>\n",
       "</table>\n",
       "</div>"
      ],
      "text/plain": [
       "                                BASE_SALARY\n",
       "DEPARTMENT                                 \n",
       "Public Works & Engineering-PWE      50586.0\n",
       "Houston Police Department-HPD       66614.0\n",
       "Houston Police Department-HPD       66614.0\n",
       "Housing and Community Devp.         78853.0\n",
       "Houston Police Department-HPD       66614.0\n",
       "Parks & Recreation                      NaN\n",
       "Public Works & Engineering-PWE      37211.0\n",
       "Public Works & Engineering-PWE      54683.0\n",
       "Human Resources Dept.               58474.0\n",
       "Health & Human Services             47050.0"
      ]
     },
     "execution_count": 55,
     "metadata": {},
     "output_type": "execute_result"
    }
   ],
   "source": [
    "np.random.seed(1234)\n",
    "random_salary = dept_salary.sample(n=10).set_index('DEPARTMENT')\n",
    "random_salary"
   ]
  },
  {
   "cell_type": "markdown",
   "metadata": {},
   "source": [
    "Notice how there are several repeated departments in the index. Now when we attempt to create a new column, an error is raised alerting us that there are duplicates. At least one index label in the employee DataFrame is joining with two or more index labels from random_salary:"
   ]
  },
  {
   "cell_type": "code",
   "execution_count": 56,
   "metadata": {},
   "outputs": [
    {
     "ename": "ValueError",
     "evalue": "cannot reindex on an axis with duplicate labels",
     "output_type": "error",
     "traceback": [
      "\u001b[1;31m---------------------------------------------------------------------------\u001b[0m",
      "\u001b[1;31mValueError\u001b[0m                                Traceback (most recent call last)",
      "Cell \u001b[1;32mIn[56], line 1\u001b[0m\n\u001b[1;32m----> 1\u001b[0m employee[\u001b[38;5;124m'\u001b[39m\u001b[38;5;124mRANDOM_SALARY\u001b[39m\u001b[38;5;124m'\u001b[39m] \u001b[38;5;241m=\u001b[39m random_salary[\u001b[38;5;124m'\u001b[39m\u001b[38;5;124mBASE_SALARY\u001b[39m\u001b[38;5;124m'\u001b[39m]\n",
      "File \u001b[1;32m~\\anaconda3\\envs\\stablediffusion\\lib\\site-packages\\pandas\\core\\frame.py:4091\u001b[0m, in \u001b[0;36mDataFrame.__setitem__\u001b[1;34m(self, key, value)\u001b[0m\n\u001b[0;32m   4088\u001b[0m     \u001b[38;5;28mself\u001b[39m\u001b[38;5;241m.\u001b[39m_setitem_array([key], value)\n\u001b[0;32m   4089\u001b[0m \u001b[38;5;28;01melse\u001b[39;00m:\n\u001b[0;32m   4090\u001b[0m     \u001b[38;5;66;03m# set column\u001b[39;00m\n\u001b[1;32m-> 4091\u001b[0m     \u001b[38;5;28;43mself\u001b[39;49m\u001b[38;5;241;43m.\u001b[39;49m\u001b[43m_set_item\u001b[49m\u001b[43m(\u001b[49m\u001b[43mkey\u001b[49m\u001b[43m,\u001b[49m\u001b[43m \u001b[49m\u001b[43mvalue\u001b[49m\u001b[43m)\u001b[49m\n",
      "File \u001b[1;32m~\\anaconda3\\envs\\stablediffusion\\lib\\site-packages\\pandas\\core\\frame.py:4300\u001b[0m, in \u001b[0;36mDataFrame._set_item\u001b[1;34m(self, key, value)\u001b[0m\n\u001b[0;32m   4290\u001b[0m \u001b[38;5;28;01mdef\u001b[39;00m \u001b[38;5;21m_set_item\u001b[39m(\u001b[38;5;28mself\u001b[39m, key, value) \u001b[38;5;241m-\u001b[39m\u001b[38;5;241m>\u001b[39m \u001b[38;5;28;01mNone\u001b[39;00m:\n\u001b[0;32m   4291\u001b[0m \u001b[38;5;250m    \u001b[39m\u001b[38;5;124;03m\"\"\"\u001b[39;00m\n\u001b[0;32m   4292\u001b[0m \u001b[38;5;124;03m    Add series to DataFrame in specified column.\u001b[39;00m\n\u001b[0;32m   4293\u001b[0m \n\u001b[1;32m   (...)\u001b[0m\n\u001b[0;32m   4298\u001b[0m \u001b[38;5;124;03m    ensure homogeneity.\u001b[39;00m\n\u001b[0;32m   4299\u001b[0m \u001b[38;5;124;03m    \"\"\"\u001b[39;00m\n\u001b[1;32m-> 4300\u001b[0m     value, refs \u001b[38;5;241m=\u001b[39m \u001b[38;5;28;43mself\u001b[39;49m\u001b[38;5;241;43m.\u001b[39;49m\u001b[43m_sanitize_column\u001b[49m\u001b[43m(\u001b[49m\u001b[43mvalue\u001b[49m\u001b[43m)\u001b[49m\n\u001b[0;32m   4302\u001b[0m     \u001b[38;5;28;01mif\u001b[39;00m (\n\u001b[0;32m   4303\u001b[0m         key \u001b[38;5;129;01min\u001b[39;00m \u001b[38;5;28mself\u001b[39m\u001b[38;5;241m.\u001b[39mcolumns\n\u001b[0;32m   4304\u001b[0m         \u001b[38;5;129;01mand\u001b[39;00m value\u001b[38;5;241m.\u001b[39mndim \u001b[38;5;241m==\u001b[39m \u001b[38;5;241m1\u001b[39m\n\u001b[0;32m   4305\u001b[0m         \u001b[38;5;129;01mand\u001b[39;00m \u001b[38;5;129;01mnot\u001b[39;00m \u001b[38;5;28misinstance\u001b[39m(value\u001b[38;5;241m.\u001b[39mdtype, ExtensionDtype)\n\u001b[0;32m   4306\u001b[0m     ):\n\u001b[0;32m   4307\u001b[0m         \u001b[38;5;66;03m# broadcast across multiple columns if necessary\u001b[39;00m\n\u001b[0;32m   4308\u001b[0m         \u001b[38;5;28;01mif\u001b[39;00m \u001b[38;5;129;01mnot\u001b[39;00m \u001b[38;5;28mself\u001b[39m\u001b[38;5;241m.\u001b[39mcolumns\u001b[38;5;241m.\u001b[39mis_unique \u001b[38;5;129;01mor\u001b[39;00m \u001b[38;5;28misinstance\u001b[39m(\u001b[38;5;28mself\u001b[39m\u001b[38;5;241m.\u001b[39mcolumns, MultiIndex):\n",
      "File \u001b[1;32m~\\anaconda3\\envs\\stablediffusion\\lib\\site-packages\\pandas\\core\\frame.py:5036\u001b[0m, in \u001b[0;36mDataFrame._sanitize_column\u001b[1;34m(self, value)\u001b[0m\n\u001b[0;32m   5034\u001b[0m     \u001b[38;5;28;01mif\u001b[39;00m \u001b[38;5;129;01mnot\u001b[39;00m \u001b[38;5;28misinstance\u001b[39m(value, Series):\n\u001b[0;32m   5035\u001b[0m         value \u001b[38;5;241m=\u001b[39m Series(value)\n\u001b[1;32m-> 5036\u001b[0m     \u001b[38;5;28;01mreturn\u001b[39;00m \u001b[43m_reindex_for_setitem\u001b[49m\u001b[43m(\u001b[49m\u001b[43mvalue\u001b[49m\u001b[43m,\u001b[49m\u001b[43m \u001b[49m\u001b[38;5;28;43mself\u001b[39;49m\u001b[38;5;241;43m.\u001b[39;49m\u001b[43mindex\u001b[49m\u001b[43m)\u001b[49m\n\u001b[0;32m   5038\u001b[0m \u001b[38;5;28;01mif\u001b[39;00m is_list_like(value):\n\u001b[0;32m   5039\u001b[0m     com\u001b[38;5;241m.\u001b[39mrequire_length_match(value, \u001b[38;5;28mself\u001b[39m\u001b[38;5;241m.\u001b[39mindex)\n",
      "File \u001b[1;32m~\\anaconda3\\envs\\stablediffusion\\lib\\site-packages\\pandas\\core\\frame.py:12309\u001b[0m, in \u001b[0;36m_reindex_for_setitem\u001b[1;34m(value, index)\u001b[0m\n\u001b[0;32m  12305\u001b[0m \u001b[38;5;28;01mexcept\u001b[39;00m \u001b[38;5;167;01mValueError\u001b[39;00m \u001b[38;5;28;01mas\u001b[39;00m err:\n\u001b[0;32m  12306\u001b[0m     \u001b[38;5;66;03m# raised in MultiIndex.from_tuples, see test_insert_error_msmgs\u001b[39;00m\n\u001b[0;32m  12307\u001b[0m     \u001b[38;5;28;01mif\u001b[39;00m \u001b[38;5;129;01mnot\u001b[39;00m value\u001b[38;5;241m.\u001b[39mindex\u001b[38;5;241m.\u001b[39mis_unique:\n\u001b[0;32m  12308\u001b[0m         \u001b[38;5;66;03m# duplicate axis\u001b[39;00m\n\u001b[1;32m> 12309\u001b[0m         \u001b[38;5;28;01mraise\u001b[39;00m err\n\u001b[0;32m  12311\u001b[0m     \u001b[38;5;28;01mraise\u001b[39;00m \u001b[38;5;167;01mTypeError\u001b[39;00m(\n\u001b[0;32m  12312\u001b[0m         \u001b[38;5;124m\"\u001b[39m\u001b[38;5;124mincompatible index of inserted column with frame index\u001b[39m\u001b[38;5;124m\"\u001b[39m\n\u001b[0;32m  12313\u001b[0m     ) \u001b[38;5;28;01mfrom\u001b[39;00m \u001b[38;5;21;01merr\u001b[39;00m\n\u001b[0;32m  12314\u001b[0m \u001b[38;5;28;01mreturn\u001b[39;00m reindexed_value, \u001b[38;5;28;01mNone\u001b[39;00m\n",
      "File \u001b[1;32m~\\anaconda3\\envs\\stablediffusion\\lib\\site-packages\\pandas\\core\\frame.py:12304\u001b[0m, in \u001b[0;36m_reindex_for_setitem\u001b[1;34m(value, index)\u001b[0m\n\u001b[0;32m  12302\u001b[0m \u001b[38;5;66;03m# GH#4107\u001b[39;00m\n\u001b[0;32m  12303\u001b[0m \u001b[38;5;28;01mtry\u001b[39;00m:\n\u001b[1;32m> 12304\u001b[0m     reindexed_value \u001b[38;5;241m=\u001b[39m \u001b[43mvalue\u001b[49m\u001b[38;5;241;43m.\u001b[39;49m\u001b[43mreindex\u001b[49m\u001b[43m(\u001b[49m\u001b[43mindex\u001b[49m\u001b[43m)\u001b[49m\u001b[38;5;241m.\u001b[39m_values\n\u001b[0;32m  12305\u001b[0m \u001b[38;5;28;01mexcept\u001b[39;00m \u001b[38;5;167;01mValueError\u001b[39;00m \u001b[38;5;28;01mas\u001b[39;00m err:\n\u001b[0;32m  12306\u001b[0m     \u001b[38;5;66;03m# raised in MultiIndex.from_tuples, see test_insert_error_msmgs\u001b[39;00m\n\u001b[0;32m  12307\u001b[0m     \u001b[38;5;28;01mif\u001b[39;00m \u001b[38;5;129;01mnot\u001b[39;00m value\u001b[38;5;241m.\u001b[39mindex\u001b[38;5;241m.\u001b[39mis_unique:\n\u001b[0;32m  12308\u001b[0m         \u001b[38;5;66;03m# duplicate axis\u001b[39;00m\n",
      "File \u001b[1;32m~\\anaconda3\\envs\\stablediffusion\\lib\\site-packages\\pandas\\core\\series.py:4981\u001b[0m, in \u001b[0;36mSeries.reindex\u001b[1;34m(self, index, axis, method, copy, level, fill_value, limit, tolerance)\u001b[0m\n\u001b[0;32m   4964\u001b[0m \u001b[38;5;129m@doc\u001b[39m(\n\u001b[0;32m   4965\u001b[0m     NDFrame\u001b[38;5;241m.\u001b[39mreindex,  \u001b[38;5;66;03m# type: ignore[has-type]\u001b[39;00m\n\u001b[0;32m   4966\u001b[0m     klass\u001b[38;5;241m=\u001b[39m_shared_doc_kwargs[\u001b[38;5;124m\"\u001b[39m\u001b[38;5;124mklass\u001b[39m\u001b[38;5;124m\"\u001b[39m],\n\u001b[1;32m   (...)\u001b[0m\n\u001b[0;32m   4979\u001b[0m     tolerance\u001b[38;5;241m=\u001b[39m\u001b[38;5;28;01mNone\u001b[39;00m,\n\u001b[0;32m   4980\u001b[0m ) \u001b[38;5;241m-\u001b[39m\u001b[38;5;241m>\u001b[39m Series:\n\u001b[1;32m-> 4981\u001b[0m     \u001b[38;5;28;01mreturn\u001b[39;00m \u001b[38;5;28;43msuper\u001b[39;49m\u001b[43m(\u001b[49m\u001b[43m)\u001b[49m\u001b[38;5;241;43m.\u001b[39;49m\u001b[43mreindex\u001b[49m\u001b[43m(\u001b[49m\n\u001b[0;32m   4982\u001b[0m \u001b[43m        \u001b[49m\u001b[43mindex\u001b[49m\u001b[38;5;241;43m=\u001b[39;49m\u001b[43mindex\u001b[49m\u001b[43m,\u001b[49m\n\u001b[0;32m   4983\u001b[0m \u001b[43m        \u001b[49m\u001b[43mmethod\u001b[49m\u001b[38;5;241;43m=\u001b[39;49m\u001b[43mmethod\u001b[49m\u001b[43m,\u001b[49m\n\u001b[0;32m   4984\u001b[0m \u001b[43m        \u001b[49m\u001b[43mcopy\u001b[49m\u001b[38;5;241;43m=\u001b[39;49m\u001b[43mcopy\u001b[49m\u001b[43m,\u001b[49m\n\u001b[0;32m   4985\u001b[0m \u001b[43m        \u001b[49m\u001b[43mlevel\u001b[49m\u001b[38;5;241;43m=\u001b[39;49m\u001b[43mlevel\u001b[49m\u001b[43m,\u001b[49m\n\u001b[0;32m   4986\u001b[0m \u001b[43m        \u001b[49m\u001b[43mfill_value\u001b[49m\u001b[38;5;241;43m=\u001b[39;49m\u001b[43mfill_value\u001b[49m\u001b[43m,\u001b[49m\n\u001b[0;32m   4987\u001b[0m \u001b[43m        \u001b[49m\u001b[43mlimit\u001b[49m\u001b[38;5;241;43m=\u001b[39;49m\u001b[43mlimit\u001b[49m\u001b[43m,\u001b[49m\n\u001b[0;32m   4988\u001b[0m \u001b[43m        \u001b[49m\u001b[43mtolerance\u001b[49m\u001b[38;5;241;43m=\u001b[39;49m\u001b[43mtolerance\u001b[49m\u001b[43m,\u001b[49m\n\u001b[0;32m   4989\u001b[0m \u001b[43m    \u001b[49m\u001b[43m)\u001b[49m\n",
      "File \u001b[1;32m~\\anaconda3\\envs\\stablediffusion\\lib\\site-packages\\pandas\\core\\generic.py:5521\u001b[0m, in \u001b[0;36mNDFrame.reindex\u001b[1;34m(self, labels, index, columns, axis, method, copy, level, fill_value, limit, tolerance)\u001b[0m\n\u001b[0;32m   5518\u001b[0m     \u001b[38;5;28;01mreturn\u001b[39;00m \u001b[38;5;28mself\u001b[39m\u001b[38;5;241m.\u001b[39m_reindex_multi(axes, copy, fill_value)\n\u001b[0;32m   5520\u001b[0m \u001b[38;5;66;03m# perform the reindex on the axes\u001b[39;00m\n\u001b[1;32m-> 5521\u001b[0m \u001b[38;5;28;01mreturn\u001b[39;00m \u001b[38;5;28;43mself\u001b[39;49m\u001b[38;5;241;43m.\u001b[39;49m\u001b[43m_reindex_axes\u001b[49m\u001b[43m(\u001b[49m\n\u001b[0;32m   5522\u001b[0m \u001b[43m    \u001b[49m\u001b[43maxes\u001b[49m\u001b[43m,\u001b[49m\u001b[43m \u001b[49m\u001b[43mlevel\u001b[49m\u001b[43m,\u001b[49m\u001b[43m \u001b[49m\u001b[43mlimit\u001b[49m\u001b[43m,\u001b[49m\u001b[43m \u001b[49m\u001b[43mtolerance\u001b[49m\u001b[43m,\u001b[49m\u001b[43m \u001b[49m\u001b[43mmethod\u001b[49m\u001b[43m,\u001b[49m\u001b[43m \u001b[49m\u001b[43mfill_value\u001b[49m\u001b[43m,\u001b[49m\u001b[43m \u001b[49m\u001b[43mcopy\u001b[49m\n\u001b[0;32m   5523\u001b[0m \u001b[43m\u001b[49m\u001b[43m)\u001b[49m\u001b[38;5;241m.\u001b[39m__finalize__(\u001b[38;5;28mself\u001b[39m, method\u001b[38;5;241m=\u001b[39m\u001b[38;5;124m\"\u001b[39m\u001b[38;5;124mreindex\u001b[39m\u001b[38;5;124m\"\u001b[39m)\n",
      "File \u001b[1;32m~\\anaconda3\\envs\\stablediffusion\\lib\\site-packages\\pandas\\core\\generic.py:5544\u001b[0m, in \u001b[0;36mNDFrame._reindex_axes\u001b[1;34m(self, axes, level, limit, tolerance, method, fill_value, copy)\u001b[0m\n\u001b[0;32m   5541\u001b[0m     \u001b[38;5;28;01mcontinue\u001b[39;00m\n\u001b[0;32m   5543\u001b[0m ax \u001b[38;5;241m=\u001b[39m \u001b[38;5;28mself\u001b[39m\u001b[38;5;241m.\u001b[39m_get_axis(a)\n\u001b[1;32m-> 5544\u001b[0m new_index, indexer \u001b[38;5;241m=\u001b[39m \u001b[43max\u001b[49m\u001b[38;5;241;43m.\u001b[39;49m\u001b[43mreindex\u001b[49m\u001b[43m(\u001b[49m\n\u001b[0;32m   5545\u001b[0m \u001b[43m    \u001b[49m\u001b[43mlabels\u001b[49m\u001b[43m,\u001b[49m\u001b[43m \u001b[49m\u001b[43mlevel\u001b[49m\u001b[38;5;241;43m=\u001b[39;49m\u001b[43mlevel\u001b[49m\u001b[43m,\u001b[49m\u001b[43m \u001b[49m\u001b[43mlimit\u001b[49m\u001b[38;5;241;43m=\u001b[39;49m\u001b[43mlimit\u001b[49m\u001b[43m,\u001b[49m\u001b[43m \u001b[49m\u001b[43mtolerance\u001b[49m\u001b[38;5;241;43m=\u001b[39;49m\u001b[43mtolerance\u001b[49m\u001b[43m,\u001b[49m\u001b[43m \u001b[49m\u001b[43mmethod\u001b[49m\u001b[38;5;241;43m=\u001b[39;49m\u001b[43mmethod\u001b[49m\n\u001b[0;32m   5546\u001b[0m \u001b[43m\u001b[49m\u001b[43m)\u001b[49m\n\u001b[0;32m   5548\u001b[0m axis \u001b[38;5;241m=\u001b[39m \u001b[38;5;28mself\u001b[39m\u001b[38;5;241m.\u001b[39m_get_axis_number(a)\n\u001b[0;32m   5549\u001b[0m obj \u001b[38;5;241m=\u001b[39m obj\u001b[38;5;241m.\u001b[39m_reindex_with_indexers(\n\u001b[0;32m   5550\u001b[0m     {axis: [new_index, indexer]},\n\u001b[0;32m   5551\u001b[0m     fill_value\u001b[38;5;241m=\u001b[39mfill_value,\n\u001b[0;32m   5552\u001b[0m     copy\u001b[38;5;241m=\u001b[39mcopy,\n\u001b[0;32m   5553\u001b[0m     allow_dups\u001b[38;5;241m=\u001b[39m\u001b[38;5;28;01mFalse\u001b[39;00m,\n\u001b[0;32m   5554\u001b[0m )\n",
      "File \u001b[1;32m~\\anaconda3\\envs\\stablediffusion\\lib\\site-packages\\pandas\\core\\indexes\\base.py:4434\u001b[0m, in \u001b[0;36mIndex.reindex\u001b[1;34m(self, target, method, level, limit, tolerance)\u001b[0m\n\u001b[0;32m   4431\u001b[0m     \u001b[38;5;28;01mraise\u001b[39;00m \u001b[38;5;167;01mValueError\u001b[39;00m(\u001b[38;5;124m\"\u001b[39m\u001b[38;5;124mcannot handle a non-unique multi-index!\u001b[39m\u001b[38;5;124m\"\u001b[39m)\n\u001b[0;32m   4432\u001b[0m \u001b[38;5;28;01melif\u001b[39;00m \u001b[38;5;129;01mnot\u001b[39;00m \u001b[38;5;28mself\u001b[39m\u001b[38;5;241m.\u001b[39mis_unique:\n\u001b[0;32m   4433\u001b[0m     \u001b[38;5;66;03m# GH#42568\u001b[39;00m\n\u001b[1;32m-> 4434\u001b[0m     \u001b[38;5;28;01mraise\u001b[39;00m \u001b[38;5;167;01mValueError\u001b[39;00m(\u001b[38;5;124m\"\u001b[39m\u001b[38;5;124mcannot reindex on an axis with duplicate labels\u001b[39m\u001b[38;5;124m\"\u001b[39m)\n\u001b[0;32m   4435\u001b[0m \u001b[38;5;28;01melse\u001b[39;00m:\n\u001b[0;32m   4436\u001b[0m     indexer, _ \u001b[38;5;241m=\u001b[39m \u001b[38;5;28mself\u001b[39m\u001b[38;5;241m.\u001b[39mget_indexer_non_unique(target)\n",
      "\u001b[1;31mValueError\u001b[0m: cannot reindex on an axis with duplicate labels"
     ]
    }
   ],
   "source": [
    "employee['RANDOM_SALARY'] = random_salary['BASE_SALARY']"
   ]
  },
  {
   "cell_type": "markdown",
   "metadata": {},
   "source": [
    "## There's more...\n",
    "Not all indexes on the left-hand side of the equal sign need to have a match, but at most can have one. If there is nothing for the left DataFrame index to align to, the resulting value will be missing. Let's create an example where this happens. We will use only the first three rows of the max_dept_sal Series to create a new column:"
   ]
  },
  {
   "cell_type": "code",
   "execution_count": 58,
   "metadata": {},
   "outputs": [],
   "source": [
    "employee['MAX_SALARY2'] = max_dept_salary['BASE_SALARY'].head(3)"
   ]
  },
  {
   "cell_type": "code",
   "execution_count": 59,
   "metadata": {},
   "outputs": [
    {
     "data": {
      "text/plain": [
       "MAX_SALARY2\n",
       "140416.0    29\n",
       "100000.0    11\n",
       "64251.0      5\n",
       "Name: count, dtype: int64"
      ]
     },
     "execution_count": 59,
     "metadata": {},
     "output_type": "execute_result"
    }
   ],
   "source": [
    "employee.MAX_SALARY2.value_counts()"
   ]
  },
  {
   "cell_type": "code",
   "execution_count": 60,
   "metadata": {},
   "outputs": [
    {
     "data": {
      "text/plain": [
       "0.9775"
      ]
     },
     "execution_count": 60,
     "metadata": {},
     "output_type": "execute_result"
    }
   ],
   "source": [
    "employee.MAX_SALARY2.isnull().mean()"
   ]
  },
  {
   "cell_type": "markdown",
   "metadata": {},
   "source": [
    "The operation completed successfully but filled in salaries for only three of the departments. All the other departments that did not appear in the first three rows of the max_dept_sal Series resulted in a missing value."
   ]
  },
  {
   "cell_type": "markdown",
   "metadata": {},
   "source": [
    "# Highlighting maximum value from each column\n",
    "\n",
    "The college dataset has many numeric columns describing different metrics about each school. Many people are interested in schools that perform the best for certain metrics.\n",
    "\n",
    "### Getting ready\n",
    "\n",
    "This recipe discovers the school that has the maximum value for each numeric column and styles the DataFrame in order to highlight the information so that it is easily consumed by a user.\n",
    "\n",
    "### How to do it...\n",
    "\n",
    "Read the college dataset with the institution name as the index:"
   ]
  },
  {
   "cell_type": "code",
   "execution_count": 61,
   "metadata": {},
   "outputs": [],
   "source": [
    "pd.options.display.max_rows = 8"
   ]
  },
  {
   "cell_type": "code",
   "execution_count": 62,
   "metadata": {},
   "outputs": [
    {
     "data": {
      "text/plain": [
       "CITY                   object\n",
       "STABBR                 object\n",
       "HBCU                  float64\n",
       "MENONLY               float64\n",
       "                       ...   \n",
       "PCTFLOAN              float64\n",
       "UG25ABV               float64\n",
       "MD_EARN_WNE_P10        object\n",
       "GRAD_DEBT_MDN_SUPP     object\n",
       "Length: 26, dtype: object"
      ]
     },
     "execution_count": 62,
     "metadata": {},
     "output_type": "execute_result"
    }
   ],
   "source": [
    "college = pd.read_csv('data/college.csv', index_col='INSTNM')\n",
    "college.dtypes"
   ]
  },
  {
   "cell_type": "markdown",
   "metadata": {},
   "source": [
    "All the other columns besides CITY and STABBR appear to be numeric. Examining the data types from the preceding step reveals unexpectedly that the MD_EARN_WNE_P10 and GRAD_DEBT_MDN_SUPP columns are of type object and not numeric. To help get a better idea of what kind of values are in these columns, let's examine their first value:"
   ]
  },
  {
   "cell_type": "code",
   "execution_count": 63,
   "metadata": {},
   "outputs": [
    {
     "data": {
      "text/plain": [
       "MD_EARN_WNE_P10\n",
       "PrivacySuppressed    822\n",
       "38800                151\n",
       "21500                 97\n",
       "49200                 78\n",
       "27400                 46\n",
       "Name: count, dtype: int64"
      ]
     },
     "execution_count": 63,
     "metadata": {},
     "output_type": "execute_result"
    }
   ],
   "source": [
    "college.MD_EARN_WNE_P10.value_counts().head()"
   ]
  },
  {
   "cell_type": "code",
   "execution_count": 64,
   "metadata": {},
   "outputs": [
    {
     "data": {
      "text/plain": [
       "'30300'"
      ]
     },
     "execution_count": 64,
     "metadata": {},
     "output_type": "execute_result"
    }
   ],
   "source": [
    "college.MD_EARN_WNE_P10.iloc[0]"
   ]
  },
  {
   "cell_type": "code",
   "execution_count": 65,
   "metadata": {},
   "outputs": [
    {
     "data": {
      "text/plain": [
       "'33888'"
      ]
     },
     "execution_count": 65,
     "metadata": {},
     "output_type": "execute_result"
    }
   ],
   "source": [
    "college.GRAD_DEBT_MDN_SUPP.iloc[0]"
   ]
  },
  {
   "cell_type": "markdown",
   "metadata": {},
   "source": [
    "These values are strings but we would like them to be numeric. This means that there are likely to be non-numeric characters that appear elsewhere in the Series. One way to check for this is to sort these columns in descending order and examine the first few rows:"
   ]
  },
  {
   "cell_type": "code",
   "execution_count": 66,
   "metadata": {},
   "outputs": [
    {
     "data": {
      "text/plain": [
       "INSTNM\n",
       "Sharon Regional Health System School of Nursing          PrivacySuppressed\n",
       "P&A Scholars Beauty School                               PrivacySuppressed\n",
       "Fairview Beauty Academy                                  PrivacySuppressed\n",
       "Rabbi Jacob Joseph School                                PrivacySuppressed\n",
       "Acupuncture and Integrative Medicine College-Berkeley    PrivacySuppressed\n",
       "Name: MD_EARN_WNE_P10, dtype: object"
      ]
     },
     "execution_count": 66,
     "metadata": {},
     "output_type": "execute_result"
    }
   ],
   "source": [
    "college.MD_EARN_WNE_P10.sort_values(ascending=False).head()"
   ]
  },
  {
   "cell_type": "markdown",
   "metadata": {},
   "source": [
    "The culprit appears to be that some schools have privacy concerns about these two columns of data. To force these columns to be numeric, use the pandas function to_numeric:"
   ]
  },
  {
   "cell_type": "code",
   "execution_count": 67,
   "metadata": {},
   "outputs": [],
   "source": [
    "college['MD_EARN_WNE_P10'] = pd.to_numeric(college.MD_EARN_WNE_P10, errors='coerce')\n",
    "college['GRAD_DEBT_MDN_SUPP'] = pd.to_numeric(college.GRAD_DEBT_MDN_SUPP, errors='coerce')"
   ]
  },
  {
   "cell_type": "code",
   "execution_count": 68,
   "metadata": {},
   "outputs": [
    {
     "data": {
      "text/plain": [
       "MD_EARN_WNE_P10       float64\n",
       "GRAD_DEBT_MDN_SUPP    float64\n",
       "dtype: object"
      ]
     },
     "execution_count": 68,
     "metadata": {},
     "output_type": "execute_result"
    }
   ],
   "source": [
    "college.dtypes.loc[['MD_EARN_WNE_P10', 'GRAD_DEBT_MDN_SUPP']]"
   ]
  },
  {
   "cell_type": "markdown",
   "metadata": {},
   "source": [
    "Use the select_dtypes method to filter for only numeric columns. This will exclude STABBR and CITY columns, where a maximum value doesn't make sense with this problem:\n"
   ]
  },
  {
   "cell_type": "code",
   "execution_count": 69,
   "metadata": {},
   "outputs": [
    {
     "data": {
      "text/html": [
       "<div>\n",
       "<style scoped>\n",
       "    .dataframe tbody tr th:only-of-type {\n",
       "        vertical-align: middle;\n",
       "    }\n",
       "\n",
       "    .dataframe tbody tr th {\n",
       "        vertical-align: top;\n",
       "    }\n",
       "\n",
       "    .dataframe thead th {\n",
       "        text-align: right;\n",
       "    }\n",
       "</style>\n",
       "<table border=\"1\" class=\"dataframe\">\n",
       "  <thead>\n",
       "    <tr style=\"text-align: right;\">\n",
       "      <th></th>\n",
       "      <th>HBCU</th>\n",
       "      <th>MENONLY</th>\n",
       "      <th>WOMENONLY</th>\n",
       "      <th>...</th>\n",
       "      <th>UG25ABV</th>\n",
       "      <th>MD_EARN_WNE_P10</th>\n",
       "      <th>GRAD_DEBT_MDN_SUPP</th>\n",
       "    </tr>\n",
       "    <tr>\n",
       "      <th>INSTNM</th>\n",
       "      <th></th>\n",
       "      <th></th>\n",
       "      <th></th>\n",
       "      <th></th>\n",
       "      <th></th>\n",
       "      <th></th>\n",
       "      <th></th>\n",
       "    </tr>\n",
       "  </thead>\n",
       "  <tbody>\n",
       "    <tr>\n",
       "      <th>Alabama A &amp; M University</th>\n",
       "      <td>1.0</td>\n",
       "      <td>0.0</td>\n",
       "      <td>0.0</td>\n",
       "      <td>...</td>\n",
       "      <td>0.1049</td>\n",
       "      <td>30300.0</td>\n",
       "      <td>33888.0</td>\n",
       "    </tr>\n",
       "    <tr>\n",
       "      <th>University of Alabama at Birmingham</th>\n",
       "      <td>0.0</td>\n",
       "      <td>0.0</td>\n",
       "      <td>0.0</td>\n",
       "      <td>...</td>\n",
       "      <td>0.2422</td>\n",
       "      <td>39700.0</td>\n",
       "      <td>21941.5</td>\n",
       "    </tr>\n",
       "    <tr>\n",
       "      <th>Amridge University</th>\n",
       "      <td>0.0</td>\n",
       "      <td>0.0</td>\n",
       "      <td>0.0</td>\n",
       "      <td>...</td>\n",
       "      <td>0.8540</td>\n",
       "      <td>40100.0</td>\n",
       "      <td>23370.0</td>\n",
       "    </tr>\n",
       "    <tr>\n",
       "      <th>University of Alabama in Huntsville</th>\n",
       "      <td>0.0</td>\n",
       "      <td>0.0</td>\n",
       "      <td>0.0</td>\n",
       "      <td>...</td>\n",
       "      <td>0.2640</td>\n",
       "      <td>45500.0</td>\n",
       "      <td>24097.0</td>\n",
       "    </tr>\n",
       "    <tr>\n",
       "      <th>Alabama State University</th>\n",
       "      <td>1.0</td>\n",
       "      <td>0.0</td>\n",
       "      <td>0.0</td>\n",
       "      <td>...</td>\n",
       "      <td>0.1270</td>\n",
       "      <td>26600.0</td>\n",
       "      <td>33118.5</td>\n",
       "    </tr>\n",
       "  </tbody>\n",
       "</table>\n",
       "<p>5 rows × 24 columns</p>\n",
       "</div>"
      ],
      "text/plain": [
       "                                     HBCU  MENONLY  WOMENONLY  ...  UG25ABV  \\\n",
       "INSTNM                                                         ...            \n",
       "Alabama A & M University              1.0      0.0        0.0  ...   0.1049   \n",
       "University of Alabama at Birmingham   0.0      0.0        0.0  ...   0.2422   \n",
       "Amridge University                    0.0      0.0        0.0  ...   0.8540   \n",
       "University of Alabama in Huntsville   0.0      0.0        0.0  ...   0.2640   \n",
       "Alabama State University              1.0      0.0        0.0  ...   0.1270   \n",
       "\n",
       "                                     MD_EARN_WNE_P10  GRAD_DEBT_MDN_SUPP  \n",
       "INSTNM                                                                    \n",
       "Alabama A & M University                     30300.0             33888.0  \n",
       "University of Alabama at Birmingham          39700.0             21941.5  \n",
       "Amridge University                           40100.0             23370.0  \n",
       "University of Alabama in Huntsville          45500.0             24097.0  \n",
       "Alabama State University                     26600.0             33118.5  \n",
       "\n",
       "[5 rows x 24 columns]"
      ]
     },
     "execution_count": 69,
     "metadata": {},
     "output_type": "execute_result"
    }
   ],
   "source": [
    "college_numeric = college.select_dtypes(include=[np.number])\n",
    "college_numeric.head() # only numeric columns"
   ]
  },
  {
   "cell_type": "markdown",
   "metadata": {},
   "source": [
    "By utilizing the data dictionary, there are several columns that have only binary (0/1) values that will not provide useful information. To programmatically find these columns, we can create boolean Series and find all the columns that have two unique values with the nunique method:"
   ]
  },
  {
   "cell_type": "code",
   "execution_count": 70,
   "metadata": {},
   "outputs": [
    {
     "data": {
      "text/plain": [
       "HBCU          True\n",
       "MENONLY       True\n",
       "WOMENONLY     True\n",
       "RELAFFIL      True\n",
       "SATVRMID     False\n",
       "dtype: bool"
      ]
     },
     "execution_count": 70,
     "metadata": {},
     "output_type": "execute_result"
    }
   ],
   "source": [
    "criteria = college_numeric.nunique() == 2\n",
    "criteria.head()"
   ]
  },
  {
   "cell_type": "markdown",
   "metadata": {},
   "source": [
    "Pass this boolean Series to the indexing operator of the columns index object and create a list of the binary columns:"
   ]
  },
  {
   "cell_type": "code",
   "execution_count": 71,
   "metadata": {},
   "outputs": [
    {
     "data": {
      "text/plain": [
       "['HBCU', 'MENONLY', 'WOMENONLY', 'RELAFFIL', 'DISTANCEONLY', 'CURROPER']"
      ]
     },
     "execution_count": 71,
     "metadata": {},
     "output_type": "execute_result"
    }
   ],
   "source": [
    "binary_cols = college_numeric.columns[criteria].tolist()\n",
    "binary_cols"
   ]
  },
  {
   "cell_type": "markdown",
   "metadata": {},
   "source": [
    "Remove the binary columns with the drop method:"
   ]
  },
  {
   "cell_type": "code",
   "execution_count": 72,
   "metadata": {},
   "outputs": [
    {
     "data": {
      "text/html": [
       "<div>\n",
       "<style scoped>\n",
       "    .dataframe tbody tr th:only-of-type {\n",
       "        vertical-align: middle;\n",
       "    }\n",
       "\n",
       "    .dataframe tbody tr th {\n",
       "        vertical-align: top;\n",
       "    }\n",
       "\n",
       "    .dataframe thead th {\n",
       "        text-align: right;\n",
       "    }\n",
       "</style>\n",
       "<table border=\"1\" class=\"dataframe\">\n",
       "  <thead>\n",
       "    <tr style=\"text-align: right;\">\n",
       "      <th></th>\n",
       "      <th>SATVRMID</th>\n",
       "      <th>SATMTMID</th>\n",
       "      <th>UGDS</th>\n",
       "      <th>...</th>\n",
       "      <th>UG25ABV</th>\n",
       "      <th>MD_EARN_WNE_P10</th>\n",
       "      <th>GRAD_DEBT_MDN_SUPP</th>\n",
       "    </tr>\n",
       "    <tr>\n",
       "      <th>INSTNM</th>\n",
       "      <th></th>\n",
       "      <th></th>\n",
       "      <th></th>\n",
       "      <th></th>\n",
       "      <th></th>\n",
       "      <th></th>\n",
       "      <th></th>\n",
       "    </tr>\n",
       "  </thead>\n",
       "  <tbody>\n",
       "    <tr>\n",
       "      <th>Alabama A &amp; M University</th>\n",
       "      <td>424.0</td>\n",
       "      <td>420.0</td>\n",
       "      <td>4206.0</td>\n",
       "      <td>...</td>\n",
       "      <td>0.1049</td>\n",
       "      <td>30300.0</td>\n",
       "      <td>33888.0</td>\n",
       "    </tr>\n",
       "    <tr>\n",
       "      <th>University of Alabama at Birmingham</th>\n",
       "      <td>570.0</td>\n",
       "      <td>565.0</td>\n",
       "      <td>11383.0</td>\n",
       "      <td>...</td>\n",
       "      <td>0.2422</td>\n",
       "      <td>39700.0</td>\n",
       "      <td>21941.5</td>\n",
       "    </tr>\n",
       "    <tr>\n",
       "      <th>Amridge University</th>\n",
       "      <td>NaN</td>\n",
       "      <td>NaN</td>\n",
       "      <td>291.0</td>\n",
       "      <td>...</td>\n",
       "      <td>0.8540</td>\n",
       "      <td>40100.0</td>\n",
       "      <td>23370.0</td>\n",
       "    </tr>\n",
       "    <tr>\n",
       "      <th>University of Alabama in Huntsville</th>\n",
       "      <td>595.0</td>\n",
       "      <td>590.0</td>\n",
       "      <td>5451.0</td>\n",
       "      <td>...</td>\n",
       "      <td>0.2640</td>\n",
       "      <td>45500.0</td>\n",
       "      <td>24097.0</td>\n",
       "    </tr>\n",
       "    <tr>\n",
       "      <th>Alabama State University</th>\n",
       "      <td>425.0</td>\n",
       "      <td>430.0</td>\n",
       "      <td>4811.0</td>\n",
       "      <td>...</td>\n",
       "      <td>0.1270</td>\n",
       "      <td>26600.0</td>\n",
       "      <td>33118.5</td>\n",
       "    </tr>\n",
       "  </tbody>\n",
       "</table>\n",
       "<p>5 rows × 18 columns</p>\n",
       "</div>"
      ],
      "text/plain": [
       "                                     SATVRMID  SATMTMID     UGDS  ...  \\\n",
       "INSTNM                                                            ...   \n",
       "Alabama A & M University                424.0     420.0   4206.0  ...   \n",
       "University of Alabama at Birmingham     570.0     565.0  11383.0  ...   \n",
       "Amridge University                        NaN       NaN    291.0  ...   \n",
       "University of Alabama in Huntsville     595.0     590.0   5451.0  ...   \n",
       "Alabama State University                425.0     430.0   4811.0  ...   \n",
       "\n",
       "                                     UG25ABV  MD_EARN_WNE_P10  \\\n",
       "INSTNM                                                          \n",
       "Alabama A & M University              0.1049          30300.0   \n",
       "University of Alabama at Birmingham   0.2422          39700.0   \n",
       "Amridge University                    0.8540          40100.0   \n",
       "University of Alabama in Huntsville   0.2640          45500.0   \n",
       "Alabama State University              0.1270          26600.0   \n",
       "\n",
       "                                     GRAD_DEBT_MDN_SUPP  \n",
       "INSTNM                                                   \n",
       "Alabama A & M University                        33888.0  \n",
       "University of Alabama at Birmingham             21941.5  \n",
       "Amridge University                              23370.0  \n",
       "University of Alabama in Huntsville             24097.0  \n",
       "Alabama State University                        33118.5  \n",
       "\n",
       "[5 rows x 18 columns]"
      ]
     },
     "execution_count": 72,
     "metadata": {},
     "output_type": "execute_result"
    }
   ],
   "source": [
    "college_numeric2 = college_numeric.drop(labels=binary_cols, axis='columns')\n",
    "college_numeric2.head()"
   ]
  },
  {
   "cell_type": "markdown",
   "metadata": {},
   "source": [
    "Use the idxmax method to find the index label of the maximum value for each column:"
   ]
  },
  {
   "cell_type": "code",
   "execution_count": 73,
   "metadata": {},
   "outputs": [
    {
     "data": {
      "text/plain": [
       "SATVRMID                      California Institute of Technology\n",
       "SATMTMID                      California Institute of Technology\n",
       "UGDS                               University of Phoenix-Arizona\n",
       "UGDS_WHITE                Mr Leon's School of Hair Design-Moscow\n",
       "                                         ...                    \n",
       "PCTFLOAN                                  ABC Beauty College Inc\n",
       "UG25ABV                           Dongguk University-Los Angeles\n",
       "MD_EARN_WNE_P10                     Medical College of Wisconsin\n",
       "GRAD_DEBT_MDN_SUPP    Southwest University of Visual Arts-Tucson\n",
       "Length: 18, dtype: object"
      ]
     },
     "execution_count": 73,
     "metadata": {},
     "output_type": "execute_result"
    }
   ],
   "source": [
    "max_cols = college_numeric2.idxmax()\n",
    "max_cols"
   ]
  },
  {
   "cell_type": "markdown",
   "metadata": {},
   "source": [
    "Call the unique method on the max_cols Series. This returns an ndarray of the unique column names"
   ]
  },
  {
   "cell_type": "code",
   "execution_count": 74,
   "metadata": {},
   "outputs": [
    {
     "data": {
      "text/plain": [
       "array(['California Institute of Technology',\n",
       "       'University of Phoenix-Arizona',\n",
       "       \"Mr Leon's School of Hair Design-Moscow\",\n",
       "       'Velvatex College of Beauty Culture',\n",
       "       'Thunderbird School of Global Management'], dtype=object)"
      ]
     },
     "execution_count": 74,
     "metadata": {},
     "output_type": "execute_result"
    }
   ],
   "source": [
    "unique_max_cols = max_cols.unique()\n",
    "unique_max_cols[:5]"
   ]
  },
  {
   "cell_type": "markdown",
   "metadata": {},
   "source": [
    "Use the values of max_cols to select only the rows that have schools with a maximum value and then use the style attribute to highlight these values:"
   ]
  },
  {
   "cell_type": "code",
   "execution_count": 75,
   "metadata": {},
   "outputs": [
    {
     "data": {
      "text/html": [
       "<style type=\"text/css\">\n",
       "#T_ccf5b_row0_col0, #T_ccf5b_row0_col1, #T_ccf5b_row1_col2, #T_ccf5b_row2_col3, #T_ccf5b_row3_col4, #T_ccf5b_row4_col5, #T_ccf5b_row4_col12, #T_ccf5b_row5_col6, #T_ccf5b_row6_col7, #T_ccf5b_row7_col8, #T_ccf5b_row8_col9, #T_ccf5b_row9_col10, #T_ccf5b_row10_col11, #T_ccf5b_row11_col13, #T_ccf5b_row11_col14, #T_ccf5b_row12_col14, #T_ccf5b_row13_col15, #T_ccf5b_row14_col16, #T_ccf5b_row15_col17 {\n",
       "  background-color: yellow;\n",
       "}\n",
       "</style>\n",
       "<table id=\"T_ccf5b\">\n",
       "  <thead>\n",
       "    <tr>\n",
       "      <th class=\"blank level0\" >&nbsp;</th>\n",
       "      <th id=\"T_ccf5b_level0_col0\" class=\"col_heading level0 col0\" >SATVRMID</th>\n",
       "      <th id=\"T_ccf5b_level0_col1\" class=\"col_heading level0 col1\" >SATMTMID</th>\n",
       "      <th id=\"T_ccf5b_level0_col2\" class=\"col_heading level0 col2\" >UGDS</th>\n",
       "      <th id=\"T_ccf5b_level0_col3\" class=\"col_heading level0 col3\" >UGDS_WHITE</th>\n",
       "      <th id=\"T_ccf5b_level0_col4\" class=\"col_heading level0 col4\" >UGDS_BLACK</th>\n",
       "      <th id=\"T_ccf5b_level0_col5\" class=\"col_heading level0 col5\" >UGDS_HISP</th>\n",
       "      <th id=\"T_ccf5b_level0_col6\" class=\"col_heading level0 col6\" >UGDS_ASIAN</th>\n",
       "      <th id=\"T_ccf5b_level0_col7\" class=\"col_heading level0 col7\" >UGDS_AIAN</th>\n",
       "      <th id=\"T_ccf5b_level0_col8\" class=\"col_heading level0 col8\" >UGDS_NHPI</th>\n",
       "      <th id=\"T_ccf5b_level0_col9\" class=\"col_heading level0 col9\" >UGDS_2MOR</th>\n",
       "      <th id=\"T_ccf5b_level0_col10\" class=\"col_heading level0 col10\" >UGDS_NRA</th>\n",
       "      <th id=\"T_ccf5b_level0_col11\" class=\"col_heading level0 col11\" >UGDS_UNKN</th>\n",
       "      <th id=\"T_ccf5b_level0_col12\" class=\"col_heading level0 col12\" >PPTUG_EF</th>\n",
       "      <th id=\"T_ccf5b_level0_col13\" class=\"col_heading level0 col13\" >PCTPELL</th>\n",
       "      <th id=\"T_ccf5b_level0_col14\" class=\"col_heading level0 col14\" >PCTFLOAN</th>\n",
       "      <th id=\"T_ccf5b_level0_col15\" class=\"col_heading level0 col15\" >UG25ABV</th>\n",
       "      <th id=\"T_ccf5b_level0_col16\" class=\"col_heading level0 col16\" >MD_EARN_WNE_P10</th>\n",
       "      <th id=\"T_ccf5b_level0_col17\" class=\"col_heading level0 col17\" >GRAD_DEBT_MDN_SUPP</th>\n",
       "    </tr>\n",
       "    <tr>\n",
       "      <th class=\"index_name level0\" >INSTNM</th>\n",
       "      <th class=\"blank col0\" >&nbsp;</th>\n",
       "      <th class=\"blank col1\" >&nbsp;</th>\n",
       "      <th class=\"blank col2\" >&nbsp;</th>\n",
       "      <th class=\"blank col3\" >&nbsp;</th>\n",
       "      <th class=\"blank col4\" >&nbsp;</th>\n",
       "      <th class=\"blank col5\" >&nbsp;</th>\n",
       "      <th class=\"blank col6\" >&nbsp;</th>\n",
       "      <th class=\"blank col7\" >&nbsp;</th>\n",
       "      <th class=\"blank col8\" >&nbsp;</th>\n",
       "      <th class=\"blank col9\" >&nbsp;</th>\n",
       "      <th class=\"blank col10\" >&nbsp;</th>\n",
       "      <th class=\"blank col11\" >&nbsp;</th>\n",
       "      <th class=\"blank col12\" >&nbsp;</th>\n",
       "      <th class=\"blank col13\" >&nbsp;</th>\n",
       "      <th class=\"blank col14\" >&nbsp;</th>\n",
       "      <th class=\"blank col15\" >&nbsp;</th>\n",
       "      <th class=\"blank col16\" >&nbsp;</th>\n",
       "      <th class=\"blank col17\" >&nbsp;</th>\n",
       "    </tr>\n",
       "  </thead>\n",
       "  <tbody>\n",
       "    <tr>\n",
       "      <th id=\"T_ccf5b_level0_row0\" class=\"row_heading level0 row0\" >California Institute of Technology</th>\n",
       "      <td id=\"T_ccf5b_row0_col0\" class=\"data row0 col0\" >765.000000</td>\n",
       "      <td id=\"T_ccf5b_row0_col1\" class=\"data row0 col1\" >785.000000</td>\n",
       "      <td id=\"T_ccf5b_row0_col2\" class=\"data row0 col2\" >983.000000</td>\n",
       "      <td id=\"T_ccf5b_row0_col3\" class=\"data row0 col3\" >0.278700</td>\n",
       "      <td id=\"T_ccf5b_row0_col4\" class=\"data row0 col4\" >0.015300</td>\n",
       "      <td id=\"T_ccf5b_row0_col5\" class=\"data row0 col5\" >0.122100</td>\n",
       "      <td id=\"T_ccf5b_row0_col6\" class=\"data row0 col6\" >0.438500</td>\n",
       "      <td id=\"T_ccf5b_row0_col7\" class=\"data row0 col7\" >0.001000</td>\n",
       "      <td id=\"T_ccf5b_row0_col8\" class=\"data row0 col8\" >0.000000</td>\n",
       "      <td id=\"T_ccf5b_row0_col9\" class=\"data row0 col9\" >0.057000</td>\n",
       "      <td id=\"T_ccf5b_row0_col10\" class=\"data row0 col10\" >0.087500</td>\n",
       "      <td id=\"T_ccf5b_row0_col11\" class=\"data row0 col11\" >0.000000</td>\n",
       "      <td id=\"T_ccf5b_row0_col12\" class=\"data row0 col12\" >0.000000</td>\n",
       "      <td id=\"T_ccf5b_row0_col13\" class=\"data row0 col13\" >0.112600</td>\n",
       "      <td id=\"T_ccf5b_row0_col14\" class=\"data row0 col14\" >0.230300</td>\n",
       "      <td id=\"T_ccf5b_row0_col15\" class=\"data row0 col15\" >0.008200</td>\n",
       "      <td id=\"T_ccf5b_row0_col16\" class=\"data row0 col16\" >77800.000000</td>\n",
       "      <td id=\"T_ccf5b_row0_col17\" class=\"data row0 col17\" >11812.500000</td>\n",
       "    </tr>\n",
       "    <tr>\n",
       "      <th id=\"T_ccf5b_level0_row1\" class=\"row_heading level0 row1\" >University of Phoenix-Arizona</th>\n",
       "      <td id=\"T_ccf5b_row1_col0\" class=\"data row1 col0\" >nan</td>\n",
       "      <td id=\"T_ccf5b_row1_col1\" class=\"data row1 col1\" >nan</td>\n",
       "      <td id=\"T_ccf5b_row1_col2\" class=\"data row1 col2\" >151558.000000</td>\n",
       "      <td id=\"T_ccf5b_row1_col3\" class=\"data row1 col3\" >0.309800</td>\n",
       "      <td id=\"T_ccf5b_row1_col4\" class=\"data row1 col4\" >0.155500</td>\n",
       "      <td id=\"T_ccf5b_row1_col5\" class=\"data row1 col5\" >0.076000</td>\n",
       "      <td id=\"T_ccf5b_row1_col6\" class=\"data row1 col6\" >0.008200</td>\n",
       "      <td id=\"T_ccf5b_row1_col7\" class=\"data row1 col7\" >0.004200</td>\n",
       "      <td id=\"T_ccf5b_row1_col8\" class=\"data row1 col8\" >0.005000</td>\n",
       "      <td id=\"T_ccf5b_row1_col9\" class=\"data row1 col9\" >0.113100</td>\n",
       "      <td id=\"T_ccf5b_row1_col10\" class=\"data row1 col10\" >0.013100</td>\n",
       "      <td id=\"T_ccf5b_row1_col11\" class=\"data row1 col11\" >0.315200</td>\n",
       "      <td id=\"T_ccf5b_row1_col12\" class=\"data row1 col12\" >0.000000</td>\n",
       "      <td id=\"T_ccf5b_row1_col13\" class=\"data row1 col13\" >0.600900</td>\n",
       "      <td id=\"T_ccf5b_row1_col14\" class=\"data row1 col14\" >0.592000</td>\n",
       "      <td id=\"T_ccf5b_row1_col15\" class=\"data row1 col15\" >nan</td>\n",
       "      <td id=\"T_ccf5b_row1_col16\" class=\"data row1 col16\" >nan</td>\n",
       "      <td id=\"T_ccf5b_row1_col17\" class=\"data row1 col17\" >33000.000000</td>\n",
       "    </tr>\n",
       "    <tr>\n",
       "      <th id=\"T_ccf5b_level0_row2\" class=\"row_heading level0 row2\" >Mr Leon's School of Hair Design-Moscow</th>\n",
       "      <td id=\"T_ccf5b_row2_col0\" class=\"data row2 col0\" >nan</td>\n",
       "      <td id=\"T_ccf5b_row2_col1\" class=\"data row2 col1\" >nan</td>\n",
       "      <td id=\"T_ccf5b_row2_col2\" class=\"data row2 col2\" >16.000000</td>\n",
       "      <td id=\"T_ccf5b_row2_col3\" class=\"data row2 col3\" >1.000000</td>\n",
       "      <td id=\"T_ccf5b_row2_col4\" class=\"data row2 col4\" >0.000000</td>\n",
       "      <td id=\"T_ccf5b_row2_col5\" class=\"data row2 col5\" >0.000000</td>\n",
       "      <td id=\"T_ccf5b_row2_col6\" class=\"data row2 col6\" >0.000000</td>\n",
       "      <td id=\"T_ccf5b_row2_col7\" class=\"data row2 col7\" >0.000000</td>\n",
       "      <td id=\"T_ccf5b_row2_col8\" class=\"data row2 col8\" >0.000000</td>\n",
       "      <td id=\"T_ccf5b_row2_col9\" class=\"data row2 col9\" >0.000000</td>\n",
       "      <td id=\"T_ccf5b_row2_col10\" class=\"data row2 col10\" >0.000000</td>\n",
       "      <td id=\"T_ccf5b_row2_col11\" class=\"data row2 col11\" >0.000000</td>\n",
       "      <td id=\"T_ccf5b_row2_col12\" class=\"data row2 col12\" >0.000000</td>\n",
       "      <td id=\"T_ccf5b_row2_col13\" class=\"data row2 col13\" >0.625000</td>\n",
       "      <td id=\"T_ccf5b_row2_col14\" class=\"data row2 col14\" >0.625000</td>\n",
       "      <td id=\"T_ccf5b_row2_col15\" class=\"data row2 col15\" >0.200000</td>\n",
       "      <td id=\"T_ccf5b_row2_col16\" class=\"data row2 col16\" >nan</td>\n",
       "      <td id=\"T_ccf5b_row2_col17\" class=\"data row2 col17\" >15710.000000</td>\n",
       "    </tr>\n",
       "    <tr>\n",
       "      <th id=\"T_ccf5b_level0_row3\" class=\"row_heading level0 row3\" >Velvatex College of Beauty Culture</th>\n",
       "      <td id=\"T_ccf5b_row3_col0\" class=\"data row3 col0\" >nan</td>\n",
       "      <td id=\"T_ccf5b_row3_col1\" class=\"data row3 col1\" >nan</td>\n",
       "      <td id=\"T_ccf5b_row3_col2\" class=\"data row3 col2\" >25.000000</td>\n",
       "      <td id=\"T_ccf5b_row3_col3\" class=\"data row3 col3\" >0.000000</td>\n",
       "      <td id=\"T_ccf5b_row3_col4\" class=\"data row3 col4\" >1.000000</td>\n",
       "      <td id=\"T_ccf5b_row3_col5\" class=\"data row3 col5\" >0.000000</td>\n",
       "      <td id=\"T_ccf5b_row3_col6\" class=\"data row3 col6\" >0.000000</td>\n",
       "      <td id=\"T_ccf5b_row3_col7\" class=\"data row3 col7\" >0.000000</td>\n",
       "      <td id=\"T_ccf5b_row3_col8\" class=\"data row3 col8\" >0.000000</td>\n",
       "      <td id=\"T_ccf5b_row3_col9\" class=\"data row3 col9\" >0.000000</td>\n",
       "      <td id=\"T_ccf5b_row3_col10\" class=\"data row3 col10\" >0.000000</td>\n",
       "      <td id=\"T_ccf5b_row3_col11\" class=\"data row3 col11\" >0.000000</td>\n",
       "      <td id=\"T_ccf5b_row3_col12\" class=\"data row3 col12\" >0.200000</td>\n",
       "      <td id=\"T_ccf5b_row3_col13\" class=\"data row3 col13\" >0.769200</td>\n",
       "      <td id=\"T_ccf5b_row3_col14\" class=\"data row3 col14\" >0.000000</td>\n",
       "      <td id=\"T_ccf5b_row3_col15\" class=\"data row3 col15\" >0.520000</td>\n",
       "      <td id=\"T_ccf5b_row3_col16\" class=\"data row3 col16\" >nan</td>\n",
       "      <td id=\"T_ccf5b_row3_col17\" class=\"data row3 col17\" >nan</td>\n",
       "    </tr>\n",
       "    <tr>\n",
       "      <th id=\"T_ccf5b_level0_row4\" class=\"row_heading level0 row4\" >Thunderbird School of Global Management</th>\n",
       "      <td id=\"T_ccf5b_row4_col0\" class=\"data row4 col0\" >nan</td>\n",
       "      <td id=\"T_ccf5b_row4_col1\" class=\"data row4 col1\" >nan</td>\n",
       "      <td id=\"T_ccf5b_row4_col2\" class=\"data row4 col2\" >1.000000</td>\n",
       "      <td id=\"T_ccf5b_row4_col3\" class=\"data row4 col3\" >0.000000</td>\n",
       "      <td id=\"T_ccf5b_row4_col4\" class=\"data row4 col4\" >0.000000</td>\n",
       "      <td id=\"T_ccf5b_row4_col5\" class=\"data row4 col5\" >1.000000</td>\n",
       "      <td id=\"T_ccf5b_row4_col6\" class=\"data row4 col6\" >0.000000</td>\n",
       "      <td id=\"T_ccf5b_row4_col7\" class=\"data row4 col7\" >0.000000</td>\n",
       "      <td id=\"T_ccf5b_row4_col8\" class=\"data row4 col8\" >0.000000</td>\n",
       "      <td id=\"T_ccf5b_row4_col9\" class=\"data row4 col9\" >0.000000</td>\n",
       "      <td id=\"T_ccf5b_row4_col10\" class=\"data row4 col10\" >0.000000</td>\n",
       "      <td id=\"T_ccf5b_row4_col11\" class=\"data row4 col11\" >0.000000</td>\n",
       "      <td id=\"T_ccf5b_row4_col12\" class=\"data row4 col12\" >1.000000</td>\n",
       "      <td id=\"T_ccf5b_row4_col13\" class=\"data row4 col13\" >0.000000</td>\n",
       "      <td id=\"T_ccf5b_row4_col14\" class=\"data row4 col14\" >0.000000</td>\n",
       "      <td id=\"T_ccf5b_row4_col15\" class=\"data row4 col15\" >0.000000</td>\n",
       "      <td id=\"T_ccf5b_row4_col16\" class=\"data row4 col16\" >118900.000000</td>\n",
       "      <td id=\"T_ccf5b_row4_col17\" class=\"data row4 col17\" >nan</td>\n",
       "    </tr>\n",
       "    <tr>\n",
       "      <th id=\"T_ccf5b_level0_row5\" class=\"row_heading level0 row5\" >Cosmopolitan Beauty and Tech School</th>\n",
       "      <td id=\"T_ccf5b_row5_col0\" class=\"data row5 col0\" >nan</td>\n",
       "      <td id=\"T_ccf5b_row5_col1\" class=\"data row5 col1\" >nan</td>\n",
       "      <td id=\"T_ccf5b_row5_col2\" class=\"data row5 col2\" >110.000000</td>\n",
       "      <td id=\"T_ccf5b_row5_col3\" class=\"data row5 col3\" >0.009100</td>\n",
       "      <td id=\"T_ccf5b_row5_col4\" class=\"data row5 col4\" >0.000000</td>\n",
       "      <td id=\"T_ccf5b_row5_col5\" class=\"data row5 col5\" >0.018200</td>\n",
       "      <td id=\"T_ccf5b_row5_col6\" class=\"data row5 col6\" >0.972700</td>\n",
       "      <td id=\"T_ccf5b_row5_col7\" class=\"data row5 col7\" >0.000000</td>\n",
       "      <td id=\"T_ccf5b_row5_col8\" class=\"data row5 col8\" >0.000000</td>\n",
       "      <td id=\"T_ccf5b_row5_col9\" class=\"data row5 col9\" >0.000000</td>\n",
       "      <td id=\"T_ccf5b_row5_col10\" class=\"data row5 col10\" >0.000000</td>\n",
       "      <td id=\"T_ccf5b_row5_col11\" class=\"data row5 col11\" >0.000000</td>\n",
       "      <td id=\"T_ccf5b_row5_col12\" class=\"data row5 col12\" >0.318200</td>\n",
       "      <td id=\"T_ccf5b_row5_col13\" class=\"data row5 col13\" >0.776100</td>\n",
       "      <td id=\"T_ccf5b_row5_col14\" class=\"data row5 col14\" >0.124400</td>\n",
       "      <td id=\"T_ccf5b_row5_col15\" class=\"data row5 col15\" >0.954500</td>\n",
       "      <td id=\"T_ccf5b_row5_col16\" class=\"data row5 col16\" >nan</td>\n",
       "      <td id=\"T_ccf5b_row5_col17\" class=\"data row5 col17\" >nan</td>\n",
       "    </tr>\n",
       "    <tr>\n",
       "      <th id=\"T_ccf5b_level0_row6\" class=\"row_heading level0 row6\" >Haskell Indian Nations University</th>\n",
       "      <td id=\"T_ccf5b_row6_col0\" class=\"data row6 col0\" >430.000000</td>\n",
       "      <td id=\"T_ccf5b_row6_col1\" class=\"data row6 col1\" >440.000000</td>\n",
       "      <td id=\"T_ccf5b_row6_col2\" class=\"data row6 col2\" >805.000000</td>\n",
       "      <td id=\"T_ccf5b_row6_col3\" class=\"data row6 col3\" >0.000000</td>\n",
       "      <td id=\"T_ccf5b_row6_col4\" class=\"data row6 col4\" >0.000000</td>\n",
       "      <td id=\"T_ccf5b_row6_col5\" class=\"data row6 col5\" >0.000000</td>\n",
       "      <td id=\"T_ccf5b_row6_col6\" class=\"data row6 col6\" >0.000000</td>\n",
       "      <td id=\"T_ccf5b_row6_col7\" class=\"data row6 col7\" >1.000000</td>\n",
       "      <td id=\"T_ccf5b_row6_col8\" class=\"data row6 col8\" >0.000000</td>\n",
       "      <td id=\"T_ccf5b_row6_col9\" class=\"data row6 col9\" >0.000000</td>\n",
       "      <td id=\"T_ccf5b_row6_col10\" class=\"data row6 col10\" >0.000000</td>\n",
       "      <td id=\"T_ccf5b_row6_col11\" class=\"data row6 col11\" >0.000000</td>\n",
       "      <td id=\"T_ccf5b_row6_col12\" class=\"data row6 col12\" >0.022400</td>\n",
       "      <td id=\"T_ccf5b_row6_col13\" class=\"data row6 col13\" >0.839600</td>\n",
       "      <td id=\"T_ccf5b_row6_col14\" class=\"data row6 col14\" >0.000000</td>\n",
       "      <td id=\"T_ccf5b_row6_col15\" class=\"data row6 col15\" >0.208900</td>\n",
       "      <td id=\"T_ccf5b_row6_col16\" class=\"data row6 col16\" >22800.000000</td>\n",
       "      <td id=\"T_ccf5b_row6_col17\" class=\"data row6 col17\" >nan</td>\n",
       "    </tr>\n",
       "    <tr>\n",
       "      <th id=\"T_ccf5b_level0_row7\" class=\"row_heading level0 row7\" >Palau Community College</th>\n",
       "      <td id=\"T_ccf5b_row7_col0\" class=\"data row7 col0\" >nan</td>\n",
       "      <td id=\"T_ccf5b_row7_col1\" class=\"data row7 col1\" >nan</td>\n",
       "      <td id=\"T_ccf5b_row7_col2\" class=\"data row7 col2\" >602.000000</td>\n",
       "      <td id=\"T_ccf5b_row7_col3\" class=\"data row7 col3\" >0.000000</td>\n",
       "      <td id=\"T_ccf5b_row7_col4\" class=\"data row7 col4\" >0.001700</td>\n",
       "      <td id=\"T_ccf5b_row7_col5\" class=\"data row7 col5\" >0.000000</td>\n",
       "      <td id=\"T_ccf5b_row7_col6\" class=\"data row7 col6\" >0.000000</td>\n",
       "      <td id=\"T_ccf5b_row7_col7\" class=\"data row7 col7\" >0.000000</td>\n",
       "      <td id=\"T_ccf5b_row7_col8\" class=\"data row7 col8\" >0.998300</td>\n",
       "      <td id=\"T_ccf5b_row7_col9\" class=\"data row7 col9\" >0.000000</td>\n",
       "      <td id=\"T_ccf5b_row7_col10\" class=\"data row7 col10\" >0.000000</td>\n",
       "      <td id=\"T_ccf5b_row7_col11\" class=\"data row7 col11\" >0.000000</td>\n",
       "      <td id=\"T_ccf5b_row7_col12\" class=\"data row7 col12\" >0.388700</td>\n",
       "      <td id=\"T_ccf5b_row7_col13\" class=\"data row7 col13\" >0.856000</td>\n",
       "      <td id=\"T_ccf5b_row7_col14\" class=\"data row7 col14\" >0.000000</td>\n",
       "      <td id=\"T_ccf5b_row7_col15\" class=\"data row7 col15\" >0.261600</td>\n",
       "      <td id=\"T_ccf5b_row7_col16\" class=\"data row7 col16\" >24700.000000</td>\n",
       "      <td id=\"T_ccf5b_row7_col17\" class=\"data row7 col17\" >nan</td>\n",
       "    </tr>\n",
       "    <tr>\n",
       "      <th id=\"T_ccf5b_level0_row8\" class=\"row_heading level0 row8\" >LIU Brentwood</th>\n",
       "      <td id=\"T_ccf5b_row8_col0\" class=\"data row8 col0\" >nan</td>\n",
       "      <td id=\"T_ccf5b_row8_col1\" class=\"data row8 col1\" >nan</td>\n",
       "      <td id=\"T_ccf5b_row8_col2\" class=\"data row8 col2\" >15.000000</td>\n",
       "      <td id=\"T_ccf5b_row8_col3\" class=\"data row8 col3\" >0.000000</td>\n",
       "      <td id=\"T_ccf5b_row8_col4\" class=\"data row8 col4\" >0.133300</td>\n",
       "      <td id=\"T_ccf5b_row8_col5\" class=\"data row8 col5\" >0.266700</td>\n",
       "      <td id=\"T_ccf5b_row8_col6\" class=\"data row8 col6\" >0.000000</td>\n",
       "      <td id=\"T_ccf5b_row8_col7\" class=\"data row8 col7\" >0.000000</td>\n",
       "      <td id=\"T_ccf5b_row8_col8\" class=\"data row8 col8\" >0.000000</td>\n",
       "      <td id=\"T_ccf5b_row8_col9\" class=\"data row8 col9\" >0.533300</td>\n",
       "      <td id=\"T_ccf5b_row8_col10\" class=\"data row8 col10\" >0.000000</td>\n",
       "      <td id=\"T_ccf5b_row8_col11\" class=\"data row8 col11\" >0.066700</td>\n",
       "      <td id=\"T_ccf5b_row8_col12\" class=\"data row8 col12\" >0.400000</td>\n",
       "      <td id=\"T_ccf5b_row8_col13\" class=\"data row8 col13\" >0.565200</td>\n",
       "      <td id=\"T_ccf5b_row8_col14\" class=\"data row8 col14\" >0.782600</td>\n",
       "      <td id=\"T_ccf5b_row8_col15\" class=\"data row8 col15\" >0.782600</td>\n",
       "      <td id=\"T_ccf5b_row8_col16\" class=\"data row8 col16\" >44600.000000</td>\n",
       "      <td id=\"T_ccf5b_row8_col17\" class=\"data row8 col17\" >25499.000000</td>\n",
       "    </tr>\n",
       "    <tr>\n",
       "      <th id=\"T_ccf5b_level0_row9\" class=\"row_heading level0 row9\" >California University of Management and Sciences</th>\n",
       "      <td id=\"T_ccf5b_row9_col0\" class=\"data row9 col0\" >nan</td>\n",
       "      <td id=\"T_ccf5b_row9_col1\" class=\"data row9 col1\" >nan</td>\n",
       "      <td id=\"T_ccf5b_row9_col2\" class=\"data row9 col2\" >98.000000</td>\n",
       "      <td id=\"T_ccf5b_row9_col3\" class=\"data row9 col3\" >0.010200</td>\n",
       "      <td id=\"T_ccf5b_row9_col4\" class=\"data row9 col4\" >0.020400</td>\n",
       "      <td id=\"T_ccf5b_row9_col5\" class=\"data row9 col5\" >0.000000</td>\n",
       "      <td id=\"T_ccf5b_row9_col6\" class=\"data row9 col6\" >0.040800</td>\n",
       "      <td id=\"T_ccf5b_row9_col7\" class=\"data row9 col7\" >0.000000</td>\n",
       "      <td id=\"T_ccf5b_row9_col8\" class=\"data row9 col8\" >0.000000</td>\n",
       "      <td id=\"T_ccf5b_row9_col9\" class=\"data row9 col9\" >0.000000</td>\n",
       "      <td id=\"T_ccf5b_row9_col10\" class=\"data row9 col10\" >0.928600</td>\n",
       "      <td id=\"T_ccf5b_row9_col11\" class=\"data row9 col11\" >0.000000</td>\n",
       "      <td id=\"T_ccf5b_row9_col12\" class=\"data row9 col12\" >0.000000</td>\n",
       "      <td id=\"T_ccf5b_row9_col13\" class=\"data row9 col13\" >0.092600</td>\n",
       "      <td id=\"T_ccf5b_row9_col14\" class=\"data row9 col14\" >0.055600</td>\n",
       "      <td id=\"T_ccf5b_row9_col15\" class=\"data row9 col15\" >0.685200</td>\n",
       "      <td id=\"T_ccf5b_row9_col16\" class=\"data row9 col16\" >nan</td>\n",
       "      <td id=\"T_ccf5b_row9_col17\" class=\"data row9 col17\" >nan</td>\n",
       "    </tr>\n",
       "    <tr>\n",
       "      <th id=\"T_ccf5b_level0_row10\" class=\"row_heading level0 row10\" >Le Cordon Bleu College of Culinary Arts-San Francisco</th>\n",
       "      <td id=\"T_ccf5b_row10_col0\" class=\"data row10 col0\" >nan</td>\n",
       "      <td id=\"T_ccf5b_row10_col1\" class=\"data row10 col1\" >nan</td>\n",
       "      <td id=\"T_ccf5b_row10_col2\" class=\"data row10 col2\" >442.000000</td>\n",
       "      <td id=\"T_ccf5b_row10_col3\" class=\"data row10 col3\" >0.031700</td>\n",
       "      <td id=\"T_ccf5b_row10_col4\" class=\"data row10 col4\" >0.009000</td>\n",
       "      <td id=\"T_ccf5b_row10_col5\" class=\"data row10 col5\" >0.011300</td>\n",
       "      <td id=\"T_ccf5b_row10_col6\" class=\"data row10 col6\" >0.027100</td>\n",
       "      <td id=\"T_ccf5b_row10_col7\" class=\"data row10 col7\" >0.004500</td>\n",
       "      <td id=\"T_ccf5b_row10_col8\" class=\"data row10 col8\" >0.002300</td>\n",
       "      <td id=\"T_ccf5b_row10_col9\" class=\"data row10 col9\" >0.011300</td>\n",
       "      <td id=\"T_ccf5b_row10_col10\" class=\"data row10 col10\" >0.000000</td>\n",
       "      <td id=\"T_ccf5b_row10_col11\" class=\"data row10 col11\" >0.902700</td>\n",
       "      <td id=\"T_ccf5b_row10_col12\" class=\"data row10 col12\" >0.000000</td>\n",
       "      <td id=\"T_ccf5b_row10_col13\" class=\"data row10 col13\" >0.372200</td>\n",
       "      <td id=\"T_ccf5b_row10_col14\" class=\"data row10 col14\" >0.535800</td>\n",
       "      <td id=\"T_ccf5b_row10_col15\" class=\"data row10 col15\" >0.544000</td>\n",
       "      <td id=\"T_ccf5b_row10_col16\" class=\"data row10 col16\" >34000.000000</td>\n",
       "      <td id=\"T_ccf5b_row10_col17\" class=\"data row10 col17\" >12931.000000</td>\n",
       "    </tr>\n",
       "    <tr>\n",
       "      <th id=\"T_ccf5b_level0_row11\" class=\"row_heading level0 row11\" >MTI Business College Inc</th>\n",
       "      <td id=\"T_ccf5b_row11_col0\" class=\"data row11 col0\" >nan</td>\n",
       "      <td id=\"T_ccf5b_row11_col1\" class=\"data row11 col1\" >nan</td>\n",
       "      <td id=\"T_ccf5b_row11_col2\" class=\"data row11 col2\" >146.000000</td>\n",
       "      <td id=\"T_ccf5b_row11_col3\" class=\"data row11 col3\" >0.239700</td>\n",
       "      <td id=\"T_ccf5b_row11_col4\" class=\"data row11 col4\" >0.513700</td>\n",
       "      <td id=\"T_ccf5b_row11_col5\" class=\"data row11 col5\" >0.143800</td>\n",
       "      <td id=\"T_ccf5b_row11_col6\" class=\"data row11 col6\" >0.047900</td>\n",
       "      <td id=\"T_ccf5b_row11_col7\" class=\"data row11 col7\" >0.034200</td>\n",
       "      <td id=\"T_ccf5b_row11_col8\" class=\"data row11 col8\" >0.020500</td>\n",
       "      <td id=\"T_ccf5b_row11_col9\" class=\"data row11 col9\" >0.000000</td>\n",
       "      <td id=\"T_ccf5b_row11_col10\" class=\"data row11 col10\" >0.000000</td>\n",
       "      <td id=\"T_ccf5b_row11_col11\" class=\"data row11 col11\" >0.000000</td>\n",
       "      <td id=\"T_ccf5b_row11_col12\" class=\"data row11 col12\" >0.000000</td>\n",
       "      <td id=\"T_ccf5b_row11_col13\" class=\"data row11 col13\" >1.000000</td>\n",
       "      <td id=\"T_ccf5b_row11_col14\" class=\"data row11 col14\" >1.000000</td>\n",
       "      <td id=\"T_ccf5b_row11_col15\" class=\"data row11 col15\" >0.398600</td>\n",
       "      <td id=\"T_ccf5b_row11_col16\" class=\"data row11 col16\" >23000.000000</td>\n",
       "      <td id=\"T_ccf5b_row11_col17\" class=\"data row11 col17\" >9500.000000</td>\n",
       "    </tr>\n",
       "    <tr>\n",
       "      <th id=\"T_ccf5b_level0_row12\" class=\"row_heading level0 row12\" >ABC Beauty College Inc</th>\n",
       "      <td id=\"T_ccf5b_row12_col0\" class=\"data row12 col0\" >nan</td>\n",
       "      <td id=\"T_ccf5b_row12_col1\" class=\"data row12 col1\" >nan</td>\n",
       "      <td id=\"T_ccf5b_row12_col2\" class=\"data row12 col2\" >38.000000</td>\n",
       "      <td id=\"T_ccf5b_row12_col3\" class=\"data row12 col3\" >0.289500</td>\n",
       "      <td id=\"T_ccf5b_row12_col4\" class=\"data row12 col4\" >0.657900</td>\n",
       "      <td id=\"T_ccf5b_row12_col5\" class=\"data row12 col5\" >0.052600</td>\n",
       "      <td id=\"T_ccf5b_row12_col6\" class=\"data row12 col6\" >0.000000</td>\n",
       "      <td id=\"T_ccf5b_row12_col7\" class=\"data row12 col7\" >0.000000</td>\n",
       "      <td id=\"T_ccf5b_row12_col8\" class=\"data row12 col8\" >0.000000</td>\n",
       "      <td id=\"T_ccf5b_row12_col9\" class=\"data row12 col9\" >0.000000</td>\n",
       "      <td id=\"T_ccf5b_row12_col10\" class=\"data row12 col10\" >0.000000</td>\n",
       "      <td id=\"T_ccf5b_row12_col11\" class=\"data row12 col11\" >0.000000</td>\n",
       "      <td id=\"T_ccf5b_row12_col12\" class=\"data row12 col12\" >0.210500</td>\n",
       "      <td id=\"T_ccf5b_row12_col13\" class=\"data row12 col13\" >0.981500</td>\n",
       "      <td id=\"T_ccf5b_row12_col14\" class=\"data row12 col14\" >1.000000</td>\n",
       "      <td id=\"T_ccf5b_row12_col15\" class=\"data row12 col15\" >0.468800</td>\n",
       "      <td id=\"T_ccf5b_row12_col16\" class=\"data row12 col16\" >nan</td>\n",
       "      <td id=\"T_ccf5b_row12_col17\" class=\"data row12 col17\" >16500.000000</td>\n",
       "    </tr>\n",
       "    <tr>\n",
       "      <th id=\"T_ccf5b_level0_row13\" class=\"row_heading level0 row13\" >Dongguk University-Los Angeles</th>\n",
       "      <td id=\"T_ccf5b_row13_col0\" class=\"data row13 col0\" >nan</td>\n",
       "      <td id=\"T_ccf5b_row13_col1\" class=\"data row13 col1\" >nan</td>\n",
       "      <td id=\"T_ccf5b_row13_col2\" class=\"data row13 col2\" >20.000000</td>\n",
       "      <td id=\"T_ccf5b_row13_col3\" class=\"data row13 col3\" >0.350000</td>\n",
       "      <td id=\"T_ccf5b_row13_col4\" class=\"data row13 col4\" >0.000000</td>\n",
       "      <td id=\"T_ccf5b_row13_col5\" class=\"data row13 col5\" >0.150000</td>\n",
       "      <td id=\"T_ccf5b_row13_col6\" class=\"data row13 col6\" >0.500000</td>\n",
       "      <td id=\"T_ccf5b_row13_col7\" class=\"data row13 col7\" >0.000000</td>\n",
       "      <td id=\"T_ccf5b_row13_col8\" class=\"data row13 col8\" >0.000000</td>\n",
       "      <td id=\"T_ccf5b_row13_col9\" class=\"data row13 col9\" >0.000000</td>\n",
       "      <td id=\"T_ccf5b_row13_col10\" class=\"data row13 col10\" >0.000000</td>\n",
       "      <td id=\"T_ccf5b_row13_col11\" class=\"data row13 col11\" >0.000000</td>\n",
       "      <td id=\"T_ccf5b_row13_col12\" class=\"data row13 col12\" >nan</td>\n",
       "      <td id=\"T_ccf5b_row13_col13\" class=\"data row13 col13\" >nan</td>\n",
       "      <td id=\"T_ccf5b_row13_col14\" class=\"data row13 col14\" >nan</td>\n",
       "      <td id=\"T_ccf5b_row13_col15\" class=\"data row13 col15\" >1.000000</td>\n",
       "      <td id=\"T_ccf5b_row13_col16\" class=\"data row13 col16\" >nan</td>\n",
       "      <td id=\"T_ccf5b_row13_col17\" class=\"data row13 col17\" >nan</td>\n",
       "    </tr>\n",
       "    <tr>\n",
       "      <th id=\"T_ccf5b_level0_row14\" class=\"row_heading level0 row14\" >Medical College of Wisconsin</th>\n",
       "      <td id=\"T_ccf5b_row14_col0\" class=\"data row14 col0\" >nan</td>\n",
       "      <td id=\"T_ccf5b_row14_col1\" class=\"data row14 col1\" >nan</td>\n",
       "      <td id=\"T_ccf5b_row14_col2\" class=\"data row14 col2\" >nan</td>\n",
       "      <td id=\"T_ccf5b_row14_col3\" class=\"data row14 col3\" >nan</td>\n",
       "      <td id=\"T_ccf5b_row14_col4\" class=\"data row14 col4\" >nan</td>\n",
       "      <td id=\"T_ccf5b_row14_col5\" class=\"data row14 col5\" >nan</td>\n",
       "      <td id=\"T_ccf5b_row14_col6\" class=\"data row14 col6\" >nan</td>\n",
       "      <td id=\"T_ccf5b_row14_col7\" class=\"data row14 col7\" >nan</td>\n",
       "      <td id=\"T_ccf5b_row14_col8\" class=\"data row14 col8\" >nan</td>\n",
       "      <td id=\"T_ccf5b_row14_col9\" class=\"data row14 col9\" >nan</td>\n",
       "      <td id=\"T_ccf5b_row14_col10\" class=\"data row14 col10\" >nan</td>\n",
       "      <td id=\"T_ccf5b_row14_col11\" class=\"data row14 col11\" >nan</td>\n",
       "      <td id=\"T_ccf5b_row14_col12\" class=\"data row14 col12\" >nan</td>\n",
       "      <td id=\"T_ccf5b_row14_col13\" class=\"data row14 col13\" >nan</td>\n",
       "      <td id=\"T_ccf5b_row14_col14\" class=\"data row14 col14\" >nan</td>\n",
       "      <td id=\"T_ccf5b_row14_col15\" class=\"data row14 col15\" >nan</td>\n",
       "      <td id=\"T_ccf5b_row14_col16\" class=\"data row14 col16\" >233100.000000</td>\n",
       "      <td id=\"T_ccf5b_row14_col17\" class=\"data row14 col17\" >nan</td>\n",
       "    </tr>\n",
       "    <tr>\n",
       "      <th id=\"T_ccf5b_level0_row15\" class=\"row_heading level0 row15\" >Southwest University of Visual Arts-Tucson</th>\n",
       "      <td id=\"T_ccf5b_row15_col0\" class=\"data row15 col0\" >nan</td>\n",
       "      <td id=\"T_ccf5b_row15_col1\" class=\"data row15 col1\" >nan</td>\n",
       "      <td id=\"T_ccf5b_row15_col2\" class=\"data row15 col2\" >161.000000</td>\n",
       "      <td id=\"T_ccf5b_row15_col3\" class=\"data row15 col3\" >0.453400</td>\n",
       "      <td id=\"T_ccf5b_row15_col4\" class=\"data row15 col4\" >0.043500</td>\n",
       "      <td id=\"T_ccf5b_row15_col5\" class=\"data row15 col5\" >0.316800</td>\n",
       "      <td id=\"T_ccf5b_row15_col6\" class=\"data row15 col6\" >0.006200</td>\n",
       "      <td id=\"T_ccf5b_row15_col7\" class=\"data row15 col7\" >0.031100</td>\n",
       "      <td id=\"T_ccf5b_row15_col8\" class=\"data row15 col8\" >0.000000</td>\n",
       "      <td id=\"T_ccf5b_row15_col9\" class=\"data row15 col9\" >0.000000</td>\n",
       "      <td id=\"T_ccf5b_row15_col10\" class=\"data row15 col10\" >0.000000</td>\n",
       "      <td id=\"T_ccf5b_row15_col11\" class=\"data row15 col11\" >0.149100</td>\n",
       "      <td id=\"T_ccf5b_row15_col12\" class=\"data row15 col12\" >0.279500</td>\n",
       "      <td id=\"T_ccf5b_row15_col13\" class=\"data row15 col13\" >0.446900</td>\n",
       "      <td id=\"T_ccf5b_row15_col14\" class=\"data row15 col14\" >0.429200</td>\n",
       "      <td id=\"T_ccf5b_row15_col15\" class=\"data row15 col15\" >0.865700</td>\n",
       "      <td id=\"T_ccf5b_row15_col16\" class=\"data row15 col16\" >27200.000000</td>\n",
       "      <td id=\"T_ccf5b_row15_col17\" class=\"data row15 col17\" >49750.000000</td>\n",
       "    </tr>\n",
       "  </tbody>\n",
       "</table>\n"
      ],
      "text/plain": [
       "<pandas.io.formats.style.Styler at 0x20fb7b007c0>"
      ]
     },
     "execution_count": 75,
     "metadata": {},
     "output_type": "execute_result"
    }
   ],
   "source": [
    "college_numeric2.loc[unique_max_cols].style.highlight_max()"
   ]
  },
  {
   "cell_type": "code",
   "execution_count": 76,
   "metadata": {
    "scrolled": true
   },
   "outputs": [
    {
     "data": {
      "text/html": [
       "<div>\n",
       "<style scoped>\n",
       "    .dataframe tbody tr th:only-of-type {\n",
       "        vertical-align: middle;\n",
       "    }\n",
       "\n",
       "    .dataframe tbody tr th {\n",
       "        vertical-align: top;\n",
       "    }\n",
       "\n",
       "    .dataframe thead th {\n",
       "        text-align: right;\n",
       "    }\n",
       "</style>\n",
       "<table border=\"1\" class=\"dataframe\">\n",
       "  <thead>\n",
       "    <tr style=\"text-align: right;\">\n",
       "      <th></th>\n",
       "      <th>SATVRMID</th>\n",
       "      <th>SATMTMID</th>\n",
       "      <th>UGDS</th>\n",
       "      <th>...</th>\n",
       "      <th>UG25ABV</th>\n",
       "      <th>MD_EARN_WNE_P10</th>\n",
       "      <th>GRAD_DEBT_MDN_SUPP</th>\n",
       "    </tr>\n",
       "    <tr>\n",
       "      <th>INSTNM</th>\n",
       "      <th></th>\n",
       "      <th></th>\n",
       "      <th></th>\n",
       "      <th></th>\n",
       "      <th></th>\n",
       "      <th></th>\n",
       "      <th></th>\n",
       "    </tr>\n",
       "  </thead>\n",
       "  <tbody>\n",
       "    <tr>\n",
       "      <th>California Institute of Technology</th>\n",
       "      <td>765.0</td>\n",
       "      <td>785.0</td>\n",
       "      <td>983.0</td>\n",
       "      <td>...</td>\n",
       "      <td>0.0082</td>\n",
       "      <td>77800.0</td>\n",
       "      <td>11812.5</td>\n",
       "    </tr>\n",
       "    <tr>\n",
       "      <th>California Institute of Technology</th>\n",
       "      <td>765.0</td>\n",
       "      <td>785.0</td>\n",
       "      <td>983.0</td>\n",
       "      <td>...</td>\n",
       "      <td>0.0082</td>\n",
       "      <td>77800.0</td>\n",
       "      <td>11812.5</td>\n",
       "    </tr>\n",
       "    <tr>\n",
       "      <th>University of Phoenix-Arizona</th>\n",
       "      <td>NaN</td>\n",
       "      <td>NaN</td>\n",
       "      <td>151558.0</td>\n",
       "      <td>...</td>\n",
       "      <td>NaN</td>\n",
       "      <td>NaN</td>\n",
       "      <td>33000.0</td>\n",
       "    </tr>\n",
       "    <tr>\n",
       "      <th>Mr Leon's School of Hair Design-Moscow</th>\n",
       "      <td>NaN</td>\n",
       "      <td>NaN</td>\n",
       "      <td>16.0</td>\n",
       "      <td>...</td>\n",
       "      <td>0.2000</td>\n",
       "      <td>NaN</td>\n",
       "      <td>15710.0</td>\n",
       "    </tr>\n",
       "    <tr>\n",
       "      <th>...</th>\n",
       "      <td>...</td>\n",
       "      <td>...</td>\n",
       "      <td>...</td>\n",
       "      <td>...</td>\n",
       "      <td>...</td>\n",
       "      <td>...</td>\n",
       "      <td>...</td>\n",
       "    </tr>\n",
       "    <tr>\n",
       "      <th>ABC Beauty College Inc</th>\n",
       "      <td>NaN</td>\n",
       "      <td>NaN</td>\n",
       "      <td>38.0</td>\n",
       "      <td>...</td>\n",
       "      <td>0.4688</td>\n",
       "      <td>NaN</td>\n",
       "      <td>16500.0</td>\n",
       "    </tr>\n",
       "    <tr>\n",
       "      <th>Dongguk University-Los Angeles</th>\n",
       "      <td>NaN</td>\n",
       "      <td>NaN</td>\n",
       "      <td>20.0</td>\n",
       "      <td>...</td>\n",
       "      <td>1.0000</td>\n",
       "      <td>NaN</td>\n",
       "      <td>NaN</td>\n",
       "    </tr>\n",
       "    <tr>\n",
       "      <th>Medical College of Wisconsin</th>\n",
       "      <td>NaN</td>\n",
       "      <td>NaN</td>\n",
       "      <td>NaN</td>\n",
       "      <td>...</td>\n",
       "      <td>NaN</td>\n",
       "      <td>233100.0</td>\n",
       "      <td>NaN</td>\n",
       "    </tr>\n",
       "    <tr>\n",
       "      <th>Southwest University of Visual Arts-Tucson</th>\n",
       "      <td>NaN</td>\n",
       "      <td>NaN</td>\n",
       "      <td>161.0</td>\n",
       "      <td>...</td>\n",
       "      <td>0.8657</td>\n",
       "      <td>27200.0</td>\n",
       "      <td>49750.0</td>\n",
       "    </tr>\n",
       "  </tbody>\n",
       "</table>\n",
       "<p>18 rows × 18 columns</p>\n",
       "</div>"
      ],
      "text/plain": [
       "                                            SATVRMID  SATMTMID      UGDS  ...  \\\n",
       "INSTNM                                                                    ...   \n",
       "California Institute of Technology             765.0     785.0     983.0  ...   \n",
       "California Institute of Technology             765.0     785.0     983.0  ...   \n",
       "University of Phoenix-Arizona                    NaN       NaN  151558.0  ...   \n",
       "Mr Leon's School of Hair Design-Moscow           NaN       NaN      16.0  ...   \n",
       "...                                              ...       ...       ...  ...   \n",
       "ABC Beauty College Inc                           NaN       NaN      38.0  ...   \n",
       "Dongguk University-Los Angeles                   NaN       NaN      20.0  ...   \n",
       "Medical College of Wisconsin                     NaN       NaN       NaN  ...   \n",
       "Southwest University of Visual Arts-Tucson       NaN       NaN     161.0  ...   \n",
       "\n",
       "                                            UG25ABV  MD_EARN_WNE_P10  \\\n",
       "INSTNM                                                                 \n",
       "California Institute of Technology           0.0082          77800.0   \n",
       "California Institute of Technology           0.0082          77800.0   \n",
       "University of Phoenix-Arizona                   NaN              NaN   \n",
       "Mr Leon's School of Hair Design-Moscow       0.2000              NaN   \n",
       "...                                             ...              ...   \n",
       "ABC Beauty College Inc                       0.4688              NaN   \n",
       "Dongguk University-Los Angeles               1.0000              NaN   \n",
       "Medical College of Wisconsin                    NaN         233100.0   \n",
       "Southwest University of Visual Arts-Tucson   0.8657          27200.0   \n",
       "\n",
       "                                            GRAD_DEBT_MDN_SUPP  \n",
       "INSTNM                                                          \n",
       "California Institute of Technology                     11812.5  \n",
       "California Institute of Technology                     11812.5  \n",
       "University of Phoenix-Arizona                          33000.0  \n",
       "Mr Leon's School of Hair Design-Moscow                 15710.0  \n",
       "...                                                        ...  \n",
       "ABC Beauty College Inc                                 16500.0  \n",
       "Dongguk University-Los Angeles                             NaN  \n",
       "Medical College of Wisconsin                               NaN  \n",
       "Southwest University of Visual Arts-Tucson             49750.0  \n",
       "\n",
       "[18 rows x 18 columns]"
      ]
     },
     "execution_count": 76,
     "metadata": {},
     "output_type": "execute_result"
    }
   ],
   "source": [
    "college_numeric2.loc[max_cols.values]"
   ]
  },
  {
   "cell_type": "markdown",
   "metadata": {},
   "source": [
    "The idxmax method is very powerful and becomes quite useful when the index is meaningfully labeled. It was unexpected that both MD_EARN_WNE_P10 and GRAD_DEBT_MDN_SUPP were of object data type. When importing, pandas coerces all numeric values of columns to strings if the column contains at least one string.\n",
    "\n",
    "By examining a specific column value in step 2, we were able to see clearly that we had strings in these columns. In step 3, we sort in descending order as numeric characters appear first. This elevates all alphabetical values to the top of the Series. We uncover the PrivacySuppressed string causing havoc. Pandas has the ability to force all strings that contain only numeric characters to actual numeric data types with the to_numeric function. To override the default behavior of raising an error when to_numeric encounters a string that cannot be converted, you must pass coerce to the errors parameter. This forces all non-numeric character strings to become missing values (np.nan).\n",
    "\n",
    "Several columns don't have useful or meaningful maximum values. They were removed in step 4 through step 6. The select_dtypes can be extremely useful for very wide DataFrames with lots of columns.\n",
    "\n",
    "In step 7, idxmax iterates through all the columns to find the index of the maximum value for each column. It outputs the results as a Series. The school with both the highest SAT math and verbal scores is California Institute of Technology. Dongguk University Los Angeles has the highest number of students older than 25.\n",
    "\n",
    "Although the information provided by idxmax is nice, it does not yield the corresponding maximum value. To do this, we gather all the unique school names from the values of the max_cols Series.\n",
    "\n",
    "Finally, in step 8, we use the .loc indexer to select rows based on the index label, which we made as school names in the first step. This filters for only schools that have a maximum value. DataFrames have an experimental style attribute that itself has some methods to alter the appearance of the displayed DataFrame. Highlighting the maximum value makes the result much clearer.\n",
    "\n",
    "### There's more...\n",
    "\n",
    "By default, the highlight_max method highlights the maximum value of each column. We can use the axis parameter to highlight the maximum value of each row instead. Here, we select just the race percentage columns of the college dataset and highlight the race with the highest percentage for each school:"
   ]
  },
  {
   "cell_type": "code",
   "execution_count": 77,
   "metadata": {},
   "outputs": [
    {
     "data": {
      "text/html": [
       "<style type=\"text/css\">\n",
       "#T_9817a_row0_col1, #T_9817a_row1_col0, #T_9817a_row2_col1, #T_9817a_row3_col0, #T_9817a_row4_col1 {\n",
       "  background-color: yellow;\n",
       "}\n",
       "</style>\n",
       "<table id=\"T_9817a\">\n",
       "  <thead>\n",
       "    <tr>\n",
       "      <th class=\"blank level0\" >&nbsp;</th>\n",
       "      <th id=\"T_9817a_level0_col0\" class=\"col_heading level0 col0\" >UGDS_WHITE</th>\n",
       "      <th id=\"T_9817a_level0_col1\" class=\"col_heading level0 col1\" >UGDS_BLACK</th>\n",
       "      <th id=\"T_9817a_level0_col2\" class=\"col_heading level0 col2\" >UGDS_HISP</th>\n",
       "      <th id=\"T_9817a_level0_col3\" class=\"col_heading level0 col3\" >UGDS_ASIAN</th>\n",
       "      <th id=\"T_9817a_level0_col4\" class=\"col_heading level0 col4\" >UGDS_AIAN</th>\n",
       "      <th id=\"T_9817a_level0_col5\" class=\"col_heading level0 col5\" >UGDS_NHPI</th>\n",
       "      <th id=\"T_9817a_level0_col6\" class=\"col_heading level0 col6\" >UGDS_2MOR</th>\n",
       "      <th id=\"T_9817a_level0_col7\" class=\"col_heading level0 col7\" >UGDS_NRA</th>\n",
       "      <th id=\"T_9817a_level0_col8\" class=\"col_heading level0 col8\" >UGDS_UNKN</th>\n",
       "    </tr>\n",
       "    <tr>\n",
       "      <th class=\"index_name level0\" >INSTNM</th>\n",
       "      <th class=\"blank col0\" >&nbsp;</th>\n",
       "      <th class=\"blank col1\" >&nbsp;</th>\n",
       "      <th class=\"blank col2\" >&nbsp;</th>\n",
       "      <th class=\"blank col3\" >&nbsp;</th>\n",
       "      <th class=\"blank col4\" >&nbsp;</th>\n",
       "      <th class=\"blank col5\" >&nbsp;</th>\n",
       "      <th class=\"blank col6\" >&nbsp;</th>\n",
       "      <th class=\"blank col7\" >&nbsp;</th>\n",
       "      <th class=\"blank col8\" >&nbsp;</th>\n",
       "    </tr>\n",
       "  </thead>\n",
       "  <tbody>\n",
       "    <tr>\n",
       "      <th id=\"T_9817a_level0_row0\" class=\"row_heading level0 row0\" >Alabama A & M University</th>\n",
       "      <td id=\"T_9817a_row0_col0\" class=\"data row0 col0\" >0.033300</td>\n",
       "      <td id=\"T_9817a_row0_col1\" class=\"data row0 col1\" >0.935300</td>\n",
       "      <td id=\"T_9817a_row0_col2\" class=\"data row0 col2\" >0.005500</td>\n",
       "      <td id=\"T_9817a_row0_col3\" class=\"data row0 col3\" >0.001900</td>\n",
       "      <td id=\"T_9817a_row0_col4\" class=\"data row0 col4\" >0.002400</td>\n",
       "      <td id=\"T_9817a_row0_col5\" class=\"data row0 col5\" >0.001900</td>\n",
       "      <td id=\"T_9817a_row0_col6\" class=\"data row0 col6\" >0.000000</td>\n",
       "      <td id=\"T_9817a_row0_col7\" class=\"data row0 col7\" >0.005900</td>\n",
       "      <td id=\"T_9817a_row0_col8\" class=\"data row0 col8\" >0.013800</td>\n",
       "    </tr>\n",
       "    <tr>\n",
       "      <th id=\"T_9817a_level0_row1\" class=\"row_heading level0 row1\" >University of Alabama at Birmingham</th>\n",
       "      <td id=\"T_9817a_row1_col0\" class=\"data row1 col0\" >0.592200</td>\n",
       "      <td id=\"T_9817a_row1_col1\" class=\"data row1 col1\" >0.260000</td>\n",
       "      <td id=\"T_9817a_row1_col2\" class=\"data row1 col2\" >0.028300</td>\n",
       "      <td id=\"T_9817a_row1_col3\" class=\"data row1 col3\" >0.051800</td>\n",
       "      <td id=\"T_9817a_row1_col4\" class=\"data row1 col4\" >0.002200</td>\n",
       "      <td id=\"T_9817a_row1_col5\" class=\"data row1 col5\" >0.000700</td>\n",
       "      <td id=\"T_9817a_row1_col6\" class=\"data row1 col6\" >0.036800</td>\n",
       "      <td id=\"T_9817a_row1_col7\" class=\"data row1 col7\" >0.017900</td>\n",
       "      <td id=\"T_9817a_row1_col8\" class=\"data row1 col8\" >0.010000</td>\n",
       "    </tr>\n",
       "    <tr>\n",
       "      <th id=\"T_9817a_level0_row2\" class=\"row_heading level0 row2\" >Amridge University</th>\n",
       "      <td id=\"T_9817a_row2_col0\" class=\"data row2 col0\" >0.299000</td>\n",
       "      <td id=\"T_9817a_row2_col1\" class=\"data row2 col1\" >0.419200</td>\n",
       "      <td id=\"T_9817a_row2_col2\" class=\"data row2 col2\" >0.006900</td>\n",
       "      <td id=\"T_9817a_row2_col3\" class=\"data row2 col3\" >0.003400</td>\n",
       "      <td id=\"T_9817a_row2_col4\" class=\"data row2 col4\" >0.000000</td>\n",
       "      <td id=\"T_9817a_row2_col5\" class=\"data row2 col5\" >0.000000</td>\n",
       "      <td id=\"T_9817a_row2_col6\" class=\"data row2 col6\" >0.000000</td>\n",
       "      <td id=\"T_9817a_row2_col7\" class=\"data row2 col7\" >0.000000</td>\n",
       "      <td id=\"T_9817a_row2_col8\" class=\"data row2 col8\" >0.271500</td>\n",
       "    </tr>\n",
       "    <tr>\n",
       "      <th id=\"T_9817a_level0_row3\" class=\"row_heading level0 row3\" >University of Alabama in Huntsville</th>\n",
       "      <td id=\"T_9817a_row3_col0\" class=\"data row3 col0\" >0.698800</td>\n",
       "      <td id=\"T_9817a_row3_col1\" class=\"data row3 col1\" >0.125500</td>\n",
       "      <td id=\"T_9817a_row3_col2\" class=\"data row3 col2\" >0.038200</td>\n",
       "      <td id=\"T_9817a_row3_col3\" class=\"data row3 col3\" >0.037600</td>\n",
       "      <td id=\"T_9817a_row3_col4\" class=\"data row3 col4\" >0.014300</td>\n",
       "      <td id=\"T_9817a_row3_col5\" class=\"data row3 col5\" >0.000200</td>\n",
       "      <td id=\"T_9817a_row3_col6\" class=\"data row3 col6\" >0.017200</td>\n",
       "      <td id=\"T_9817a_row3_col7\" class=\"data row3 col7\" >0.033200</td>\n",
       "      <td id=\"T_9817a_row3_col8\" class=\"data row3 col8\" >0.035000</td>\n",
       "    </tr>\n",
       "    <tr>\n",
       "      <th id=\"T_9817a_level0_row4\" class=\"row_heading level0 row4\" >Alabama State University</th>\n",
       "      <td id=\"T_9817a_row4_col0\" class=\"data row4 col0\" >0.015800</td>\n",
       "      <td id=\"T_9817a_row4_col1\" class=\"data row4 col1\" >0.920800</td>\n",
       "      <td id=\"T_9817a_row4_col2\" class=\"data row4 col2\" >0.012100</td>\n",
       "      <td id=\"T_9817a_row4_col3\" class=\"data row4 col3\" >0.001900</td>\n",
       "      <td id=\"T_9817a_row4_col4\" class=\"data row4 col4\" >0.001000</td>\n",
       "      <td id=\"T_9817a_row4_col5\" class=\"data row4 col5\" >0.000600</td>\n",
       "      <td id=\"T_9817a_row4_col6\" class=\"data row4 col6\" >0.009800</td>\n",
       "      <td id=\"T_9817a_row4_col7\" class=\"data row4 col7\" >0.024300</td>\n",
       "      <td id=\"T_9817a_row4_col8\" class=\"data row4 col8\" >0.013700</td>\n",
       "    </tr>\n",
       "  </tbody>\n",
       "</table>\n"
      ],
      "text/plain": [
       "<pandas.io.formats.style.Styler at 0x20fbacebd30>"
      ]
     },
     "execution_count": 77,
     "metadata": {},
     "output_type": "execute_result"
    }
   ],
   "source": [
    "college = pd.read_csv('data/college.csv', index_col='INSTNM')\n",
    "college_ugds = college.filter(like='UGDS_').head()\n",
    "college_ugds.style.highlight_max(axis='columns')\n"
   ]
  },
  {
   "cell_type": "markdown",
   "metadata": {},
   "source": [
    "# Replicating idxmax with method chaining\n",
    "It can be a good exercise to attempt an implementation of a built-in DataFrame method on your own. This type of replication can give you a deeper understanding of other pandas methods that you normally wouldn't have come across. idxmax is a challenging method to replicate using only the methods covered thus far in the book.\n",
    "\n",
    "### Getting ready\n",
    "\n",
    "This recipe slowly chains together basic methods to eventually find all the row index values that contain a maximum column value.\n",
    "\n",
    "### How to do it...\n",
    "\n",
    "Load in the college dataset and execute the same operations as the previous recipe to get only the numeric columns that are of interest:"
   ]
  },
  {
   "cell_type": "code",
   "execution_count": 78,
   "metadata": {},
   "outputs": [],
   "source": [
    "college = pd.read_csv('data/college.csv', index_col='INSTNM')\n",
    "college['MD_EARN_WNE_P10'] = pd.to_numeric(college.MD_EARN_WNE_P10, errors='coerce')\n",
    "college['GRAD_DEBT_MDN_SUPP'] = pd.to_numeric(college.GRAD_DEBT_MDN_SUPP, errors='coerce')\n",
    "college_numeric = college.select_dtypes(include=[np.number])\n",
    "criteria = college_numeric.nunique() == 2\n",
    "binary_cols = college_numeric.columns[criteria].tolist()\n",
    "college_numeric = college_numeric.drop(labels=binary_cols, axis='columns')"
   ]
  },
  {
   "cell_type": "markdown",
   "metadata": {},
   "source": [
    "Find the maximum of each column with the max method:"
   ]
  },
  {
   "cell_type": "code",
   "execution_count": 79,
   "metadata": {},
   "outputs": [
    {
     "data": {
      "text/plain": [
       "SATVRMID         765.0\n",
       "SATMTMID         785.0\n",
       "UGDS          151558.0\n",
       "UGDS_WHITE         1.0\n",
       "UGDS_BLACK         1.0\n",
       "dtype: float64"
      ]
     },
     "execution_count": 79,
     "metadata": {},
     "output_type": "execute_result"
    }
   ],
   "source": [
    "college_numeric.max().head()"
   ]
  },
  {
   "cell_type": "markdown",
   "metadata": {},
   "source": [
    "Use the eq DataFrame method to test each value with its column max. By default, the eq method aligns the columns of the column DataFrame with the labels of the passed Series index:\n"
   ]
  },
  {
   "cell_type": "code",
   "execution_count": 80,
   "metadata": {},
   "outputs": [
    {
     "data": {
      "text/html": [
       "<div>\n",
       "<style scoped>\n",
       "    .dataframe tbody tr th:only-of-type {\n",
       "        vertical-align: middle;\n",
       "    }\n",
       "\n",
       "    .dataframe tbody tr th {\n",
       "        vertical-align: top;\n",
       "    }\n",
       "\n",
       "    .dataframe thead th {\n",
       "        text-align: right;\n",
       "    }\n",
       "</style>\n",
       "<table border=\"1\" class=\"dataframe\">\n",
       "  <thead>\n",
       "    <tr style=\"text-align: right;\">\n",
       "      <th></th>\n",
       "      <th>SATVRMID</th>\n",
       "      <th>SATMTMID</th>\n",
       "      <th>UGDS</th>\n",
       "      <th>...</th>\n",
       "      <th>UG25ABV</th>\n",
       "      <th>MD_EARN_WNE_P10</th>\n",
       "      <th>GRAD_DEBT_MDN_SUPP</th>\n",
       "    </tr>\n",
       "    <tr>\n",
       "      <th>INSTNM</th>\n",
       "      <th></th>\n",
       "      <th></th>\n",
       "      <th></th>\n",
       "      <th></th>\n",
       "      <th></th>\n",
       "      <th></th>\n",
       "      <th></th>\n",
       "    </tr>\n",
       "  </thead>\n",
       "  <tbody>\n",
       "    <tr>\n",
       "      <th>Alabama A &amp; M University</th>\n",
       "      <td>False</td>\n",
       "      <td>False</td>\n",
       "      <td>False</td>\n",
       "      <td>...</td>\n",
       "      <td>False</td>\n",
       "      <td>False</td>\n",
       "      <td>False</td>\n",
       "    </tr>\n",
       "    <tr>\n",
       "      <th>University of Alabama at Birmingham</th>\n",
       "      <td>False</td>\n",
       "      <td>False</td>\n",
       "      <td>False</td>\n",
       "      <td>...</td>\n",
       "      <td>False</td>\n",
       "      <td>False</td>\n",
       "      <td>False</td>\n",
       "    </tr>\n",
       "    <tr>\n",
       "      <th>Amridge University</th>\n",
       "      <td>False</td>\n",
       "      <td>False</td>\n",
       "      <td>False</td>\n",
       "      <td>...</td>\n",
       "      <td>False</td>\n",
       "      <td>False</td>\n",
       "      <td>False</td>\n",
       "    </tr>\n",
       "    <tr>\n",
       "      <th>University of Alabama in Huntsville</th>\n",
       "      <td>False</td>\n",
       "      <td>False</td>\n",
       "      <td>False</td>\n",
       "      <td>...</td>\n",
       "      <td>False</td>\n",
       "      <td>False</td>\n",
       "      <td>False</td>\n",
       "    </tr>\n",
       "    <tr>\n",
       "      <th>Alabama State University</th>\n",
       "      <td>False</td>\n",
       "      <td>False</td>\n",
       "      <td>False</td>\n",
       "      <td>...</td>\n",
       "      <td>False</td>\n",
       "      <td>False</td>\n",
       "      <td>False</td>\n",
       "    </tr>\n",
       "  </tbody>\n",
       "</table>\n",
       "<p>5 rows × 18 columns</p>\n",
       "</div>"
      ],
      "text/plain": [
       "                                     SATVRMID  SATMTMID   UGDS  ...  UG25ABV  \\\n",
       "INSTNM                                                          ...            \n",
       "Alabama A & M University                False     False  False  ...    False   \n",
       "University of Alabama at Birmingham     False     False  False  ...    False   \n",
       "Amridge University                      False     False  False  ...    False   \n",
       "University of Alabama in Huntsville     False     False  False  ...    False   \n",
       "Alabama State University                False     False  False  ...    False   \n",
       "\n",
       "                                     MD_EARN_WNE_P10  GRAD_DEBT_MDN_SUPP  \n",
       "INSTNM                                                                    \n",
       "Alabama A & M University                       False               False  \n",
       "University of Alabama at Birmingham            False               False  \n",
       "Amridge University                             False               False  \n",
       "University of Alabama in Huntsville            False               False  \n",
       "Alabama State University                       False               False  \n",
       "\n",
       "[5 rows x 18 columns]"
      ]
     },
     "execution_count": 80,
     "metadata": {},
     "output_type": "execute_result"
    }
   ],
   "source": [
    "college_numeric.eq(college_numeric.max()).head()"
   ]
  },
  {
   "cell_type": "markdown",
   "metadata": {},
   "source": [
    "All the rows in this DataFrame that have at least one True value must contain a column maximum. Let's use the any method to find all such rows that have at least one True value:\n"
   ]
  },
  {
   "cell_type": "code",
   "execution_count": 81,
   "metadata": {},
   "outputs": [
    {
     "data": {
      "text/plain": [
       "INSTNM\n",
       "Alabama A & M University               False\n",
       "University of Alabama at Birmingham    False\n",
       "Amridge University                     False\n",
       "University of Alabama in Huntsville    False\n",
       "Alabama State University               False\n",
       "dtype: bool"
      ]
     },
     "execution_count": 81,
     "metadata": {},
     "output_type": "execute_result"
    }
   ],
   "source": [
    "has_row_max =college_numeric.eq(college_numeric.max()).any(axis='columns')\n",
    "has_row_max.head()"
   ]
  },
  {
   "cell_type": "markdown",
   "metadata": {},
   "source": [
    "There are only 18 columns, which means that there should only be at most 18 True values in has_row_max. Let's find out how many there actually are:"
   ]
  },
  {
   "cell_type": "code",
   "execution_count": 82,
   "metadata": {},
   "outputs": [
    {
     "data": {
      "text/plain": [
       "(7535, 18)"
      ]
     },
     "execution_count": 82,
     "metadata": {},
     "output_type": "execute_result"
    }
   ],
   "source": [
    "college_numeric.shape"
   ]
  },
  {
   "cell_type": "markdown",
   "metadata": {},
   "source": [
    "This was a bit unexpected, but it turns out that there are columns with many rows that equal the maximum value. This is common with many of the percentage columns that have a maximum of 1. idxmax returns the first occurrence of the maximum value. Let's back up a bit, remove the any method, and look at the output from step 3. Let's run the cumsum method instead to accumulate all the True values. The first and last three rows are shown:"
   ]
  },
  {
   "cell_type": "code",
   "execution_count": 83,
   "metadata": {},
   "outputs": [
    {
     "data": {
      "text/plain": [
       "401"
      ]
     },
     "execution_count": 83,
     "metadata": {},
     "output_type": "execute_result"
    }
   ],
   "source": [
    "has_row_max.sum()"
   ]
  },
  {
   "cell_type": "code",
   "execution_count": 84,
   "metadata": {},
   "outputs": [
    {
     "data": {
      "text/plain": [
       "INSTNM\n",
       "Thunderbird School of Global Management             True\n",
       "Southwest University of Visual Arts-Tucson          True\n",
       "ABC Beauty College Inc                              True\n",
       "Velvatex College of Beauty Culture                  True\n",
       "                                                    ... \n",
       "Palau Community College                             True\n",
       "California University of Management and Sciences    True\n",
       "Cosmopolitan Beauty and Tech School                 True\n",
       "University of Phoenix-Arizona                       True\n",
       "Length: 16, dtype: bool"
      ]
     },
     "execution_count": 84,
     "metadata": {},
     "output_type": "execute_result"
    }
   ],
   "source": [
    "college_numeric.eq(college_numeric.max()).cumsum().cumsum().eq(1).any(axis='columns')[lambda x: x]"
   ]
  },
  {
   "cell_type": "code",
   "execution_count": 85,
   "metadata": {},
   "outputs": [
    {
     "name": "stdout",
     "output_type": "stream",
     "text": [
      "1.01 ms ± 25.6 µs per loop (mean ± std. dev. of 7 runs, 1,000 loops each)\n"
     ]
    }
   ],
   "source": [
    "%timeit college_numeric2.idxmax()"
   ]
  },
  {
   "cell_type": "code",
   "execution_count": 86,
   "metadata": {},
   "outputs": [
    {
     "data": {
      "text/plain": [
       "\u001b[1;31mSignature:\u001b[0m\n",
       "\u001b[0mcollege_numeric2\u001b[0m\u001b[1;33m.\u001b[0m\u001b[0midxmax\u001b[0m\u001b[1;33m(\u001b[0m\u001b[1;33m\n",
       "\u001b[0m    \u001b[0maxis\u001b[0m\u001b[1;33m:\u001b[0m \u001b[1;34m'Axis'\u001b[0m \u001b[1;33m=\u001b[0m \u001b[1;36m0\u001b[0m\u001b[1;33m,\u001b[0m\u001b[1;33m\n",
       "\u001b[0m    \u001b[0mskipna\u001b[0m\u001b[1;33m:\u001b[0m \u001b[1;34m'bool'\u001b[0m \u001b[1;33m=\u001b[0m \u001b[1;32mTrue\u001b[0m\u001b[1;33m,\u001b[0m\u001b[1;33m\n",
       "\u001b[0m    \u001b[0mnumeric_only\u001b[0m\u001b[1;33m:\u001b[0m \u001b[1;34m'bool'\u001b[0m \u001b[1;33m=\u001b[0m \u001b[1;32mFalse\u001b[0m\u001b[1;33m,\u001b[0m\u001b[1;33m\n",
       "\u001b[0m\u001b[1;33m)\u001b[0m \u001b[1;33m->\u001b[0m \u001b[1;34m'Series'\u001b[0m\u001b[1;33m\u001b[0m\u001b[1;33m\u001b[0m\u001b[0m\n",
       "\u001b[1;31mDocstring:\u001b[0m\n",
       "Return index of first occurrence of maximum over requested axis.\n",
       "\n",
       "NA/null values are excluded.\n",
       "\n",
       "Parameters\n",
       "----------\n",
       "axis : {0 or 'index', 1 or 'columns'}, default 0\n",
       "    The axis to use. 0 or 'index' for row-wise, 1 or 'columns' for column-wise.\n",
       "skipna : bool, default True\n",
       "    Exclude NA/null values. If an entire row/column is NA, the result\n",
       "    will be NA.\n",
       "numeric_only : bool, default False\n",
       "    Include only `float`, `int` or `boolean` data.\n",
       "\n",
       "    .. versionadded:: 1.5.0\n",
       "\n",
       "Returns\n",
       "-------\n",
       "Series\n",
       "    Indexes of maxima along the specified axis.\n",
       "\n",
       "Raises\n",
       "------\n",
       "ValueError\n",
       "    * If the row/column is empty\n",
       "\n",
       "See Also\n",
       "--------\n",
       "Series.idxmax : Return index of the maximum element.\n",
       "\n",
       "Notes\n",
       "-----\n",
       "This method is the DataFrame version of ``ndarray.argmax``.\n",
       "\n",
       "Examples\n",
       "--------\n",
       "Consider a dataset containing food consumption in Argentina.\n",
       "\n",
       ">>> df = pd.DataFrame({'consumption': [10.51, 103.11, 55.48],\n",
       "...                     'co2_emissions': [37.2, 19.66, 1712]},\n",
       "...                   index=['Pork', 'Wheat Products', 'Beef'])\n",
       "\n",
       ">>> df\n",
       "                consumption  co2_emissions\n",
       "Pork                  10.51         37.20\n",
       "Wheat Products       103.11         19.66\n",
       "Beef                  55.48       1712.00\n",
       "\n",
       "By default, it returns the index for the maximum value in each column.\n",
       "\n",
       ">>> df.idxmax()\n",
       "consumption     Wheat Products\n",
       "co2_emissions             Beef\n",
       "dtype: object\n",
       "\n",
       "To return the index for the maximum value in each row, use ``axis=\"columns\"``.\n",
       "\n",
       ">>> df.idxmax(axis=\"columns\")\n",
       "Pork              co2_emissions\n",
       "Wheat Products     consumption\n",
       "Beef              co2_emissions\n",
       "dtype: object\n",
       "\u001b[1;31mSource:\u001b[0m   \n",
       "    \u001b[1;33m@\u001b[0m\u001b[0mdoc\u001b[0m\u001b[1;33m(\u001b[0m\u001b[0m_shared_docs\u001b[0m\u001b[1;33m[\u001b[0m\u001b[1;34m\"idxmax\"\u001b[0m\u001b[1;33m]\u001b[0m\u001b[1;33m,\u001b[0m \u001b[0mnumeric_only_default\u001b[0m\u001b[1;33m=\u001b[0m\u001b[1;34m\"False\"\u001b[0m\u001b[1;33m)\u001b[0m\u001b[1;33m\n",
       "\u001b[0m    \u001b[1;32mdef\u001b[0m \u001b[0midxmax\u001b[0m\u001b[1;33m(\u001b[0m\u001b[1;33m\n",
       "\u001b[0m        \u001b[0mself\u001b[0m\u001b[1;33m,\u001b[0m \u001b[0maxis\u001b[0m\u001b[1;33m:\u001b[0m \u001b[0mAxis\u001b[0m \u001b[1;33m=\u001b[0m \u001b[1;36m0\u001b[0m\u001b[1;33m,\u001b[0m \u001b[0mskipna\u001b[0m\u001b[1;33m:\u001b[0m \u001b[0mbool\u001b[0m \u001b[1;33m=\u001b[0m \u001b[1;32mTrue\u001b[0m\u001b[1;33m,\u001b[0m \u001b[0mnumeric_only\u001b[0m\u001b[1;33m:\u001b[0m \u001b[0mbool\u001b[0m \u001b[1;33m=\u001b[0m \u001b[1;32mFalse\u001b[0m\u001b[1;33m\n",
       "\u001b[0m    \u001b[1;33m)\u001b[0m \u001b[1;33m->\u001b[0m \u001b[0mSeries\u001b[0m\u001b[1;33m:\u001b[0m\u001b[1;33m\n",
       "\u001b[0m        \u001b[0maxis\u001b[0m \u001b[1;33m=\u001b[0m \u001b[0mself\u001b[0m\u001b[1;33m.\u001b[0m\u001b[0m_get_axis_number\u001b[0m\u001b[1;33m(\u001b[0m\u001b[0maxis\u001b[0m\u001b[1;33m)\u001b[0m\u001b[1;33m\n",
       "\u001b[0m\u001b[1;33m\n",
       "\u001b[0m        \u001b[1;32mif\u001b[0m \u001b[0mself\u001b[0m\u001b[1;33m.\u001b[0m\u001b[0mempty\u001b[0m \u001b[1;32mand\u001b[0m \u001b[0mlen\u001b[0m\u001b[1;33m(\u001b[0m\u001b[0mself\u001b[0m\u001b[1;33m.\u001b[0m\u001b[0maxes\u001b[0m\u001b[1;33m[\u001b[0m\u001b[0maxis\u001b[0m\u001b[1;33m]\u001b[0m\u001b[1;33m)\u001b[0m\u001b[1;33m:\u001b[0m\u001b[1;33m\n",
       "\u001b[0m            \u001b[0maxis_dtype\u001b[0m \u001b[1;33m=\u001b[0m \u001b[0mself\u001b[0m\u001b[1;33m.\u001b[0m\u001b[0maxes\u001b[0m\u001b[1;33m[\u001b[0m\u001b[0maxis\u001b[0m\u001b[1;33m]\u001b[0m\u001b[1;33m.\u001b[0m\u001b[0mdtype\u001b[0m\u001b[1;33m\n",
       "\u001b[0m            \u001b[1;32mreturn\u001b[0m \u001b[0mself\u001b[0m\u001b[1;33m.\u001b[0m\u001b[0m_constructor_sliced\u001b[0m\u001b[1;33m(\u001b[0m\u001b[0mdtype\u001b[0m\u001b[1;33m=\u001b[0m\u001b[0maxis_dtype\u001b[0m\u001b[1;33m)\u001b[0m\u001b[1;33m\n",
       "\u001b[0m\u001b[1;33m\n",
       "\u001b[0m        \u001b[1;32mif\u001b[0m \u001b[0mnumeric_only\u001b[0m\u001b[1;33m:\u001b[0m\u001b[1;33m\n",
       "\u001b[0m            \u001b[0mdata\u001b[0m \u001b[1;33m=\u001b[0m \u001b[0mself\u001b[0m\u001b[1;33m.\u001b[0m\u001b[0m_get_numeric_data\u001b[0m\u001b[1;33m(\u001b[0m\u001b[1;33m)\u001b[0m\u001b[1;33m\n",
       "\u001b[0m        \u001b[1;32melse\u001b[0m\u001b[1;33m:\u001b[0m\u001b[1;33m\n",
       "\u001b[0m            \u001b[0mdata\u001b[0m \u001b[1;33m=\u001b[0m \u001b[0mself\u001b[0m\u001b[1;33m\n",
       "\u001b[0m\u001b[1;33m\n",
       "\u001b[0m        \u001b[0mres\u001b[0m \u001b[1;33m=\u001b[0m \u001b[0mdata\u001b[0m\u001b[1;33m.\u001b[0m\u001b[0m_reduce\u001b[0m\u001b[1;33m(\u001b[0m\u001b[1;33m\n",
       "\u001b[0m            \u001b[0mnanops\u001b[0m\u001b[1;33m.\u001b[0m\u001b[0mnanargmax\u001b[0m\u001b[1;33m,\u001b[0m \u001b[1;34m\"argmax\"\u001b[0m\u001b[1;33m,\u001b[0m \u001b[0maxis\u001b[0m\u001b[1;33m=\u001b[0m\u001b[0maxis\u001b[0m\u001b[1;33m,\u001b[0m \u001b[0mskipna\u001b[0m\u001b[1;33m=\u001b[0m\u001b[0mskipna\u001b[0m\u001b[1;33m,\u001b[0m \u001b[0mnumeric_only\u001b[0m\u001b[1;33m=\u001b[0m\u001b[1;32mFalse\u001b[0m\u001b[1;33m\n",
       "\u001b[0m        \u001b[1;33m)\u001b[0m\u001b[1;33m\n",
       "\u001b[0m        \u001b[0mindices\u001b[0m \u001b[1;33m=\u001b[0m \u001b[0mres\u001b[0m\u001b[1;33m.\u001b[0m\u001b[0m_values\u001b[0m\u001b[1;33m\n",
       "\u001b[0m        \u001b[1;31m# indices will always be 1d array since axis is not None\u001b[0m\u001b[1;33m\n",
       "\u001b[0m\u001b[1;33m\n",
       "\u001b[0m        \u001b[1;32mif\u001b[0m \u001b[1;33m(\u001b[0m\u001b[0mindices\u001b[0m \u001b[1;33m==\u001b[0m \u001b[1;33m-\u001b[0m\u001b[1;36m1\u001b[0m\u001b[1;33m)\u001b[0m\u001b[1;33m.\u001b[0m\u001b[0many\u001b[0m\u001b[1;33m(\u001b[0m\u001b[1;33m)\u001b[0m\u001b[1;33m:\u001b[0m\u001b[1;33m\n",
       "\u001b[0m            \u001b[0mwarnings\u001b[0m\u001b[1;33m.\u001b[0m\u001b[0mwarn\u001b[0m\u001b[1;33m(\u001b[0m\u001b[1;33m\n",
       "\u001b[0m                \u001b[1;34mf\"The behavior of {type(self).__name__}.idxmax with all-NA \"\u001b[0m\u001b[1;33m\n",
       "\u001b[0m                \u001b[1;34m\"values, or any-NA and skipna=False, is deprecated. In a future \"\u001b[0m\u001b[1;33m\n",
       "\u001b[0m                \u001b[1;34m\"version this will raise ValueError\"\u001b[0m\u001b[1;33m,\u001b[0m\u001b[1;33m\n",
       "\u001b[0m                \u001b[0mFutureWarning\u001b[0m\u001b[1;33m,\u001b[0m\u001b[1;33m\n",
       "\u001b[0m                \u001b[0mstacklevel\u001b[0m\u001b[1;33m=\u001b[0m\u001b[0mfind_stack_level\u001b[0m\u001b[1;33m(\u001b[0m\u001b[1;33m)\u001b[0m\u001b[1;33m,\u001b[0m\u001b[1;33m\n",
       "\u001b[0m            \u001b[1;33m)\u001b[0m\u001b[1;33m\n",
       "\u001b[0m\u001b[1;33m\n",
       "\u001b[0m        \u001b[0mindex\u001b[0m \u001b[1;33m=\u001b[0m \u001b[0mdata\u001b[0m\u001b[1;33m.\u001b[0m\u001b[0m_get_axis\u001b[0m\u001b[1;33m(\u001b[0m\u001b[0maxis\u001b[0m\u001b[1;33m)\u001b[0m\u001b[1;33m\n",
       "\u001b[0m        \u001b[0mresult\u001b[0m \u001b[1;33m=\u001b[0m \u001b[0malgorithms\u001b[0m\u001b[1;33m.\u001b[0m\u001b[0mtake\u001b[0m\u001b[1;33m(\u001b[0m\u001b[1;33m\n",
       "\u001b[0m            \u001b[0mindex\u001b[0m\u001b[1;33m.\u001b[0m\u001b[0m_values\u001b[0m\u001b[1;33m,\u001b[0m \u001b[0mindices\u001b[0m\u001b[1;33m,\u001b[0m \u001b[0mallow_fill\u001b[0m\u001b[1;33m=\u001b[0m\u001b[1;32mTrue\u001b[0m\u001b[1;33m,\u001b[0m \u001b[0mfill_value\u001b[0m\u001b[1;33m=\u001b[0m\u001b[0mindex\u001b[0m\u001b[1;33m.\u001b[0m\u001b[0m_na_value\u001b[0m\u001b[1;33m\n",
       "\u001b[0m        \u001b[1;33m)\u001b[0m\u001b[1;33m\n",
       "\u001b[0m        \u001b[0mfinal_result\u001b[0m \u001b[1;33m=\u001b[0m \u001b[0mdata\u001b[0m\u001b[1;33m.\u001b[0m\u001b[0m_constructor_sliced\u001b[0m\u001b[1;33m(\u001b[0m\u001b[0mresult\u001b[0m\u001b[1;33m,\u001b[0m \u001b[0mindex\u001b[0m\u001b[1;33m=\u001b[0m\u001b[0mdata\u001b[0m\u001b[1;33m.\u001b[0m\u001b[0m_get_agg_axis\u001b[0m\u001b[1;33m(\u001b[0m\u001b[0maxis\u001b[0m\u001b[1;33m)\u001b[0m\u001b[1;33m)\u001b[0m\u001b[1;33m\n",
       "\u001b[0m        \u001b[1;32mreturn\u001b[0m \u001b[0mfinal_result\u001b[0m\u001b[1;33m.\u001b[0m\u001b[0m__finalize__\u001b[0m\u001b[1;33m(\u001b[0m\u001b[0mself\u001b[0m\u001b[1;33m,\u001b[0m \u001b[0mmethod\u001b[0m\u001b[1;33m=\u001b[0m\u001b[1;34m\"idxmax\"\u001b[0m\u001b[1;33m)\u001b[0m\u001b[1;33m\u001b[0m\u001b[1;33m\u001b[0m\u001b[0m\n",
       "\u001b[1;31mFile:\u001b[0m      c:\\users\\sumanth\\anaconda3\\envs\\stablediffusion\\lib\\site-packages\\pandas\\core\\frame.py\n",
       "\u001b[1;31mType:\u001b[0m      method"
      ]
     },
     "metadata": {},
     "output_type": "display_data"
    }
   ],
   "source": [
    "college_numeric2.idxmax??"
   ]
  },
  {
   "cell_type": "code",
   "execution_count": 87,
   "metadata": {},
   "outputs": [],
   "source": [
    "pd.options.display.max_rows=6"
   ]
  },
  {
   "cell_type": "code",
   "execution_count": 88,
   "metadata": {},
   "outputs": [
    {
     "data": {
      "text/html": [
       "<div>\n",
       "<style scoped>\n",
       "    .dataframe tbody tr th:only-of-type {\n",
       "        vertical-align: middle;\n",
       "    }\n",
       "\n",
       "    .dataframe tbody tr th {\n",
       "        vertical-align: top;\n",
       "    }\n",
       "\n",
       "    .dataframe thead th {\n",
       "        text-align: right;\n",
       "    }\n",
       "</style>\n",
       "<table border=\"1\" class=\"dataframe\">\n",
       "  <thead>\n",
       "    <tr style=\"text-align: right;\">\n",
       "      <th></th>\n",
       "      <th>SATVRMID</th>\n",
       "      <th>SATMTMID</th>\n",
       "      <th>UGDS</th>\n",
       "      <th>...</th>\n",
       "      <th>UG25ABV</th>\n",
       "      <th>MD_EARN_WNE_P10</th>\n",
       "      <th>GRAD_DEBT_MDN_SUPP</th>\n",
       "    </tr>\n",
       "    <tr>\n",
       "      <th>INSTNM</th>\n",
       "      <th></th>\n",
       "      <th></th>\n",
       "      <th></th>\n",
       "      <th></th>\n",
       "      <th></th>\n",
       "      <th></th>\n",
       "      <th></th>\n",
       "    </tr>\n",
       "  </thead>\n",
       "  <tbody>\n",
       "    <tr>\n",
       "      <th>Alabama A &amp; M University</th>\n",
       "      <td>0</td>\n",
       "      <td>0</td>\n",
       "      <td>0</td>\n",
       "      <td>...</td>\n",
       "      <td>0</td>\n",
       "      <td>0</td>\n",
       "      <td>0</td>\n",
       "    </tr>\n",
       "    <tr>\n",
       "      <th>University of Alabama at Birmingham</th>\n",
       "      <td>0</td>\n",
       "      <td>0</td>\n",
       "      <td>0</td>\n",
       "      <td>...</td>\n",
       "      <td>0</td>\n",
       "      <td>0</td>\n",
       "      <td>0</td>\n",
       "    </tr>\n",
       "    <tr>\n",
       "      <th>Amridge University</th>\n",
       "      <td>0</td>\n",
       "      <td>0</td>\n",
       "      <td>0</td>\n",
       "      <td>...</td>\n",
       "      <td>0</td>\n",
       "      <td>0</td>\n",
       "      <td>0</td>\n",
       "    </tr>\n",
       "    <tr>\n",
       "      <th>...</th>\n",
       "      <td>...</td>\n",
       "      <td>...</td>\n",
       "      <td>...</td>\n",
       "      <td>...</td>\n",
       "      <td>...</td>\n",
       "      <td>...</td>\n",
       "      <td>...</td>\n",
       "    </tr>\n",
       "    <tr>\n",
       "      <th>National Personal Training Institute of Cleveland</th>\n",
       "      <td>1</td>\n",
       "      <td>1</td>\n",
       "      <td>1</td>\n",
       "      <td>...</td>\n",
       "      <td>12</td>\n",
       "      <td>1</td>\n",
       "      <td>2</td>\n",
       "    </tr>\n",
       "    <tr>\n",
       "      <th>Bay Area Medical Academy - San Jose Satellite Location</th>\n",
       "      <td>1</td>\n",
       "      <td>1</td>\n",
       "      <td>1</td>\n",
       "      <td>...</td>\n",
       "      <td>12</td>\n",
       "      <td>1</td>\n",
       "      <td>2</td>\n",
       "    </tr>\n",
       "    <tr>\n",
       "      <th>Excel Learning Center-San Antonio South</th>\n",
       "      <td>1</td>\n",
       "      <td>1</td>\n",
       "      <td>1</td>\n",
       "      <td>...</td>\n",
       "      <td>12</td>\n",
       "      <td>1</td>\n",
       "      <td>2</td>\n",
       "    </tr>\n",
       "  </tbody>\n",
       "</table>\n",
       "<p>7535 rows × 18 columns</p>\n",
       "</div>"
      ],
      "text/plain": [
       "                                                    SATVRMID  SATMTMID  UGDS  \\\n",
       "INSTNM                                                                         \n",
       "Alabama A & M University                                   0         0     0   \n",
       "University of Alabama at Birmingham                        0         0     0   \n",
       "Amridge University                                         0         0     0   \n",
       "...                                                      ...       ...   ...   \n",
       "National Personal Training Institute of Cleveland          1         1     1   \n",
       "Bay Area Medical Academy - San Jose Satellite L...         1         1     1   \n",
       "Excel Learning Center-San Antonio South                    1         1     1   \n",
       "\n",
       "                                                    ...  UG25ABV  \\\n",
       "INSTNM                                              ...            \n",
       "Alabama A & M University                            ...        0   \n",
       "University of Alabama at Birmingham                 ...        0   \n",
       "Amridge University                                  ...        0   \n",
       "...                                                 ...      ...   \n",
       "National Personal Training Institute of Cleveland   ...       12   \n",
       "Bay Area Medical Academy - San Jose Satellite L...  ...       12   \n",
       "Excel Learning Center-San Antonio South             ...       12   \n",
       "\n",
       "                                                    MD_EARN_WNE_P10  \\\n",
       "INSTNM                                                                \n",
       "Alabama A & M University                                          0   \n",
       "University of Alabama at Birmingham                               0   \n",
       "Amridge University                                                0   \n",
       "...                                                             ...   \n",
       "National Personal Training Institute of Cleveland                 1   \n",
       "Bay Area Medical Academy - San Jose Satellite L...                1   \n",
       "Excel Learning Center-San Antonio South                           1   \n",
       "\n",
       "                                                    GRAD_DEBT_MDN_SUPP  \n",
       "INSTNM                                                                  \n",
       "Alabama A & M University                                             0  \n",
       "University of Alabama at Birmingham                                  0  \n",
       "Amridge University                                                   0  \n",
       "...                                                                ...  \n",
       "National Personal Training Institute of Cleveland                    2  \n",
       "Bay Area Medical Academy - San Jose Satellite L...                   2  \n",
       "Excel Learning Center-San Antonio South                              2  \n",
       "\n",
       "[7535 rows x 18 columns]"
      ]
     },
     "execution_count": 88,
     "metadata": {},
     "output_type": "execute_result"
    }
   ],
   "source": [
    "college_numeric.eq(college_numeric.max()).cumsum()"
   ]
  },
  {
   "cell_type": "markdown",
   "metadata": {},
   "source": [
    "Some columns have one unique maximum like SATVRMID and SATMTMID, while others like UGDS_WHITE have many. 109 schools have 100% of their undergraduates as white. If we chain the cumsum method one more time, the value 1 would only appear once in each column and it would be the first occurrence of the maximum:\n"
   ]
  },
  {
   "cell_type": "code",
   "execution_count": 89,
   "metadata": {},
   "outputs": [
    {
     "data": {
      "text/html": [
       "<div>\n",
       "<style scoped>\n",
       "    .dataframe tbody tr th:only-of-type {\n",
       "        vertical-align: middle;\n",
       "    }\n",
       "\n",
       "    .dataframe tbody tr th {\n",
       "        vertical-align: top;\n",
       "    }\n",
       "\n",
       "    .dataframe thead th {\n",
       "        text-align: right;\n",
       "    }\n",
       "</style>\n",
       "<table border=\"1\" class=\"dataframe\">\n",
       "  <thead>\n",
       "    <tr style=\"text-align: right;\">\n",
       "      <th></th>\n",
       "      <th>SATVRMID</th>\n",
       "      <th>SATMTMID</th>\n",
       "      <th>UGDS</th>\n",
       "      <th>...</th>\n",
       "      <th>UG25ABV</th>\n",
       "      <th>MD_EARN_WNE_P10</th>\n",
       "      <th>GRAD_DEBT_MDN_SUPP</th>\n",
       "    </tr>\n",
       "    <tr>\n",
       "      <th>INSTNM</th>\n",
       "      <th></th>\n",
       "      <th></th>\n",
       "      <th></th>\n",
       "      <th></th>\n",
       "      <th></th>\n",
       "      <th></th>\n",
       "      <th></th>\n",
       "    </tr>\n",
       "  </thead>\n",
       "  <tbody>\n",
       "    <tr>\n",
       "      <th>Alabama A &amp; M University</th>\n",
       "      <td>0</td>\n",
       "      <td>0</td>\n",
       "      <td>0</td>\n",
       "      <td>...</td>\n",
       "      <td>0</td>\n",
       "      <td>0</td>\n",
       "      <td>0</td>\n",
       "    </tr>\n",
       "    <tr>\n",
       "      <th>University of Alabama at Birmingham</th>\n",
       "      <td>0</td>\n",
       "      <td>0</td>\n",
       "      <td>0</td>\n",
       "      <td>...</td>\n",
       "      <td>0</td>\n",
       "      <td>0</td>\n",
       "      <td>0</td>\n",
       "    </tr>\n",
       "    <tr>\n",
       "      <th>Amridge University</th>\n",
       "      <td>0</td>\n",
       "      <td>0</td>\n",
       "      <td>0</td>\n",
       "      <td>...</td>\n",
       "      <td>0</td>\n",
       "      <td>0</td>\n",
       "      <td>0</td>\n",
       "    </tr>\n",
       "    <tr>\n",
       "      <th>...</th>\n",
       "      <td>...</td>\n",
       "      <td>...</td>\n",
       "      <td>...</td>\n",
       "      <td>...</td>\n",
       "      <td>...</td>\n",
       "      <td>...</td>\n",
       "      <td>...</td>\n",
       "    </tr>\n",
       "    <tr>\n",
       "      <th>National Personal Training Institute of Cleveland</th>\n",
       "      <td>7307</td>\n",
       "      <td>7307</td>\n",
       "      <td>417</td>\n",
       "      <td>...</td>\n",
       "      <td>36207</td>\n",
       "      <td>3447</td>\n",
       "      <td>10270</td>\n",
       "    </tr>\n",
       "    <tr>\n",
       "      <th>Bay Area Medical Academy - San Jose Satellite Location</th>\n",
       "      <td>7308</td>\n",
       "      <td>7308</td>\n",
       "      <td>418</td>\n",
       "      <td>...</td>\n",
       "      <td>36219</td>\n",
       "      <td>3448</td>\n",
       "      <td>10272</td>\n",
       "    </tr>\n",
       "    <tr>\n",
       "      <th>Excel Learning Center-San Antonio South</th>\n",
       "      <td>7309</td>\n",
       "      <td>7309</td>\n",
       "      <td>419</td>\n",
       "      <td>...</td>\n",
       "      <td>36231</td>\n",
       "      <td>3449</td>\n",
       "      <td>10274</td>\n",
       "    </tr>\n",
       "  </tbody>\n",
       "</table>\n",
       "<p>7535 rows × 18 columns</p>\n",
       "</div>"
      ],
      "text/plain": [
       "                                                    SATVRMID  SATMTMID  UGDS  \\\n",
       "INSTNM                                                                         \n",
       "Alabama A & M University                                   0         0     0   \n",
       "University of Alabama at Birmingham                        0         0     0   \n",
       "Amridge University                                         0         0     0   \n",
       "...                                                      ...       ...   ...   \n",
       "National Personal Training Institute of Cleveland       7307      7307   417   \n",
       "Bay Area Medical Academy - San Jose Satellite L...      7308      7308   418   \n",
       "Excel Learning Center-San Antonio South                 7309      7309   419   \n",
       "\n",
       "                                                    ...  UG25ABV  \\\n",
       "INSTNM                                              ...            \n",
       "Alabama A & M University                            ...        0   \n",
       "University of Alabama at Birmingham                 ...        0   \n",
       "Amridge University                                  ...        0   \n",
       "...                                                 ...      ...   \n",
       "National Personal Training Institute of Cleveland   ...    36207   \n",
       "Bay Area Medical Academy - San Jose Satellite L...  ...    36219   \n",
       "Excel Learning Center-San Antonio South             ...    36231   \n",
       "\n",
       "                                                    MD_EARN_WNE_P10  \\\n",
       "INSTNM                                                                \n",
       "Alabama A & M University                                          0   \n",
       "University of Alabama at Birmingham                               0   \n",
       "Amridge University                                                0   \n",
       "...                                                             ...   \n",
       "National Personal Training Institute of Cleveland              3447   \n",
       "Bay Area Medical Academy - San Jose Satellite L...             3448   \n",
       "Excel Learning Center-San Antonio South                        3449   \n",
       "\n",
       "                                                    GRAD_DEBT_MDN_SUPP  \n",
       "INSTNM                                                                  \n",
       "Alabama A & M University                                             0  \n",
       "University of Alabama at Birmingham                                  0  \n",
       "Amridge University                                                   0  \n",
       "...                                                                ...  \n",
       "National Personal Training Institute of Cleveland                10270  \n",
       "Bay Area Medical Academy - San Jose Satellite L...               10272  \n",
       "Excel Learning Center-San Antonio South                          10274  \n",
       "\n",
       "[7535 rows x 18 columns]"
      ]
     },
     "execution_count": 89,
     "metadata": {},
     "output_type": "execute_result"
    }
   ],
   "source": [
    "college_numeric.eq(college_numeric.max()).cumsum().cumsum()"
   ]
  },
  {
   "cell_type": "markdown",
   "metadata": {},
   "source": [
    "We can now test the equality of each value against 1 with the eq method and then use the any method to find rows that have at least one True value"
   ]
  },
  {
   "cell_type": "code",
   "execution_count": 90,
   "metadata": {},
   "outputs": [
    {
     "data": {
      "text/html": [
       "<div>\n",
       "<style scoped>\n",
       "    .dataframe tbody tr th:only-of-type {\n",
       "        vertical-align: middle;\n",
       "    }\n",
       "\n",
       "    .dataframe tbody tr th {\n",
       "        vertical-align: top;\n",
       "    }\n",
       "\n",
       "    .dataframe thead th {\n",
       "        text-align: right;\n",
       "    }\n",
       "</style>\n",
       "<table border=\"1\" class=\"dataframe\">\n",
       "  <thead>\n",
       "    <tr style=\"text-align: right;\">\n",
       "      <th></th>\n",
       "      <th>SATVRMID</th>\n",
       "      <th>SATMTMID</th>\n",
       "      <th>UGDS</th>\n",
       "      <th>...</th>\n",
       "      <th>UG25ABV</th>\n",
       "      <th>MD_EARN_WNE_P10</th>\n",
       "      <th>GRAD_DEBT_MDN_SUPP</th>\n",
       "    </tr>\n",
       "    <tr>\n",
       "      <th>INSTNM</th>\n",
       "      <th></th>\n",
       "      <th></th>\n",
       "      <th></th>\n",
       "      <th></th>\n",
       "      <th></th>\n",
       "      <th></th>\n",
       "      <th></th>\n",
       "    </tr>\n",
       "  </thead>\n",
       "  <tbody>\n",
       "    <tr>\n",
       "      <th>Alabama A &amp; M University</th>\n",
       "      <td>0</td>\n",
       "      <td>0</td>\n",
       "      <td>0</td>\n",
       "      <td>...</td>\n",
       "      <td>0</td>\n",
       "      <td>0</td>\n",
       "      <td>0</td>\n",
       "    </tr>\n",
       "    <tr>\n",
       "      <th>University of Alabama at Birmingham</th>\n",
       "      <td>0</td>\n",
       "      <td>0</td>\n",
       "      <td>0</td>\n",
       "      <td>...</td>\n",
       "      <td>0</td>\n",
       "      <td>0</td>\n",
       "      <td>0</td>\n",
       "    </tr>\n",
       "    <tr>\n",
       "      <th>Amridge University</th>\n",
       "      <td>0</td>\n",
       "      <td>0</td>\n",
       "      <td>0</td>\n",
       "      <td>...</td>\n",
       "      <td>0</td>\n",
       "      <td>0</td>\n",
       "      <td>0</td>\n",
       "    </tr>\n",
       "    <tr>\n",
       "      <th>...</th>\n",
       "      <td>...</td>\n",
       "      <td>...</td>\n",
       "      <td>...</td>\n",
       "      <td>...</td>\n",
       "      <td>...</td>\n",
       "      <td>...</td>\n",
       "      <td>...</td>\n",
       "    </tr>\n",
       "    <tr>\n",
       "      <th>National Personal Training Institute of Cleveland</th>\n",
       "      <td>7307</td>\n",
       "      <td>7307</td>\n",
       "      <td>417</td>\n",
       "      <td>...</td>\n",
       "      <td>36207</td>\n",
       "      <td>3447</td>\n",
       "      <td>10270</td>\n",
       "    </tr>\n",
       "    <tr>\n",
       "      <th>Bay Area Medical Academy - San Jose Satellite Location</th>\n",
       "      <td>7308</td>\n",
       "      <td>7308</td>\n",
       "      <td>418</td>\n",
       "      <td>...</td>\n",
       "      <td>36219</td>\n",
       "      <td>3448</td>\n",
       "      <td>10272</td>\n",
       "    </tr>\n",
       "    <tr>\n",
       "      <th>Excel Learning Center-San Antonio South</th>\n",
       "      <td>7309</td>\n",
       "      <td>7309</td>\n",
       "      <td>419</td>\n",
       "      <td>...</td>\n",
       "      <td>36231</td>\n",
       "      <td>3449</td>\n",
       "      <td>10274</td>\n",
       "    </tr>\n",
       "  </tbody>\n",
       "</table>\n",
       "<p>7535 rows × 18 columns</p>\n",
       "</div>"
      ],
      "text/plain": [
       "                                                    SATVRMID  SATMTMID  UGDS  \\\n",
       "INSTNM                                                                         \n",
       "Alabama A & M University                                   0         0     0   \n",
       "University of Alabama at Birmingham                        0         0     0   \n",
       "Amridge University                                         0         0     0   \n",
       "...                                                      ...       ...   ...   \n",
       "National Personal Training Institute of Cleveland       7307      7307   417   \n",
       "Bay Area Medical Academy - San Jose Satellite L...      7308      7308   418   \n",
       "Excel Learning Center-San Antonio South                 7309      7309   419   \n",
       "\n",
       "                                                    ...  UG25ABV  \\\n",
       "INSTNM                                              ...            \n",
       "Alabama A & M University                            ...        0   \n",
       "University of Alabama at Birmingham                 ...        0   \n",
       "Amridge University                                  ...        0   \n",
       "...                                                 ...      ...   \n",
       "National Personal Training Institute of Cleveland   ...    36207   \n",
       "Bay Area Medical Academy - San Jose Satellite L...  ...    36219   \n",
       "Excel Learning Center-San Antonio South             ...    36231   \n",
       "\n",
       "                                                    MD_EARN_WNE_P10  \\\n",
       "INSTNM                                                                \n",
       "Alabama A & M University                                          0   \n",
       "University of Alabama at Birmingham                               0   \n",
       "Amridge University                                                0   \n",
       "...                                                             ...   \n",
       "National Personal Training Institute of Cleveland              3447   \n",
       "Bay Area Medical Academy - San Jose Satellite L...             3448   \n",
       "Excel Learning Center-San Antonio South                        3449   \n",
       "\n",
       "                                                    GRAD_DEBT_MDN_SUPP  \n",
       "INSTNM                                                                  \n",
       "Alabama A & M University                                             0  \n",
       "University of Alabama at Birmingham                                  0  \n",
       "Amridge University                                                   0  \n",
       "...                                                                ...  \n",
       "National Personal Training Institute of Cleveland                10270  \n",
       "Bay Area Medical Academy - San Jose Satellite L...               10272  \n",
       "Excel Learning Center-San Antonio South                          10274  \n",
       "\n",
       "[7535 rows x 18 columns]"
      ]
     },
     "execution_count": 90,
     "metadata": {},
     "output_type": "execute_result"
    }
   ],
   "source": [
    "college_numeric.eq(college_numeric.max()).cumsum().cumsum()"
   ]
  },
  {
   "cell_type": "markdown",
   "metadata": {},
   "source": [
    "We can now test the equality of each value against 1 with the eq method and then use the any method to find rows that have at least one True value:"
   ]
  },
  {
   "cell_type": "code",
   "execution_count": 91,
   "metadata": {},
   "outputs": [
    {
     "data": {
      "text/plain": [
       "INSTNM\n",
       "Alabama A & M University               False\n",
       "University of Alabama at Birmingham    False\n",
       "Amridge University                     False\n",
       "University of Alabama in Huntsville    False\n",
       "Alabama State University               False\n",
       "dtype: bool"
      ]
     },
     "execution_count": 91,
     "metadata": {},
     "output_type": "execute_result"
    }
   ],
   "source": [
    "college_idxmax = college_numeric.eq(college_numeric.max())\\\n",
    "                                .cumsum()\\\n",
    "                                .cumsum()\\\n",
    "                                .eq(1)\\\n",
    "                                .any(axis='columns')\n",
    "college_idxmax.head()"
   ]
  },
  {
   "cell_type": "markdown",
   "metadata": {},
   "source": [
    "We need all the institutions where has_row_max2 is True. We can simply use boolean indexing on the Series itself:"
   ]
  },
  {
   "cell_type": "code",
   "execution_count": 92,
   "metadata": {},
   "outputs": [
    {
     "data": {
      "text/plain": [
       "Index(['Thunderbird School of Global Management',\n",
       "       'Southwest University of Visual Arts-Tucson', 'ABC Beauty College Inc',\n",
       "       'Velvatex College of Beauty Culture',\n",
       "       'California Institute of Technology',\n",
       "       'Le Cordon Bleu College of Culinary Arts-San Francisco',\n",
       "       'MTI Business College Inc', 'Dongguk University-Los Angeles',\n",
       "       'Mr Leon's School of Hair Design-Moscow',\n",
       "       'Haskell Indian Nations University', 'LIU Brentwood',\n",
       "       'Medical College of Wisconsin', 'Palau Community College',\n",
       "       'California University of Management and Sciences',\n",
       "       'Cosmopolitan Beauty and Tech School', 'University of Phoenix-Arizona'],\n",
       "      dtype='object', name='INSTNM')"
      ]
     },
     "execution_count": 92,
     "metadata": {},
     "output_type": "execute_result"
    }
   ],
   "source": [
    "idxmax_cols = college_idxmax[college_idxmax].index\n",
    "idxmax_cols"
   ]
  },
  {
   "cell_type": "markdown",
   "metadata": {},
   "source": [
    "All 16 of these institutions are the index of the first maximum occurrence for at least one of the columns. We can check whether they are the same as the ones found with the idxmax method:"
   ]
  },
  {
   "cell_type": "code",
   "execution_count": 93,
   "metadata": {},
   "outputs": [
    {
     "data": {
      "text/plain": [
       "True"
      ]
     },
     "execution_count": 93,
     "metadata": {},
     "output_type": "execute_result"
    }
   ],
   "source": [
    "set(college_numeric.idxmax().unique()) == set(idxmax_cols)"
   ]
  },
  {
   "cell_type": "markdown",
   "metadata": {
    "collapsed": true,
    "jupyter": {
     "outputs_hidden": true
    }
   },
   "source": [
    "The first step replicates work from the previous recipe by converting two columns to numeric and eliminating the binary columns. We find the maximum value of each column in step 2. Care needs to be taken here as pandas silently drops columns that it cannot produce a maximum. If this happens, then step 3 will still complete but produce all False values for each column without an available maximum.\n",
    "\n",
    "Step 4 uses the any method to scan across each row in search of at least one True value. Any row with at least one True value contains a maximum value for a column. We sum up the resulting boolean Series in step 5 to determine how many rows contain a maximum. Somewhat unexpectedly, there are far more rows than columns. Step 6 gives insight on why this happens. We take a cumulative sum of the output from step 3 and detect the total number of rows that equal the maximum for each column.\n",
    "\n",
    "Many colleges have 100% of their student population as only a single race. This is by far the largest contributor to the multiple rows with maximums. As you can see, there is only one row with a maximum value for both SAT score columns and undergraduate population, but several of the race columns have a tie for the maximum.\n",
    "\n",
    "Our goal is to find the first row with the maximum value. We need to take the cumulative sum once more so that each column has only a single row equal to 1. Step 8 formats the code to have one method per line and runs the any method exactly as it was done in step 4. If this step is successful, then we should have no more Truevalues than the number of columns. Step 9 asserts that this is true.\n",
    "\n",
    "To validate that we have found the same columns as idxmaxin the previous columns, we use boolean selection on has_row_max2 with itself. The columns will be in a different order so we convert the sequence of column names to sets, which are inherently unordered to compare equality.\n",
    "\n",
    "\n",
    "\n"
   ]
  },
  {
   "cell_type": "markdown",
   "metadata": {},
   "source": [
    "# Finding the most common maximum\n",
    "\n",
    "The college dataset contains the undergraduate population percentage of eight different races for over 7,500 colleges. It would be interesting to find the race with the highest undergrad population for each school and then find the distribution of this result for the entire dataset. We would be able to answer a question like, What percentage of institutions have more white students than any other race?\n",
    "\n",
    "### Getting ready\n",
    "\n",
    "In this recipe, we find the race with the highest percentage of the undergraduate population for each school with the idxmax method and then find the distribution of these maximums.\n",
    "\n",
    "### How to do it...\n",
    "\n",
    "Read in the college dataset and select just those columns with undergraduate race percentage information:"
   ]
  },
  {
   "cell_type": "code",
   "execution_count": 94,
   "metadata": {},
   "outputs": [
    {
     "data": {
      "text/html": [
       "<div>\n",
       "<style scoped>\n",
       "    .dataframe tbody tr th:only-of-type {\n",
       "        vertical-align: middle;\n",
       "    }\n",
       "\n",
       "    .dataframe tbody tr th {\n",
       "        vertical-align: top;\n",
       "    }\n",
       "\n",
       "    .dataframe thead th {\n",
       "        text-align: right;\n",
       "    }\n",
       "</style>\n",
       "<table border=\"1\" class=\"dataframe\">\n",
       "  <thead>\n",
       "    <tr style=\"text-align: right;\">\n",
       "      <th></th>\n",
       "      <th>UGDS_WHITE</th>\n",
       "      <th>UGDS_BLACK</th>\n",
       "      <th>UGDS_HISP</th>\n",
       "      <th>...</th>\n",
       "      <th>UGDS_2MOR</th>\n",
       "      <th>UGDS_NRA</th>\n",
       "      <th>UGDS_UNKN</th>\n",
       "    </tr>\n",
       "    <tr>\n",
       "      <th>INSTNM</th>\n",
       "      <th></th>\n",
       "      <th></th>\n",
       "      <th></th>\n",
       "      <th></th>\n",
       "      <th></th>\n",
       "      <th></th>\n",
       "      <th></th>\n",
       "    </tr>\n",
       "  </thead>\n",
       "  <tbody>\n",
       "    <tr>\n",
       "      <th>Alabama A &amp; M University</th>\n",
       "      <td>0.0333</td>\n",
       "      <td>0.9353</td>\n",
       "      <td>0.0055</td>\n",
       "      <td>...</td>\n",
       "      <td>0.0000</td>\n",
       "      <td>0.0059</td>\n",
       "      <td>0.0138</td>\n",
       "    </tr>\n",
       "    <tr>\n",
       "      <th>University of Alabama at Birmingham</th>\n",
       "      <td>0.5922</td>\n",
       "      <td>0.2600</td>\n",
       "      <td>0.0283</td>\n",
       "      <td>...</td>\n",
       "      <td>0.0368</td>\n",
       "      <td>0.0179</td>\n",
       "      <td>0.0100</td>\n",
       "    </tr>\n",
       "    <tr>\n",
       "      <th>Amridge University</th>\n",
       "      <td>0.2990</td>\n",
       "      <td>0.4192</td>\n",
       "      <td>0.0069</td>\n",
       "      <td>...</td>\n",
       "      <td>0.0000</td>\n",
       "      <td>0.0000</td>\n",
       "      <td>0.2715</td>\n",
       "    </tr>\n",
       "    <tr>\n",
       "      <th>University of Alabama in Huntsville</th>\n",
       "      <td>0.6988</td>\n",
       "      <td>0.1255</td>\n",
       "      <td>0.0382</td>\n",
       "      <td>...</td>\n",
       "      <td>0.0172</td>\n",
       "      <td>0.0332</td>\n",
       "      <td>0.0350</td>\n",
       "    </tr>\n",
       "    <tr>\n",
       "      <th>Alabama State University</th>\n",
       "      <td>0.0158</td>\n",
       "      <td>0.9208</td>\n",
       "      <td>0.0121</td>\n",
       "      <td>...</td>\n",
       "      <td>0.0098</td>\n",
       "      <td>0.0243</td>\n",
       "      <td>0.0137</td>\n",
       "    </tr>\n",
       "  </tbody>\n",
       "</table>\n",
       "<p>5 rows × 9 columns</p>\n",
       "</div>"
      ],
      "text/plain": [
       "                                     UGDS_WHITE  UGDS_BLACK  UGDS_HISP  ...  \\\n",
       "INSTNM                                                                  ...   \n",
       "Alabama A & M University                 0.0333      0.9353     0.0055  ...   \n",
       "University of Alabama at Birmingham      0.5922      0.2600     0.0283  ...   \n",
       "Amridge University                       0.2990      0.4192     0.0069  ...   \n",
       "University of Alabama in Huntsville      0.6988      0.1255     0.0382  ...   \n",
       "Alabama State University                 0.0158      0.9208     0.0121  ...   \n",
       "\n",
       "                                     UGDS_2MOR  UGDS_NRA  UGDS_UNKN  \n",
       "INSTNM                                                               \n",
       "Alabama A & M University                0.0000    0.0059     0.0138  \n",
       "University of Alabama at Birmingham     0.0368    0.0179     0.0100  \n",
       "Amridge University                      0.0000    0.0000     0.2715  \n",
       "University of Alabama in Huntsville     0.0172    0.0332     0.0350  \n",
       "Alabama State University                0.0098    0.0243     0.0137  \n",
       "\n",
       "[5 rows x 9 columns]"
      ]
     },
     "execution_count": 94,
     "metadata": {},
     "output_type": "execute_result"
    }
   ],
   "source": [
    "college = pd.read_csv('data/college.csv', index_col='INSTNM')\n",
    "college_ugds = college.filter(like='UGDS_')\n",
    "college_ugds.head()"
   ]
  },
  {
   "cell_type": "markdown",
   "metadata": {},
   "source": [
    "Use the idxmax method to get the column name with the highest race percentage for each row:"
   ]
  },
  {
   "cell_type": "code",
   "execution_count": 95,
   "metadata": {},
   "outputs": [
    {
     "name": "stderr",
     "output_type": "stream",
     "text": [
      "C:\\Users\\Sumanth\\AppData\\Local\\Temp\\ipykernel_11984\\3405558469.py:1: FutureWarning: The behavior of DataFrame.idxmax with all-NA values, or any-NA and skipna=False, is deprecated. In a future version this will raise ValueError\n",
      "  highest_percentage_race = college_ugds.idxmax(axis='columns')\n"
     ]
    },
    {
     "data": {
      "text/plain": [
       "INSTNM\n",
       "Alabama A & M University               UGDS_BLACK\n",
       "University of Alabama at Birmingham    UGDS_WHITE\n",
       "Amridge University                     UGDS_BLACK\n",
       "University of Alabama in Huntsville    UGDS_WHITE\n",
       "Alabama State University               UGDS_BLACK\n",
       "dtype: object"
      ]
     },
     "execution_count": 95,
     "metadata": {},
     "output_type": "execute_result"
    }
   ],
   "source": [
    "highest_percentage_race = college_ugds.idxmax(axis='columns')\n",
    "highest_percentage_race.head()"
   ]
  },
  {
   "cell_type": "markdown",
   "metadata": {},
   "source": [
    "Use the value_counts method to return the distribution of maximum occurrences:"
   ]
  },
  {
   "cell_type": "code",
   "execution_count": 96,
   "metadata": {},
   "outputs": [
    {
     "data": {
      "text/plain": [
       "UGDS_WHITE    0.670352\n",
       "UGDS_BLACK    0.151586\n",
       "UGDS_HISP     0.129473\n",
       "                ...   \n",
       "UGDS_NRA      0.004073\n",
       "UGDS_NHPI     0.001746\n",
       "UGDS_2MOR     0.001164\n",
       "Name: proportion, Length: 9, dtype: float64"
      ]
     },
     "execution_count": 96,
     "metadata": {},
     "output_type": "execute_result"
    }
   ],
   "source": [
    "highest_percentage_race.value_counts(normalize=True)"
   ]
  },
  {
   "cell_type": "markdown",
   "metadata": {},
   "source": [
    "### How it works...\n",
    "\n",
    "The key to this recipe is recognizing that the columns all represent the same unit of information. We can compare these columns with each other, which is usually not the case. For instance, it wouldn't make sense to directly compare SAT verbal scores with the undergraduate population. As the data is structured in this manner, we can apply the idxmax method to each row of data to find the column with the largest value. We need to alter its default behavior with the axis parameter.\n",
    "\n",
    "Step 2 completes this operation and returns a Series, to which we can now simply apply the value_counts method to return the distribution. We pass True to the normalize parameter as we are interested in the distribution (relative frequency) and not the raw counts.\n",
    "\n",
    "### There's more...\n",
    "\n",
    "We might want to explore more and answer the question: For the schools with more black students than any other race, what is the distribution of its second highest race percentage?\n",
    "\n"
   ]
  },
  {
   "cell_type": "code",
   "execution_count": 97,
   "metadata": {},
   "outputs": [
    {
     "data": {
      "text/plain": [
       "UGDS_WHITE    0.661228\n",
       "UGDS_HISP     0.230326\n",
       "UGDS_UNKN     0.071977\n",
       "                ...   \n",
       "UGDS_2MOR     0.006718\n",
       "UGDS_AIAN     0.000960\n",
       "UGDS_NHPI     0.000960\n",
       "Name: proportion, Length: 8, dtype: float64"
      ]
     },
     "execution_count": 97,
     "metadata": {},
     "output_type": "execute_result"
    }
   ],
   "source": [
    "college_black = college_ugds[highest_percentage_race == 'UGDS_BLACK']\n",
    "college_black = college_black.drop('UGDS_BLACK', axis='columns')\n",
    "college_black.idxmax(axis='columns').value_counts(normalize=True)"
   ]
  },
  {
   "cell_type": "markdown",
   "metadata": {},
   "source": [
    "We needed to drop the UGDS_BLACK column before applying the same method from this recipe. Interestingly, it seems that these schools with higher black populations have a tendency to have higher Hispanic populations."
   ]
  },
  {
   "cell_type": "code",
   "execution_count": null,
   "metadata": {},
   "outputs": [],
   "source": []
  },
  {
   "cell_type": "code",
   "execution_count": null,
   "metadata": {},
   "outputs": [],
   "source": []
  }
 ],
 "metadata": {
  "kernelspec": {
   "display_name": "Python 3 (ipykernel)",
   "language": "python",
   "name": "python3"
  },
  "language_info": {
   "codemirror_mode": {
    "name": "ipython",
    "version": 3
   },
   "file_extension": ".py",
   "mimetype": "text/x-python",
   "name": "python",
   "nbconvert_exporter": "python",
   "pygments_lexer": "ipython3",
   "version": "3.10.13"
  }
 },
 "nbformat": 4,
 "nbformat_minor": 4
}
